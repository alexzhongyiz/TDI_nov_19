{
 "cells": [
  {
   "cell_type": "code",
   "execution_count": 1,
   "metadata": {
    "collapsed": true
   },
   "outputs": [],
   "source": [
    "import pandas as pd\n",
    "import sys\n",
    "import os\n",
    "import numpy as np\n",
    "import matplotlib.pyplot as plt\n"
   ]
  },
  {
   "cell_type": "code",
   "execution_count": 2,
   "metadata": {
    "collapsed": true
   },
   "outputs": [],
   "source": [
    "df = pd.read_csv('Arrest_Data_from_2010_to_Present.csv')"
   ]
  },
  {
   "cell_type": "code",
   "execution_count": 3,
   "metadata": {},
   "outputs": [
    {
     "name": "stdout",
     "output_type": "stream",
     "text": [
      "(1310127, 17)\n"
     ]
    },
    {
     "data": {
      "text/html": [
       "<div>\n",
       "<style scoped>\n",
       "    .dataframe tbody tr th:only-of-type {\n",
       "        vertical-align: middle;\n",
       "    }\n",
       "\n",
       "    .dataframe tbody tr th {\n",
       "        vertical-align: top;\n",
       "    }\n",
       "\n",
       "    .dataframe thead th {\n",
       "        text-align: right;\n",
       "    }\n",
       "</style>\n",
       "<table border=\"1\" class=\"dataframe\">\n",
       "  <thead>\n",
       "    <tr style=\"text-align: right;\">\n",
       "      <th></th>\n",
       "      <th>Report ID</th>\n",
       "      <th>Arrest Date</th>\n",
       "      <th>Time</th>\n",
       "      <th>Area ID</th>\n",
       "      <th>Area Name</th>\n",
       "      <th>Reporting District</th>\n",
       "      <th>Age</th>\n",
       "      <th>Sex Code</th>\n",
       "      <th>Descent Code</th>\n",
       "      <th>Charge Group Code</th>\n",
       "      <th>Charge Group Description</th>\n",
       "      <th>Arrest Type Code</th>\n",
       "      <th>Charge</th>\n",
       "      <th>Charge Description</th>\n",
       "      <th>Address</th>\n",
       "      <th>Cross Street</th>\n",
       "      <th>Location</th>\n",
       "    </tr>\n",
       "  </thead>\n",
       "  <tbody>\n",
       "    <tr>\n",
       "      <td>0</td>\n",
       "      <td>4248313</td>\n",
       "      <td>02/24/2015</td>\n",
       "      <td>1310.0</td>\n",
       "      <td>20</td>\n",
       "      <td>Olympic</td>\n",
       "      <td>2022</td>\n",
       "      <td>37</td>\n",
       "      <td>M</td>\n",
       "      <td>H</td>\n",
       "      <td>5.0</td>\n",
       "      <td>Burglary</td>\n",
       "      <td>F</td>\n",
       "      <td>459PC</td>\n",
       "      <td>BURGLARY</td>\n",
       "      <td>5TH</td>\n",
       "      <td>WILTON</td>\n",
       "      <td>(34.0653, -118.314)</td>\n",
       "    </tr>\n",
       "    <tr>\n",
       "      <td>1</td>\n",
       "      <td>191811472</td>\n",
       "      <td>05/03/2019</td>\n",
       "      <td>1700.0</td>\n",
       "      <td>18</td>\n",
       "      <td>Southeast</td>\n",
       "      <td>1802</td>\n",
       "      <td>23</td>\n",
       "      <td>F</td>\n",
       "      <td>B</td>\n",
       "      <td>NaN</td>\n",
       "      <td>NaN</td>\n",
       "      <td>M</td>\n",
       "      <td>653.22 PC</td>\n",
       "      <td>NaN</td>\n",
       "      <td>91ST</td>\n",
       "      <td>FIGUEROA</td>\n",
       "      <td>(33.9543, -118.2827)</td>\n",
       "    </tr>\n",
       "    <tr>\n",
       "      <td>2</td>\n",
       "      <td>4254777</td>\n",
       "      <td>02/26/2015</td>\n",
       "      <td>2010.0</td>\n",
       "      <td>19</td>\n",
       "      <td>Mission</td>\n",
       "      <td>1985</td>\n",
       "      <td>22</td>\n",
       "      <td>M</td>\n",
       "      <td>H</td>\n",
       "      <td>6.0</td>\n",
       "      <td>Larceny</td>\n",
       "      <td>M</td>\n",
       "      <td>459.5PC</td>\n",
       "      <td>SHOPLIFTING</td>\n",
       "      <td>8300    VAN NUYS                     BL</td>\n",
       "      <td>NaN</td>\n",
       "      <td>(34.2216, -118.4488)</td>\n",
       "    </tr>\n",
       "    <tr>\n",
       "      <td>3</td>\n",
       "      <td>5614161</td>\n",
       "      <td>04/29/2019</td>\n",
       "      <td>1040.0</td>\n",
       "      <td>8</td>\n",
       "      <td>West LA</td>\n",
       "      <td>842</td>\n",
       "      <td>41</td>\n",
       "      <td>M</td>\n",
       "      <td>H</td>\n",
       "      <td>3.0</td>\n",
       "      <td>Robbery</td>\n",
       "      <td>F</td>\n",
       "      <td>211PC</td>\n",
       "      <td>ROBBERY</td>\n",
       "      <td>11600    WILSHIRE                     BL</td>\n",
       "      <td>NaN</td>\n",
       "      <td>(34.0508, -118.4592)</td>\n",
       "    </tr>\n",
       "    <tr>\n",
       "      <td>4</td>\n",
       "      <td>5615197</td>\n",
       "      <td>04/30/2019</td>\n",
       "      <td>615.0</td>\n",
       "      <td>6</td>\n",
       "      <td>Hollywood</td>\n",
       "      <td>663</td>\n",
       "      <td>27</td>\n",
       "      <td>M</td>\n",
       "      <td>O</td>\n",
       "      <td>5.0</td>\n",
       "      <td>Burglary</td>\n",
       "      <td>F</td>\n",
       "      <td>459PC</td>\n",
       "      <td>BURGLARY</td>\n",
       "      <td>LA BREA</td>\n",
       "      <td>LEXINGTON</td>\n",
       "      <td>(34.0907, -118.3384)</td>\n",
       "    </tr>\n",
       "  </tbody>\n",
       "</table>\n",
       "</div>"
      ],
      "text/plain": [
       "   Report ID Arrest Date    Time  Area ID  Area Name  Reporting District  Age  \\\n",
       "0    4248313  02/24/2015  1310.0       20    Olympic                2022   37   \n",
       "1  191811472  05/03/2019  1700.0       18  Southeast                1802   23   \n",
       "2    4254777  02/26/2015  2010.0       19    Mission                1985   22   \n",
       "3    5614161  04/29/2019  1040.0        8    West LA                 842   41   \n",
       "4    5615197  04/30/2019   615.0        6  Hollywood                 663   27   \n",
       "\n",
       "  Sex Code Descent Code  Charge Group Code Charge Group Description  \\\n",
       "0        M            H                5.0                 Burglary   \n",
       "1        F            B                NaN                      NaN   \n",
       "2        M            H                6.0                  Larceny   \n",
       "3        M            H                3.0                  Robbery   \n",
       "4        M            O                5.0                 Burglary   \n",
       "\n",
       "  Arrest Type Code     Charge Charge Description  \\\n",
       "0                F      459PC           BURGLARY   \n",
       "1                M  653.22 PC                NaN   \n",
       "2                M    459.5PC        SHOPLIFTING   \n",
       "3                F      211PC            ROBBERY   \n",
       "4                F      459PC           BURGLARY   \n",
       "\n",
       "                                    Address Cross Street              Location  \n",
       "0                                       5TH       WILTON   (34.0653, -118.314)  \n",
       "1                                      91ST     FIGUEROA  (33.9543, -118.2827)  \n",
       "2   8300    VAN NUYS                     BL          NaN  (34.2216, -118.4488)  \n",
       "3  11600    WILSHIRE                     BL          NaN  (34.0508, -118.4592)  \n",
       "4                                   LA BREA    LEXINGTON  (34.0907, -118.3384)  "
      ]
     },
     "execution_count": 3,
     "metadata": {},
     "output_type": "execute_result"
    }
   ],
   "source": [
    "print(df.shape)\n",
    "df.head()"
   ]
  },
  {
   "cell_type": "code",
   "execution_count": 4,
   "metadata": {},
   "outputs": [
    {
     "data": {
      "text/plain": [
       "Index(['Report ID', 'Arrest Date', 'Time', 'Area ID', 'Area Name',\n",
       "       'Reporting District', 'Age', 'Sex Code', 'Descent Code',\n",
       "       'Charge Group Code', 'Charge Group Description', 'Arrest Type Code',\n",
       "       'Charge', 'Charge Description', 'Address', 'Cross Street', 'Location'],\n",
       "      dtype='object')"
      ]
     },
     "execution_count": 4,
     "metadata": {},
     "output_type": "execute_result"
    }
   ],
   "source": [
    "df.columns"
   ]
  },
  {
   "cell_type": "code",
   "execution_count": 5,
   "metadata": {
    "collapsed": true
   },
   "outputs": [],
   "source": [
    "df[\"Arrest Date\"] = pd.to_datetime(df['Arrest Date'])"
   ]
  },
  {
   "cell_type": "code",
   "execution_count": 6,
   "metadata": {
    "collapsed": true
   },
   "outputs": [],
   "source": [
    "df_2018 = df[(df['Arrest Date'] > '2017-12-31')&(df['Arrest Date'] < \"2019-01-01\")]"
   ]
  },
  {
   "cell_type": "code",
   "execution_count": 7,
   "metadata": {},
   "outputs": [
    {
     "data": {
      "text/plain": [
       "104277"
      ]
     },
     "execution_count": 7,
     "metadata": {},
     "output_type": "execute_result"
    }
   ],
   "source": [
    "df_2018.shape[0]"
   ]
  },
  {
   "cell_type": "code",
   "execution_count": 8,
   "metadata": {},
   "outputs": [
    {
     "data": {
      "text/plain": [
       "1     10951\n",
       "6      9715\n",
       "2      7345\n",
       "14     6778\n",
       "12     6259\n",
       "9      6193\n",
       "3      5927\n",
       "13     5427\n",
       "15     4947\n",
       "19     4357\n",
       "20     3898\n",
       "5      3875\n",
       "18     3601\n",
       "4      3590\n",
       "10     3562\n",
       "11     3452\n",
       "17     3146\n",
       "21     3094\n",
       "16     3006\n",
       "8      2687\n",
       "7      2467\n",
       "Name: Area ID, dtype: int64"
      ]
     },
     "execution_count": 8,
     "metadata": {},
     "output_type": "execute_result"
    }
   ],
   "source": [
    "df_2018['Area ID'].value_counts()"
   ]
  },
  {
   "cell_type": "code",
   "execution_count": 9,
   "metadata": {},
   "outputs": [
    {
     "data": {
      "text/plain": [
       "{nan,\n",
       " 'Gambling',\n",
       " 'Federal Offenses',\n",
       " 'Aggravated Assault',\n",
       " 'Forgery/Counterfeit',\n",
       " 'Liquor Laws',\n",
       " 'Pre-Delinquency',\n",
       " 'Prostitution/Allied',\n",
       " 'Narcotic Drug Laws',\n",
       " 'Sex (except rape/prst)',\n",
       " 'Fraud/Embezzlement',\n",
       " 'Against Family/Child',\n",
       " 'Homicide',\n",
       " 'Receive Stolen Property',\n",
       " 'Robbery',\n",
       " 'Burglary',\n",
       " 'Disorderly Conduct',\n",
       " 'Vehicle Theft',\n",
       " 'Non-Criminal Detention',\n",
       " 'Moving Traffic Violations',\n",
       " 'Rape',\n",
       " 'Miscellaneous Other Violations',\n",
       " 'Weapon (carry/poss)',\n",
       " 'Driving Under Influence',\n",
       " 'Disturbing the Peace',\n",
       " 'Other Assaults',\n",
       " 'Drunkeness',\n",
       " 'Larceny'}"
      ]
     },
     "execution_count": 9,
     "metadata": {},
     "output_type": "execute_result"
    }
   ],
   "source": [
    "set(list(df_2018['Charge Group Description'].values))"
   ]
  },
  {
   "cell_type": "code",
   "execution_count": 10,
   "metadata": {
    "collapsed": true
   },
   "outputs": [],
   "source": [
    "VRBR = {'Vehicle Theft', 'Burglary','Robbery','Receive Stolen Property'}"
   ]
  },
  {
   "cell_type": "code",
   "execution_count": 11,
   "metadata": {},
   "outputs": [
    {
     "data": {
      "text/plain": [
       "52.0"
      ]
     },
     "execution_count": 11,
     "metadata": {},
     "output_type": "execute_result"
    }
   ],
   "source": [
    "df_2018[df_2018['Charge Group Description'].isin(VRBR)]['Age'].quantile(0.95)"
   ]
  },
  {
   "cell_type": "code",
   "execution_count": 12,
   "metadata": {
    "collapsed": true
   },
   "outputs": [],
   "source": [
    "from scipy.stats import zscore"
   ]
  },
  {
   "cell_type": "code",
   "execution_count": 13,
   "metadata": {
    "collapsed": true
   },
   "outputs": [],
   "source": [
    "average_ages = df_2018.groupby('Charge Group Description')['Age'].mean()"
   ]
  },
  {
   "cell_type": "code",
   "execution_count": 14,
   "metadata": {
    "collapsed": true
   },
   "outputs": [],
   "source": [
    "adult_ages = average_ages.loc[~average_ages.index.isin([\"Pre-Delinquency\", \"Non-Criminal Detention\"])]"
   ]
  },
  {
   "cell_type": "code",
   "execution_count": 15,
   "metadata": {},
   "outputs": [
    {
     "data": {
      "text/plain": [
       "2.1278699344353633"
      ]
     },
     "execution_count": 15,
     "metadata": {},
     "output_type": "execute_result"
    }
   ],
   "source": [
    "np.abs((adult_ages - adult_ages.mean())/adult_ages.std()).max()"
   ]
  },
  {
   "cell_type": "code",
   "execution_count": 16,
   "metadata": {
    "collapsed": true
   },
   "outputs": [],
   "source": [
    "df['year'] = pd.DatetimeIndex(df['Arrest Date']).year"
   ]
  },
  {
   "cell_type": "code",
   "execution_count": 17,
   "metadata": {},
   "outputs": [
    {
     "data": {
      "text/plain": [
       "array([2015, 2019, 2016, 2017, 2018, 2012, 2014, 2010, 2011, 2013],\n",
       "      dtype=int64)"
      ]
     },
     "execution_count": 17,
     "metadata": {},
     "output_type": "execute_result"
    }
   ],
   "source": [
    "df.year.unique()"
   ]
  },
  {
   "cell_type": "code",
   "execution_count": 18,
   "metadata": {
    "collapsed": true
   },
   "outputs": [],
   "source": [
    "felony_df = df[df['Arrest Type Code'] == 'F']"
   ]
  },
  {
   "cell_type": "code",
   "execution_count": 19,
   "metadata": {
    "collapsed": true
   },
   "outputs": [],
   "source": [
    "yearly_counts = felony_df.year.value_counts()[~felony_df.year.value_counts().index.isin(['2019'])].sort_index()"
   ]
  },
  {
   "cell_type": "code",
   "execution_count": 20,
   "metadata": {
    "collapsed": true
   },
   "outputs": [],
   "source": [
    "from sklearn.linear_model import LinearRegression"
   ]
  },
  {
   "cell_type": "code",
   "execution_count": 21,
   "metadata": {},
   "outputs": [
    {
     "data": {
      "image/png": "[encoded data removed]",
      "text/plain": [
       "<Figure size 432x288 with 1 Axes>"
      ]
     },
     "metadata": {},
     "output_type": "display_data"
    }
   ],
   "source": [
    "plt.plot(yearly_counts, \"o\")\n",
    "plt.show()"
   ]
  },
  {
   "cell_type": "code",
   "execution_count": 22,
   "metadata": {},
   "outputs": [
    {
     "data": {
      "text/plain": [
       "array([51157, 49830, 50610, 47882, 45878, 35709, 36880, 35974, 34948],\n",
       "      dtype=int64)"
      ]
     },
     "execution_count": 22,
     "metadata": {},
     "output_type": "execute_result"
    }
   ],
   "source": [
    "np.array(yearly_counts)"
   ]
  },
  {
   "cell_type": "code",
   "execution_count": 23,
   "metadata": {},
   "outputs": [
    {
     "data": {
      "text/plain": [
       "LinearRegression(copy_X=True, fit_intercept=True, n_jobs=None,\n",
       "         normalize=False)"
      ]
     },
     "execution_count": 23,
     "metadata": {},
     "output_type": "execute_result"
    }
   ],
   "source": [
    "regressor = LinearRegression()\n",
    "regressor.fit(np.array(yearly_counts.index).reshape(-1, 1), np.array(yearly_counts).reshape(-1, 1))\n"
   ]
  },
  {
   "cell_type": "code",
   "execution_count": 24,
   "metadata": {},
   "outputs": [
    {
     "data": {
      "text/plain": [
       "array([[-2433.95]])"
      ]
     },
     "execution_count": 24,
     "metadata": {},
     "output_type": "execute_result"
    }
   ],
   "source": [
    "regressor.coef_"
   ]
  },
  {
   "cell_type": "code",
   "execution_count": 25,
   "metadata": {},
   "outputs": [
    {
     "data": {
      "text/plain": [
       "array([[31037.80555556]])"
      ]
     },
     "execution_count": 25,
     "metadata": {},
     "output_type": "execute_result"
    }
   ],
   "source": [
    "regressor.predict(np.array([2019]).reshape(-1,1))"
   ]
  },
  {
   "cell_type": "code",
   "execution_count": 26,
   "metadata": {},
   "outputs": [
    {
     "data": {
      "text/html": [
       "<div>\n",
       "<style scoped>\n",
       "    .dataframe tbody tr th:only-of-type {\n",
       "        vertical-align: middle;\n",
       "    }\n",
       "\n",
       "    .dataframe tbody tr th {\n",
       "        vertical-align: top;\n",
       "    }\n",
       "\n",
       "    .dataframe thead th {\n",
       "        text-align: right;\n",
       "    }\n",
       "</style>\n",
       "<table border=\"1\" class=\"dataframe\">\n",
       "  <thead>\n",
       "    <tr style=\"text-align: right;\">\n",
       "      <th></th>\n",
       "      <th>Report ID</th>\n",
       "      <th>Arrest Date</th>\n",
       "      <th>Time</th>\n",
       "      <th>Area ID</th>\n",
       "      <th>Area Name</th>\n",
       "      <th>Reporting District</th>\n",
       "      <th>Age</th>\n",
       "      <th>Sex Code</th>\n",
       "      <th>Descent Code</th>\n",
       "      <th>Charge Group Code</th>\n",
       "      <th>Charge Group Description</th>\n",
       "      <th>Arrest Type Code</th>\n",
       "      <th>Charge</th>\n",
       "      <th>Charge Description</th>\n",
       "      <th>Address</th>\n",
       "      <th>Cross Street</th>\n",
       "      <th>Location</th>\n",
       "    </tr>\n",
       "  </thead>\n",
       "  <tbody>\n",
       "    <tr>\n",
       "      <td>165</td>\n",
       "      <td>5213460</td>\n",
       "      <td>2018-01-24</td>\n",
       "      <td>1930.0</td>\n",
       "      <td>6</td>\n",
       "      <td>Hollywood</td>\n",
       "      <td>668</td>\n",
       "      <td>29</td>\n",
       "      <td>M</td>\n",
       "      <td>H</td>\n",
       "      <td>10.0</td>\n",
       "      <td>Fraud/Embezzlement</td>\n",
       "      <td>F</td>\n",
       "      <td>530.5(A)PC</td>\n",
       "      <td>GET CREDIT/ETC OTHER'S ID</td>\n",
       "      <td>ST ANDREWS</td>\n",
       "      <td>FOUNTAIN</td>\n",
       "      <td>(34.0949, -118.3109)</td>\n",
       "    </tr>\n",
       "    <tr>\n",
       "      <td>166</td>\n",
       "      <td>5257944</td>\n",
       "      <td>2018-03-15</td>\n",
       "      <td>310.0</td>\n",
       "      <td>7</td>\n",
       "      <td>Wilshire</td>\n",
       "      <td>743</td>\n",
       "      <td>33</td>\n",
       "      <td>F</td>\n",
       "      <td>O</td>\n",
       "      <td>1.0</td>\n",
       "      <td>Homicide</td>\n",
       "      <td>F</td>\n",
       "      <td>191.5(B)PC</td>\n",
       "      <td>VEH MANSLAUGHTR/OPER VESSEL DUI &amp; DUR FEL</td>\n",
       "      <td>OLYMPIC</td>\n",
       "      <td>MASSELIN</td>\n",
       "      <td>(34.0574, -118.3547)</td>\n",
       "    </tr>\n",
       "    <tr>\n",
       "      <td>167</td>\n",
       "      <td>5328813</td>\n",
       "      <td>2018-06-01</td>\n",
       "      <td>1800.0</td>\n",
       "      <td>3</td>\n",
       "      <td>Southwest</td>\n",
       "      <td>356</td>\n",
       "      <td>44</td>\n",
       "      <td>F</td>\n",
       "      <td>B</td>\n",
       "      <td>16.0</td>\n",
       "      <td>Narcotic Drug Laws</td>\n",
       "      <td>F</td>\n",
       "      <td>11379(A)HS</td>\n",
       "      <td>TRANSPORT/SELL CONTROLLED SUBSTANCE</td>\n",
       "      <td>1600 W  36TH                         PL</td>\n",
       "      <td>NaN</td>\n",
       "      <td>(34.0219, -118.3061)</td>\n",
       "    </tr>\n",
       "    <tr>\n",
       "      <td>168</td>\n",
       "      <td>5336331</td>\n",
       "      <td>2018-06-10</td>\n",
       "      <td>200.0</td>\n",
       "      <td>13</td>\n",
       "      <td>Newton</td>\n",
       "      <td>1364</td>\n",
       "      <td>23</td>\n",
       "      <td>M</td>\n",
       "      <td>H</td>\n",
       "      <td>12.0</td>\n",
       "      <td>Weapon (carry/poss)</td>\n",
       "      <td>F</td>\n",
       "      <td>25400(A)2PC</td>\n",
       "      <td>CARRYING CONCEALED WEAPON UPON PERSON</td>\n",
       "      <td>1200 E  50TH                         ST</td>\n",
       "      <td>NaN</td>\n",
       "      <td>(33.998, -118.2543)</td>\n",
       "    </tr>\n",
       "    <tr>\n",
       "      <td>169</td>\n",
       "      <td>5360731</td>\n",
       "      <td>2018-07-07</td>\n",
       "      <td>2330.0</td>\n",
       "      <td>18</td>\n",
       "      <td>Southeast</td>\n",
       "      <td>1832</td>\n",
       "      <td>32</td>\n",
       "      <td>M</td>\n",
       "      <td>B</td>\n",
       "      <td>12.0</td>\n",
       "      <td>Weapon (carry/poss)</td>\n",
       "      <td>F</td>\n",
       "      <td>29800(A)1PC</td>\n",
       "      <td>POSS F/ARM BY CONVICTED FELON/ADDICT/ETC</td>\n",
       "      <td>10700 S  MAIN                         ST</td>\n",
       "      <td>NaN</td>\n",
       "      <td>(33.9392, -118.2739)</td>\n",
       "    </tr>\n",
       "  </tbody>\n",
       "</table>\n",
       "</div>"
      ],
      "text/plain": [
       "     Report ID Arrest Date    Time  Area ID  Area Name  Reporting District  \\\n",
       "165    5213460  2018-01-24  1930.0        6  Hollywood                 668   \n",
       "166    5257944  2018-03-15   310.0        7   Wilshire                 743   \n",
       "167    5328813  2018-06-01  1800.0        3  Southwest                 356   \n",
       "168    5336331  2018-06-10   200.0       13     Newton                1364   \n",
       "169    5360731  2018-07-07  2330.0       18  Southeast                1832   \n",
       "\n",
       "     Age Sex Code Descent Code  Charge Group Code Charge Group Description  \\\n",
       "165   29        M            H               10.0       Fraud/Embezzlement   \n",
       "166   33        F            O                1.0                 Homicide   \n",
       "167   44        F            B               16.0       Narcotic Drug Laws   \n",
       "168   23        M            H               12.0      Weapon (carry/poss)   \n",
       "169   32        M            B               12.0      Weapon (carry/poss)   \n",
       "\n",
       "    Arrest Type Code       Charge                         Charge Description  \\\n",
       "165                F   530.5(A)PC                  GET CREDIT/ETC OTHER'S ID   \n",
       "166                F   191.5(B)PC  VEH MANSLAUGHTR/OPER VESSEL DUI & DUR FEL   \n",
       "167                F   11379(A)HS        TRANSPORT/SELL CONTROLLED SUBSTANCE   \n",
       "168                F  25400(A)2PC      CARRYING CONCEALED WEAPON UPON PERSON   \n",
       "169                F  29800(A)1PC   POSS F/ARM BY CONVICTED FELON/ADDICT/ETC   \n",
       "\n",
       "                                      Address Cross Street  \\\n",
       "165                                ST ANDREWS     FOUNTAIN   \n",
       "166                                   OLYMPIC     MASSELIN   \n",
       "167   1600 W  36TH                         PL          NaN   \n",
       "168   1200 E  50TH                         ST          NaN   \n",
       "169  10700 S  MAIN                         ST          NaN   \n",
       "\n",
       "                 Location  \n",
       "165  (34.0949, -118.3109)  \n",
       "166  (34.0574, -118.3547)  \n",
       "167  (34.0219, -118.3061)  \n",
       "168   (33.998, -118.2543)  \n",
       "169  (33.9392, -118.2739)  "
      ]
     },
     "execution_count": 26,
     "metadata": {},
     "output_type": "execute_result"
    }
   ],
   "source": [
    "df_2018.head()"
   ]
  },
  {
   "cell_type": "code",
   "execution_count": 27,
   "metadata": {
    "collapsed": true
   },
   "outputs": [],
   "source": [
    "import math"
   ]
  },
  {
   "cell_type": "code",
   "execution_count": 28,
   "metadata": {
    "collapsed": true
   },
   "outputs": [],
   "source": [
    "cosine = math.cos(34.050536/180 * math.pi)\n",
    "thresh = (2/6371)**2\n",
    "def dist_sqr(loc):\n",
    "    \n",
    "    return ((loc[0] - 34.050536)/180*math.pi)**2 + (cosine*(loc[1] + 118.247861)/180*math.pi)**2 <= thresh"
   ]
  },
  {
   "cell_type": "code",
   "execution_count": 29,
   "metadata": {},
   "outputs": [
    {
     "name": "stderr",
     "output_type": "stream",
     "text": [
      "C:\\Users\\Zhongyi Zhang\\Anaconda3\\lib\\site-packages\\ipykernel_launcher.py:1: SettingWithCopyWarning: \n",
      "A value is trying to be set on a copy of a slice from a DataFrame.\n",
      "Try using .loc[row_indexer,col_indexer] = value instead\n",
      "\n",
      "See the caveats in the documentation: http://pandas.pydata.org/pandas-docs/stable/user_guide/indexing.html#returning-a-view-versus-a-copy\n",
      "  \"\"\"Entry point for launching an IPython kernel.\n"
     ]
    }
   ],
   "source": [
    "df_2018['Location'] = df_2018.Location.apply(eval)"
   ]
  },
  {
   "cell_type": "code",
   "execution_count": 30,
   "metadata": {},
   "outputs": [
    {
     "data": {
      "text/plain": [
       "False"
      ]
     },
     "execution_count": 30,
     "metadata": {},
     "output_type": "execute_result"
    }
   ],
   "source": [
    "dist_sqr(df_2018.Location.iloc[0])"
   ]
  },
  {
   "cell_type": "code",
   "execution_count": 31,
   "metadata": {},
   "outputs": [
    {
     "data": {
      "text/plain": [
       "11461"
      ]
     },
     "execution_count": 31,
     "metadata": {},
     "output_type": "execute_result"
    }
   ],
   "source": [
    "df_2018[df_2018.Location.apply(dist_sqr)].shape[0]"
   ]
  },
  {
   "cell_type": "code",
   "execution_count": 32,
   "metadata": {
    "collapsed": true
   },
   "outputs": [],
   "source": [
    "def on_Pico(x):\n",
    "    return \"PICO\" in x"
   ]
  },
  {
   "cell_type": "code",
   "execution_count": 33,
   "metadata": {
    "collapsed": true
   },
   "outputs": [],
   "source": [
    "Pico_2018 = df_2018[df_2018['Address'].apply(lambda x: \"PICO\" in x)]"
   ]
  },
  {
   "cell_type": "code",
   "execution_count": 34,
   "metadata": {
    "collapsed": true
   },
   "outputs": [],
   "source": [
    "plongitude, platitude = Pico_2018.Location.apply(lambda x: x[1]), Pico_2018.Location.apply(lambda x: x[0])"
   ]
  },
  {
   "cell_type": "code",
   "execution_count": 35,
   "metadata": {
    "collapsed": true
   },
   "outputs": [],
   "source": [
    "long_reasonable = plongitude.apply(lambda x: x<= plongitude.mean() + 2*plongitude.std() and x>=plongitude.mean() - 2*plongitude.std())"
   ]
  },
  {
   "cell_type": "code",
   "execution_count": 36,
   "metadata": {
    "collapsed": true
   },
   "outputs": [],
   "source": [
    "lat_reasonable = platitude.apply(lambda x: x<=platitude.mean() + 2*platitude.std() and x>= platitude.mean() - 2*platitude.std())"
   ]
  },
  {
   "cell_type": "code",
   "execution_count": 37,
   "metadata": {
    "collapsed": true
   },
   "outputs": [],
   "source": [
    "Pico_valid = Pico_2018[long_reasonable & lat_reasonable]"
   ]
  },
  {
   "cell_type": "code",
   "execution_count": 38,
   "metadata": {
    "collapsed": true
   },
   "outputs": [],
   "source": [
    "lat_delta = Pico_valid.Location.apply(lambda x: x[0]).max() - Pico_valid.Location.apply(lambda x: x[0]).min()"
   ]
  },
  {
   "cell_type": "code",
   "execution_count": 39,
   "metadata": {
    "collapsed": true
   },
   "outputs": [],
   "source": [
    "long_delta = Pico_valid.Location.apply(lambda x: x[1]).max() - Pico_valid.Location.apply(lambda x: x[1]).min()"
   ]
  },
  {
   "cell_type": "code",
   "execution_count": 40,
   "metadata": {},
   "outputs": [
    {
     "data": {
      "text/plain": [
       "0.039500000000003865"
      ]
     },
     "execution_count": 40,
     "metadata": {},
     "output_type": "execute_result"
    }
   ],
   "source": [
    "lat_delta"
   ]
  },
  {
   "cell_type": "code",
   "execution_count": 41,
   "metadata": {},
   "outputs": [
    {
     "data": {
      "text/plain": [
       "0.2370999999999981"
      ]
     },
     "execution_count": 41,
     "metadata": {},
     "output_type": "execute_result"
    }
   ],
   "source": [
    "long_delta"
   ]
  },
  {
   "cell_type": "code",
   "execution_count": 42,
   "metadata": {},
   "outputs": [
    {
     "data": {
      "text/plain": [
       "22.638981280063835"
      ]
     },
     "execution_count": 42,
     "metadata": {},
     "output_type": "execute_result"
    }
   ],
   "source": [
    "Pico_valid.shape[0]/ (6371*np.sqrt((long_delta/180*math.pi* math.cos(lat_reasonable.mean()/180 *math.pi))**2 + (lat_delta/180*math.pi)**2))"
   ]
  },
  {
   "cell_type": "markdown",
   "metadata": {},
   "source": [
    "6371*np.sqrt((long_delta/180*math.pi* math.cos(lat_reasonable.mean()/180 *math.pi))**2 + (lat_delta/180*math.pi)**2)"
   ]
  },
  {
   "cell_type": "code",
   "execution_count": 43,
   "metadata": {
    "collapsed": true
   },
   "outputs": [],
   "source": [
    "before_19 = df[df['Arrest Date']<\"2019-01-01\"]"
   ]
  },
  {
   "cell_type": "markdown",
   "metadata": {},
   "source": [
    "pd.Series(df['Charge Group Code'].unique()).dropna()"
   ]
  },
  {
   "cell_type": "code",
   "execution_count": 44,
   "metadata": {},
   "outputs": [
    {
     "data": {
      "text/plain": [
       "[1, 2, 3, 4, 5, 6, 7, 8, 9, 10, 11, 12, 13, 14, 15, 16, 17, 18, 19, 20, 21]"
      ]
     },
     "execution_count": 44,
     "metadata": {},
     "output_type": "execute_result"
    }
   ],
   "source": [
    "sorted(df['Area ID'].unique())"
   ]
  },
  {
   "cell_type": "code",
   "execution_count": 46,
   "metadata": {
    "collapsed": true
   },
   "outputs": [],
   "source": [
    "ratio = []\n",
    "for charge_code in pd.Series(df['Charge Group Code'].unique()).dropna():\n",
    "    if charge_code >=80:\n",
    "        continue\n",
    "    charge_df = before_19[before_19['Charge Group Code']==charge_code]\n",
    "    charge_code_rate = charge_df.shape[0]/before_19.shape[0]\n",
    "    for area in df['Area ID'].unique():\n",
    "        area_charge_df = charge_df[charge_df['Area ID']== area]\n",
    "        ratio.append((area_charge_df.shape[0]/before_19[before_19['Area ID'] == area].shape[0])/charge_code_rate)\n",
    "ratio.sort()\n",
    "\n",
    "        \n",
    "    "
   ]
  },
  {
   "cell_type": "code",
   "execution_count": 47,
   "metadata": {},
   "outputs": [
    {
     "data": {
      "text/plain": [
       "3.554080494962799"
      ]
     },
     "execution_count": 47,
     "metadata": {},
     "output_type": "execute_result"
    }
   ],
   "source": [
    "np.mean(ratio[-5:])"
   ]
  },
  {
   "cell_type": "markdown",
   "metadata": {},
   "source": [
    "### Section 2"
   ]
  },
  {
   "cell_type": "code",
   "execution_count": 48,
   "metadata": {
    "collapsed": true
   },
   "outputs": [],
   "source": [
    "def next_steps(loc,n):\n",
    "    res = []\n",
    "    for d in range(len(loc)):\n",
    "        if loc[d] >0:\n",
    "            res.append(loc[:d]+(loc[d] - 1,) + loc[d+1:])\n",
    "        if loc[d]< n -1:\n",
    "            res.append(loc[:d]+ (loc[d] + 1,)+ loc[d+1:])\n",
    "    return res"
   ]
  },
  {
   "cell_type": "code",
   "execution_count": 50,
   "metadata": {},
   "outputs": [
    {
     "data": {
      "text/plain": [
       "[(1, 1, 0, 3), (0, 0, 0, 3), (0, 2, 0, 3), (0, 1, 1, 3), (0, 1, 0, 2)]"
      ]
     },
     "execution_count": 50,
     "metadata": {},
     "output_type": "execute_result"
    }
   ],
   "source": [
    "next_steps((0,1,0,3), 4)"
   ]
  },
  {
   "cell_type": "code",
   "execution_count": 52,
   "metadata": {
    "collapsed": true
   },
   "outputs": [],
   "source": [
    "import collections\n",
    "next_steps_dic = collections.defaultdict()\n",
    "m = 10\n",
    "for a in range(m):\n",
    "    for b in range(m):\n",
    "        for c in range(m):\n",
    "            for d in range(m):\n",
    "                next_steps_dic[(a,b,c,d)]= next_steps((a,b,c,d), 10)\n",
    "        \n",
    "    "
   ]
  },
  {
   "cell_type": "markdown",
   "metadata": {},
   "source": [
    "def num_of_steps(start,n, m):\n",
    "    \n",
    "    if m==0: return 1\n",
    "    return sum(num_of_steps(next_step,n, m-1) for next_step in next_steps_dic[start])\n",
    "        "
   ]
  },
  {
   "cell_type": "code",
   "execution_count": 53,
   "metadata": {
    "collapsed": true
   },
   "outputs": [],
   "source": [
    "def num_of_steps(start,m):\n",
    "    steps_list = [{start: 1}]\n",
    "    \n",
    "    if m ==0: return 1\n",
    "    #if m ==1: return len(next_steps_dic[start])\n",
    "    for step in range(1,m + 1):\n",
    "        steps_and_loc_dic = collections.defaultdict()\n",
    "        #if step ==1:\n",
    "            ##for loc in next_steps_dic.keys():\n",
    "                ##steps_and_loc_dic[(step,loc)] = 1 if loc in next_steps_dic[start] else 0\n",
    "            #for loc in next_steps_dic[start]:\n",
    "                #steps_and_loc_dic[(step, loc)] = 1\n",
    "       \n",
    "        for prev_loc in steps_list[step-1].keys():\n",
    "            for this_loc in next_steps_dic[prev_loc]:\n",
    "                steps_and_loc_dic[this_loc] = steps_list[step -1][prev_loc] if this_loc not in steps_and_loc_dic else steps_and_loc_dic[this_loc]+ steps_list[step -1][prev_loc]\n",
    "        steps_list.append(steps_and_loc_dic)\n",
    "    #print(steps_list)\n",
    "    return sum(steps_list[-1].values())"
   ]
  },
  {
   "cell_type": "code",
   "execution_count": 64,
   "metadata": {},
   "outputs": [
    {
     "data": {
      "text/plain": [
       "[(1, 2, 5, 0, 0, 0, 0, 1),\n",
       " (0, 1, 5, 0, 0, 0, 0, 1),\n",
       " (0, 3, 5, 0, 0, 0, 0, 1),\n",
       " (0, 2, 4, 0, 0, 0, 0, 1),\n",
       " (0, 2, 6, 0, 0, 0, 0, 1),\n",
       " (0, 2, 5, 1, 0, 0, 0, 1),\n",
       " (0, 2, 5, 0, 1, 0, 0, 1),\n",
       " (0, 2, 5, 0, 0, 1, 0, 1),\n",
       " (0, 2, 5, 0, 0, 0, 1, 1),\n",
       " (0, 2, 5, 0, 0, 0, 0, 0),\n",
       " (0, 2, 5, 0, 0, 0, 0, 2)]"
      ]
     },
     "execution_count": 64,
     "metadata": {},
     "output_type": "execute_result"
    }
   ],
   "source": [
    "next_steps_dic2[(0,2,5,0,0,0,0,1)]"
   ]
  },
  {
   "cell_type": "code",
   "execution_count": 57,
   "metadata": {
    "collapsed": true
   },
   "outputs": [],
   "source": [
    "def occurance(loc):\n",
    "    j,k = loc[1], loc[2]\n",
    "    if len(set(loc)) ==4:\n",
    "        return 24\n",
    "    elif len(set(loc)) == 3:\n",
    "        return 12\n",
    "    elif len(set(loc)) ==2:\n",
    "        if j==k:\n",
    "            return 4\n",
    "        else: return 6\n",
    "    else: return 1\n",
    "        "
   ]
  },
  {
   "cell_type": "code",
   "execution_count": 58,
   "metadata": {
    "collapsed": true
   },
   "outputs": [],
   "source": [
    "n = 10\n",
    "steps = []\n",
    "for i in range(n//2):\n",
    "    for j in range(i+ 1):\n",
    "        for k in range(j+1):\n",
    "            for l in range(k+1):\n",
    "                steps.append([(i,j,k,l), num_of_steps((i,j,k,l), 10), occurance((i,j,k,l))])\n",
    "                "
   ]
  },
  {
   "cell_type": "code",
   "execution_count": 59,
   "metadata": {},
   "outputs": [
    {
     "data": {
      "text/plain": [
       "23.81209118548726"
      ]
     },
     "execution_count": 59,
     "metadata": {},
     "output_type": "execute_result"
    }
   ],
   "source": [
    "\n",
    "max(cnt for loc, cnt, _ in steps)/min(cnt for loc, cnt, _ in steps)\n",
    "    "
   ]
  },
  {
   "cell_type": "code",
   "execution_count": 60,
   "metadata": {
    "collapsed": true
   },
   "outputs": [],
   "source": [
    "mean = sum(cnt * occ for loc, cnt, occ in steps)/sum(occ for loc, cnt, occ in steps)"
   ]
  },
  {
   "cell_type": "code",
   "execution_count": 61,
   "metadata": {
    "collapsed": true
   },
   "outputs": [],
   "source": [
    "std = np.sqrt(sum((cnt- mean)**2 * occ for loc, cnt, occ in steps)/sum(occ for loc, cnt, occ in steps))"
   ]
  },
  {
   "cell_type": "code",
   "execution_count": 62,
   "metadata": {},
   "outputs": [
    {
     "data": {
      "text/plain": [
       "0.5106573744484553"
      ]
     },
     "execution_count": 62,
     "metadata": {},
     "output_type": "execute_result"
    }
   ],
   "source": [
    "std/mean"
   ]
  },
  {
   "cell_type": "code",
   "execution_count": null,
   "metadata": {
    "collapsed": true
   },
   "outputs": [],
   "source": [
    "next_steps_1_d = []"
   ]
  },
  {
   "cell_type": "code",
   "execution_count": 21,
   "metadata": {
    "collapsed": true
   },
   "outputs": [],
   "source": [
    "def num_of_steps_1_d(start, total_step, n):\n",
    "    next_step = [{start:1}]\n",
    "    for step in range(1,total_step +1):\n",
    "        this_step_dic = {}\n",
    "        for prev_loc in next_step[step -1]:\n",
    "            if prev_loc>=1:\n",
    "                this_step_dic[prev_loc -1] = this_step_dic.get(prev_loc -1, 0)+ next_step[step-1][prev_loc]\n",
    "            if prev_loc< n -1:\n",
    "                this_step_dic[prev_loc +1] = this_step_dic.get(prev_loc + 1, 0)+ next_step[step-1][prev_loc]\n",
    "        next_step.append(this_step_dic)\n",
    "    #print(next_step)\n",
    "    return sum(next_step[-1].values())"
   ]
  },
  {
   "cell_type": "code",
   "execution_count": 20,
   "metadata": {},
   "outputs": [
    {
     "name": "stdout",
     "output_type": "stream",
     "text": [
      "[{1: 1}, {0: 1, 2: 1}, {1: 2, 3: 1}, {0: 2, 2: 3, 4: 1}, {1: 5, 3: 4}]\n"
     ]
    },
    {
     "data": {
      "text/plain": [
       "9"
      ]
     },
     "execution_count": 20,
     "metadata": {},
     "output_type": "execute_result"
    }
   ],
   "source": [
    "num_of_steps_1_d(1,4 , 5)"
   ]
  },
  {
   "cell_type": "code",
   "execution_count": 30,
   "metadata": {},
   "outputs": [],
   "source": [
    "   \n",
    "steps_dict = {}\n",
    "for start in range(12):\n",
    "    for total_step in range(0,13):\n",
    "        steps_dict[(start, total_step)] = num_of_steps_1_d(start, total_step, 12)\n"
   ]
  },
  {
   "cell_type": "code",
   "execution_count": 35,
   "metadata": {},
   "outputs": [
    {
     "data": {
      "text/plain": [
       "3560"
      ]
     },
     "execution_count": 35,
     "metadata": {},
     "output_type": "execute_result"
    }
   ],
   "source": [
    "steps_dict[(5, 12)]\n"
   ]
  },
  {
   "cell_type": "code",
   "execution_count": 36,
   "metadata": {},
   "outputs": [
    {
     "data": {
      "text/plain": [
       "1"
      ]
     },
     "execution_count": 36,
     "metadata": {},
     "output_type": "execute_result"
    }
   ],
   "source": [
    "math.factorial(0)"
   ]
  },
  {
   "cell_type": "markdown",
   "metadata": {},
   "source": []
  },
  {
   "cell_type": "code",
   "execution_count": 3,
   "metadata": {
    "collapsed": true
   },
   "outputs": [],
   "source": [
    "fac12 = math.factorial(12)"
   ]
  },
  {
   "cell_type": "code",
   "execution_count": 38,
   "metadata": {
    "collapsed": true
   },
   "outputs": [],
   "source": [
    "def num_of_steps_8d(start):\n",
    "    \n",
    "    cnt_so_far = 0\n",
    "    coef0= fac12\n",
    "    for a1 in range(12):\n",
    "        coef1 = coef0* steps_dict[(start[0], a1)]/math.factorial(a1)\n",
    "        for a2 in range(12 - a1):\n",
    "            sum_sofar2 = a1 + a2\n",
    "            coef2 = coef1*steps_dict[(start[1], a2)]/ math.factorial(a2)\n",
    "            for a3 in range(12- sum_sofar2):\n",
    "                sum_sofar3= a3 + sum_sofar2\n",
    "                coef3 = coef2*steps_dict[(start[2], a3)]/ math.factorial(a3)\n",
    "                for a4 in range(12 - sum_sofar3):\n",
    "                    sum_sofar4 = a4 + sum_sofar3\n",
    "                    coef4 = coef3*steps_dict[(start[3], a4)]/ math.factorial(a4)\n",
    "                    for a5 in range(12 - sum_sofar4):\n",
    "                        sum_sofar5 = a5 + sum_sofar4\n",
    "                        coef5 = coef4*steps_dict[(start[4], a5)]/ math.factorial(a5)\n",
    "                        for a6 in range(12 - sum_sofar5):\n",
    "                            sum_sofar6 = a6 + sum_sofar5\n",
    "                            coef6 = coef5*steps_dict[(start[5], a6)]/ math.factorial(a6)\n",
    "                            for a7 in range(12 - sum_sofar6):\n",
    "                                sum_sofar7 = a7 + sum_sofar6\n",
    "                                coef7 = coef6*steps_dict[(start[6], a7)]/ math.factorial(a7)\n",
    "                                a8 = 12 - sum_sofar7\n",
    "                                cnt_so_far += coef7*steps_dict[(start[7], a8)]/math.factorial(a8)\n",
    "    return cnt_so_far\n",
    "                                    \n",
    "                                    \n",
    "        \n",
    "        "
   ]
  },
  {
   "cell_type": "code",
   "execution_count": 39,
   "metadata": {},
   "outputs": [
    {
     "data": {
      "text/plain": [
       "1843298823827.0"
      ]
     },
     "execution_count": 39,
     "metadata": {},
     "output_type": "execute_result"
    }
   ],
   "source": [
    "num_of_steps_8d((0,0,0,0,0,0,0,0))"
   ]
  },
  {
   "cell_type": "code",
   "execution_count": 41,
   "metadata": {},
   "outputs": [
    {
     "data": {
      "text/plain": [
       "224737601066556.0"
      ]
     },
     "execution_count": 41,
     "metadata": {},
     "output_type": "execute_result"
    }
   ],
   "source": [
    "num_of_steps_8d(tuple([5]*8))"
   ]
  },
  {
   "cell_type": "code",
   "execution_count": 42,
   "metadata": {},
   "outputs": [
    {
     "data": {
      "text/plain": [
       "121.92141510727096"
      ]
     },
     "execution_count": 42,
     "metadata": {},
     "output_type": "execute_result"
    }
   ],
   "source": [
    "num_of_steps_8d(tuple([5]*8))/num_of_steps_8d(tuple([0]*8))"
   ]
  },
  {
   "cell_type": "code",
   "execution_count": 66,
   "metadata": {},
   "outputs": [],
   "source": [
    "total_steps_by_starting_point = {}\n",
    "for a in range(6):\n",
    "    for b in range(a, 6):\n",
    "        for c in range(b, 6):\n",
    "            for d in range(c, 6):\n",
    "                for e in range(d, 6):\n",
    "                    for f in range(e, 6):\n",
    "                        for g in range(f,6):\n",
    "                            for h in range(g, 6):\n",
    "                                starting_point = (a, b, c, d, e, f, g, h)\n",
    "                                cnt = collections.Counter(starting_point)\n",
    "                                total_steps_by_starting_point[starting_point] = [num_of_steps_8d(starting_point), math.factorial(8) /np.product([math.factorial(val) for val in cnt.values()])]\n",
    "    "
   ]
  },
  {
   "cell_type": "code",
   "execution_count": 71,
   "metadata": {},
   "outputs": [
    {
     "name": "stdout",
     "output_type": "stream",
     "text": [
      "1679616.0\n"
     ]
    }
   ],
   "source": [
    "sum_cnt = 0\n",
    "start_cnt = 0\n",
    "var = 0\n",
    "for key in total_steps_by_starting_point.keys():\n",
    "    #sum_cnt += total_steps_by_starting_point[key][0]*total_steps_by_starting_point[key][1]\n",
    "    start_cnt += total_steps_by_starting_point[key][1]\n",
    "    var += (total_steps_by_starting_point[key][0]- mean)**2 * total_steps_by_starting_point[key][1]\n",
    "print(start_cnt)\n",
    "mean = sum_cnt/start_cnt\n",
    "np\n",
    "    "
   ]
  },
  {
   "cell_type": "code",
   "execution_count": 72,
   "metadata": {},
   "outputs": [
    {
     "data": {
      "text/plain": [
       "1679616"
      ]
     },
     "execution_count": 72,
     "metadata": {},
     "output_type": "execute_result"
    }
   ],
   "source": [
    "std"
   ]
  },
  {
   "cell_type": "code",
   "execution_count": 69,
   "metadata": {},
   "outputs": [
    {
     "data": {
      "text/plain": [
       "[(0, 0, 0, 1, 1, 2, 5, 5),\n",
       " (0, 0, 0, 1, 1, 3, 3, 3),\n",
       " (0, 0, 0, 1, 1, 3, 3, 4),\n",
       " (0, 0, 0, 1, 1, 3, 3, 5),\n",
       " (0, 0, 0, 1, 1, 3, 4, 4),\n",
       " (0, 0, 0, 1, 1, 3, 4, 5),\n",
       " (0, 0, 0, 1, 1, 3, 5, 5),\n",
       " (0, 0, 0, 1, 1, 4, 4, 4)]"
      ]
     },
     "execution_count": 69,
     "metadata": {},
     "output_type": "execute_result"
    }
   ],
   "source": [
    "list(total_steps_by_starting_point.keys())[150:158]"
   ]
  },
  {
   "cell_type": "code",
   "execution_count": 63,
   "metadata": {},
   "outputs": [],
   "source": [
    "import collections\n",
    "import numpy as np\n",
    "cnt = collections.Counter((1,2 ,3,3,4, 4, 4, 5))"
   ]
  },
  {
   "cell_type": "code",
   "execution_count": 53,
   "metadata": {},
   "outputs": [
    {
     "data": {
      "text/plain": [
       "array([dict_values([1, 1, 2, 1])], dtype=object)"
      ]
     },
     "execution_count": 53,
     "metadata": {},
     "output_type": "execute_result"
    }
   ],
   "source": [
    "np.cumprod(cnt.values())"
   ]
  },
  {
   "cell_type": "code",
   "execution_count": 64,
   "metadata": {},
   "outputs": [
    {
     "data": {
      "text/plain": [
       "12"
      ]
     },
     "execution_count": 64,
     "metadata": {},
     "output_type": "execute_result"
    }
   ],
   "source": [
    "np.product([math.factorial(val) for val in cnt.values()])"
   ]
  },
  {
   "cell_type": "code",
   "execution_count": null,
   "metadata": {
    "collapsed": true
   },
   "outputs": [],
   "source": []
  },
  {
   "cell_type": "code",
   "execution_count": null,
   "metadata": {
    "collapsed": true
   },
   "outputs": [],
   "source": []
  },
  {
   "cell_type": "code",
   "execution_count": null,
   "metadata": {
    "collapsed": true
   },
   "outputs": [],
   "source": []
  },
  {
   "cell_type": "code",
   "execution_count": null,
   "metadata": {
    "collapsed": true
   },
   "outputs": [],
   "source": []
  },
  {
   "cell_type": "code",
   "execution_count": 69,
   "metadata": {
    "collapsed": true
   },
   "outputs": [],
   "source": [
    "def ref(i, N):\n",
    "    \n",
    "    return N - i - 1 if i > N/2 else i\n",
    "    \n",
    "def reflect(loc,N):\n",
    "    return tuple([ref(loc[i],N ) for i in range(len(loc))])"
   ]
  },
  {
   "cell_type": "markdown",
   "metadata": {
    "collapsed": true
   },
   "source": [
    "N = 12\n",
    "n = 6\n",
    "next_steps_dic2 = collections.defaultdict()\n",
    "for a1 in range(n):\n",
    "    for a2 in range(n):\n",
    "        for a3 in range(n):\n",
    "            for a4 in range(n):\n",
    "                for a5 in range(n):\n",
    "                    for a6 in range(n):\n",
    "                        for a7 in range(n):\n",
    "                            for a8 in range(n):\n",
    "                                loc = (a1, a2, a3, a4, a5, a6, a7, a8)\n",
    "                                next_steps_dic2[loc] = next_steps(loc, N)"
   ]
  },
  {
   "cell_type": "code",
   "execution_count": 70,
   "metadata": {},
   "outputs": [
    {
     "data": {
      "text/plain": [
       "(1, 2, 4, 3, 2, 0, 4, 2)"
      ]
     },
     "execution_count": 70,
     "metadata": {},
     "output_type": "execute_result"
    }
   ],
   "source": [
    "reflect((1,2,4,8, 9, 11, 7, 2), 12)"
   ]
  },
  {
   "cell_type": "markdown",
   "metadata": {
    "collapsed": true
   },
   "source": [
    "def num_of_steps2(start, m):    \n",
    "    steps_list = [{start:1}]\n",
    "    for step in range(1, m+1):\n",
    "        steps_and_loc_dic2 = collections.defaultdict()\n",
    "        for prev_loc in steps_list[step - 1].keys():\n",
    "            for this_loc in next_steps_dic[prev_loc]:\n",
    "                this_loc = reflect(this_loc)\n",
    "                steps_and_loc_dic2[this_loc] = steps_and_loc_dic2.get(this_loc, 0) + steps_list[step -1][prev_loc]\n",
    "        steps_list.append(steps_and_loc_dic2)\n",
    "        \n",
    "        \n",
    "        \n",
    "    return sum(steps_list[-1].values())"
   ]
  },
  {
   "cell_type": "code",
   "execution_count": 79,
   "metadata": {},
   "outputs": [
    {
     "name": "stdout",
     "output_type": "stream",
     "text": [
      "[{(5, 5): 1}, defaultdict(None, {(4, 5): 1, (6, 5): 1, (5, 4): 1, (5, 6): 1})]\n"
     ]
    },
    {
     "ename": "KeyError",
     "evalue": "(6, 5)",
     "output_type": "error",
     "traceback": [
      "\u001b[1;31m---------------------------------------------------------------------------\u001b[0m",
      "\u001b[1;31mKeyError\u001b[0m                                  Traceback (most recent call last)",
      "\u001b[1;32m<ipython-input-79-c4557abbd7ea>\u001b[0m in \u001b[0;36m<module>\u001b[1;34m()\u001b[0m\n\u001b[1;32m----> 1\u001b[1;33m \u001b[0mnum_of_steps_try\u001b[0m\u001b[1;33m(\u001b[0m\u001b[1;33m(\u001b[0m\u001b[1;36m5\u001b[0m\u001b[1;33m,\u001b[0m\u001b[1;36m5\u001b[0m\u001b[1;33m)\u001b[0m\u001b[1;33m,\u001b[0m \u001b[1;36m2\u001b[0m\u001b[1;33m)\u001b[0m\u001b[1;33m\u001b[0m\u001b[1;33m\u001b[0m\u001b[0m\n\u001b[0m",
      "\u001b[1;32m<ipython-input-78-d060085d2f99>\u001b[0m in \u001b[0;36mnum_of_steps_try\u001b[1;34m(start, m)\u001b[0m\n\u001b[0;32m      4\u001b[0m         \u001b[0msteps_and_loc_dic_try\u001b[0m \u001b[1;33m=\u001b[0m \u001b[0mcollections\u001b[0m\u001b[1;33m.\u001b[0m\u001b[0mdefaultdict\u001b[0m\u001b[1;33m(\u001b[0m\u001b[1;33m)\u001b[0m\u001b[1;33m\u001b[0m\u001b[1;33m\u001b[0m\u001b[0m\n\u001b[0;32m      5\u001b[0m         \u001b[1;32mfor\u001b[0m \u001b[0mprev_loc\u001b[0m \u001b[1;32min\u001b[0m \u001b[0msteps_list\u001b[0m\u001b[1;33m[\u001b[0m\u001b[0mstep\u001b[0m \u001b[1;33m-\u001b[0m \u001b[1;36m1\u001b[0m\u001b[1;33m]\u001b[0m\u001b[1;33m.\u001b[0m\u001b[0mkeys\u001b[0m\u001b[1;33m(\u001b[0m\u001b[1;33m)\u001b[0m\u001b[1;33m:\u001b[0m\u001b[1;33m\u001b[0m\u001b[1;33m\u001b[0m\u001b[0m\n\u001b[1;32m----> 6\u001b[1;33m             \u001b[1;32mfor\u001b[0m \u001b[0mthis_loc\u001b[0m \u001b[1;32min\u001b[0m \u001b[0mnext_step_try\u001b[0m\u001b[1;33m[\u001b[0m\u001b[0mprev_loc\u001b[0m\u001b[1;33m]\u001b[0m\u001b[1;33m:\u001b[0m\u001b[1;33m\u001b[0m\u001b[1;33m\u001b[0m\u001b[0m\n\u001b[0m\u001b[0;32m      7\u001b[0m                 \u001b[0mthis_loc\u001b[0m \u001b[1;33m=\u001b[0m \u001b[0mreflect\u001b[0m\u001b[1;33m(\u001b[0m\u001b[0mthis_loc\u001b[0m\u001b[1;33m,\u001b[0m \u001b[1;36m12\u001b[0m\u001b[1;33m)\u001b[0m\u001b[1;33m\u001b[0m\u001b[1;33m\u001b[0m\u001b[0m\n\u001b[0;32m      8\u001b[0m                 \u001b[0msteps_and_loc_dic_try\u001b[0m\u001b[1;33m[\u001b[0m\u001b[0mthis_loc\u001b[0m\u001b[1;33m]\u001b[0m \u001b[1;33m=\u001b[0m \u001b[0msteps_and_loc_dic_try\u001b[0m\u001b[1;33m.\u001b[0m\u001b[0mget\u001b[0m\u001b[1;33m(\u001b[0m\u001b[0mthis_loc\u001b[0m\u001b[1;33m,\u001b[0m \u001b[1;36m0\u001b[0m\u001b[1;33m)\u001b[0m \u001b[1;33m+\u001b[0m \u001b[0msteps_list\u001b[0m\u001b[1;33m[\u001b[0m\u001b[0mstep\u001b[0m \u001b[1;33m-\u001b[0m\u001b[1;36m1\u001b[0m\u001b[1;33m]\u001b[0m\u001b[1;33m[\u001b[0m\u001b[0mprev_loc\u001b[0m\u001b[1;33m]\u001b[0m\u001b[1;33m\u001b[0m\u001b[1;33m\u001b[0m\u001b[0m\n",
      "\u001b[1;31mKeyError\u001b[0m: (6, 5)"
     ]
    }
   ],
   "source": [
    "num_of_steps_try((5,5), 2)"
   ]
  },
  {
   "cell_type": "markdown",
   "metadata": {
    "collapsed": true
   },
   "source": [
    "next_step_try = collections.defaultdict()\n",
    "for i in range(6):\n",
    "    for j in range(6):\n",
    "        next_step_try[(i,j)] = next_steps((i,j), 12)"
   ]
  },
  {
   "cell_type": "markdown",
   "metadata": {
    "collapsed": true
   },
   "source": [
    "def num_of_steps_try(start, m):\n",
    "    steps_list = [{start:1}]\n",
    "    for step in range(1, m+1):\n",
    "        steps_and_loc_dic_try = collections.defaultdict()\n",
    "        for prev_loc in steps_list[step - 1].keys():\n",
    "            for this_loc in next_step_try[prev_loc]:\n",
    "                this_loc = reflect(this_loc, 12)\n",
    "                steps_and_loc_dic_try[this_loc] = steps_and_loc_dic_try.get(this_loc, 0) + steps_list[step -1][prev_loc]\n",
    "        steps_list.append(steps_and_loc_dic_try)\n",
    "    print(steps_list)\n",
    "    return sum(steps_list[-1].values())"
   ]
  },
  {
   "cell_type": "code",
   "execution_count": 55,
   "metadata": {},
   "outputs": [
    {
     "data": {
      "text/plain": [
       "44569724"
      ]
     },
     "execution_count": 55,
     "metadata": {},
     "output_type": "execute_result"
    }
   ],
   "source": [
    "num_of_steps((0,0,0,0), 10)"
   ]
  },
  {
   "cell_type": "code",
   "execution_count": 56,
   "metadata": {},
   "outputs": [
    {
     "data": {
      "text/plain": [
       "1061298332"
      ]
     },
     "execution_count": 56,
     "metadata": {},
     "output_type": "execute_result"
    }
   ],
   "source": [
    "num_of_steps((5,5,5,5), 10)"
   ]
  },
  {
   "cell_type": "markdown",
   "metadata": {},
   "source": [
    "sum({next_step:1 for next_step in next_steps_dic[(1,2,3,4)]}.values())"
   ]
  },
  {
   "cell_type": "markdown",
   "metadata": {},
   "source": [
    "dicA = collections.defaultdict()\n",
    "for loc in next_steps_dic[(1,2,3,4)]:\n",
    "    dicA[(1,loc)] = 1\n",
    "list(dicA.keys())\n",
    "dicA[(7,8,9,5)] = dicA.get((7,8,9,10), 0) + 1\n",
    "dicA"
   ]
  },
  {
   "cell_type": "code",
   "execution_count": 266,
   "metadata": {},
   "outputs": [
    {
     "data": {
      "text/plain": [
       "8"
      ]
     },
     "execution_count": 266,
     "metadata": {},
     "output_type": "execute_result"
    }
   ],
   "source": [
    "len(next_steps_dic[(1,2,3,4)])"
   ]
  },
  {
   "cell_type": "code",
   "execution_count": 249,
   "metadata": {},
   "outputs": [
    {
     "data": {
      "text/plain": [
       "23.81209118548726"
      ]
     },
     "execution_count": 249,
     "metadata": {},
     "output_type": "execute_result"
    }
   ],
   "source": [
    "1061298332/44569724"
   ]
  },
  {
   "cell_type": "code",
   "execution_count": 302,
   "metadata": {},
   "outputs": [
    {
     "data": {
      "text/plain": [
       "12"
      ]
     },
     "execution_count": 302,
     "metadata": {},
     "output_type": "execute_result"
    }
   ],
   "source": [
    "occurance((2,3,4,4))"
   ]
  }
 ],
 "metadata": {
  "kernelspec": {
   "display_name": "Python 3",
   "language": "python",
   "name": "python3"
  },
  "language_info": {
   "codemirror_mode": {
    "name": "ipython",
    "version": 3
   },
   "file_extension": ".py",
   "mimetype": "text/x-python",
   "name": "python",
   "nbconvert_exporter": "python",
   "pygments_lexer": "ipython3",
   "version": "3.6.8"
  }
 },
 "nbformat": 4,
 "nbformat_minor": 2
}
