{
 "cells": [
  {
   "cell_type": "code",
   "execution_count": 1,
   "metadata": {
    "collapsed": true
   },
   "outputs": [],
   "source": [
    "import pandas as pd\n",
    "import sys\n",
    "import os\n",
    "import numpy as np\n",
    "import matplotlib.pyplot as plt\n",
    "import seaborn as sns\n",
    "import math\n"
   ]
  },
  {
   "cell_type": "code",
   "execution_count": 4,
   "metadata": {},
   "outputs": [
    {
     "name": "stderr",
     "output_type": "stream",
     "text": [
      "C:\\Users\\Zhongyi Zhang\\Anaconda3\\lib\\site-packages\\IPython\\core\\interactiveshell.py:2717: DtypeWarning: Columns (0,77) have mixed types. Specify dtype option on import or set low_memory=False.\n",
      "  interactivity=interactivity, compiler=compiler, result=result)\n"
     ]
    }
   ],
   "source": [
    "df1 = pd.read_csv(\"Dataset1.csv\")"
   ]
  },
  {
   "cell_type": "code",
   "execution_count": 5,
   "metadata": {},
   "outputs": [
    {
     "name": "stderr",
     "output_type": "stream",
     "text": [
      "C:\\Users\\Zhongyi Zhang\\Anaconda3\\lib\\site-packages\\IPython\\core\\interactiveshell.py:2717: DtypeWarning: Columns (0,54,77,91,95,101,110,127,128) have mixed types. Specify dtype option on import or set low_memory=False.\n",
      "  interactivity=interactivity, compiler=compiler, result=result)\n"
     ]
    }
   ],
   "source": [
    "df2 = pd.read_csv(\"Dataset2.csv\")"
   ]
  },
  {
   "cell_type": "code",
   "execution_count": 4,
   "metadata": {},
   "outputs": [
    {
     "data": {
      "text/html": [
       "<div>\n",
       "<style scoped>\n",
       "    .dataframe tbody tr th:only-of-type {\n",
       "        vertical-align: middle;\n",
       "    }\n",
       "\n",
       "    .dataframe tbody tr th {\n",
       "        vertical-align: top;\n",
       "    }\n",
       "\n",
       "    .dataframe thead th {\n",
       "        text-align: right;\n",
       "    }\n",
       "</style>\n",
       "<table border=\"1\" class=\"dataframe\">\n",
       "  <thead>\n",
       "    <tr style=\"text-align: right;\">\n",
       "      <th></th>\n",
       "      <th>id</th>\n",
       "      <th>member_id</th>\n",
       "      <th>application_type</th>\n",
       "      <th>revol_bal_joint</th>\n",
       "      <th>mths_since_rcnt_il</th>\n",
       "      <th>open_rv_12m</th>\n",
       "      <th>sec_app_inq_last_6mths</th>\n",
       "      <th>sec_app_mths_since_last_major_derog</th>\n",
       "      <th>verification_status</th>\n",
       "      <th>dti_joint</th>\n",
       "      <th>...</th>\n",
       "      <th>last_pymnt_amnt</th>\n",
       "      <th>mths_since_last_record</th>\n",
       "      <th>mo_sin_rcnt_rev_tl_op</th>\n",
       "      <th>sec_app_open_acc</th>\n",
       "      <th>sub_grade</th>\n",
       "      <th>sec_app_mort_acc</th>\n",
       "      <th>emp_title</th>\n",
       "      <th>avg_cur_bal</th>\n",
       "      <th>sec_app_collections_12_mths_ex_med</th>\n",
       "      <th>num_tl_90g_dpd_24m</th>\n",
       "    </tr>\n",
       "  </thead>\n",
       "  <tbody>\n",
       "    <tr>\n",
       "      <td>0</td>\n",
       "      <td>NaN</td>\n",
       "      <td>NaN</td>\n",
       "      <td>Individual</td>\n",
       "      <td>NaN</td>\n",
       "      <td>NaN</td>\n",
       "      <td>NaN</td>\n",
       "      <td>NaN</td>\n",
       "      <td>NaN</td>\n",
       "      <td>Verified</td>\n",
       "      <td>NaN</td>\n",
       "      <td>...</td>\n",
       "      <td>8184.05</td>\n",
       "      <td>NaN</td>\n",
       "      <td>NaN</td>\n",
       "      <td>NaN</td>\n",
       "      <td>B5</td>\n",
       "      <td>NaN</td>\n",
       "      <td>Advanced Entertainment Technology</td>\n",
       "      <td>NaN</td>\n",
       "      <td>NaN</td>\n",
       "      <td>NaN</td>\n",
       "    </tr>\n",
       "    <tr>\n",
       "      <td>1</td>\n",
       "      <td>NaN</td>\n",
       "      <td>NaN</td>\n",
       "      <td>Individual</td>\n",
       "      <td>NaN</td>\n",
       "      <td>NaN</td>\n",
       "      <td>NaN</td>\n",
       "      <td>NaN</td>\n",
       "      <td>NaN</td>\n",
       "      <td>Source Verified</td>\n",
       "      <td>NaN</td>\n",
       "      <td>...</td>\n",
       "      <td>15.00</td>\n",
       "      <td>NaN</td>\n",
       "      <td>NaN</td>\n",
       "      <td>NaN</td>\n",
       "      <td>A5</td>\n",
       "      <td>NaN</td>\n",
       "      <td>DP Products</td>\n",
       "      <td>NaN</td>\n",
       "      <td>NaN</td>\n",
       "      <td>NaN</td>\n",
       "    </tr>\n",
       "    <tr>\n",
       "      <td>2</td>\n",
       "      <td>NaN</td>\n",
       "      <td>NaN</td>\n",
       "      <td>Individual</td>\n",
       "      <td>NaN</td>\n",
       "      <td>NaN</td>\n",
       "      <td>NaN</td>\n",
       "      <td>NaN</td>\n",
       "      <td>NaN</td>\n",
       "      <td>Not Verified</td>\n",
       "      <td>NaN</td>\n",
       "      <td>...</td>\n",
       "      <td>146.58</td>\n",
       "      <td>NaN</td>\n",
       "      <td>NaN</td>\n",
       "      <td>NaN</td>\n",
       "      <td>B3</td>\n",
       "      <td>NaN</td>\n",
       "      <td>Somerset County Dept of Emergency Servic</td>\n",
       "      <td>NaN</td>\n",
       "      <td>NaN</td>\n",
       "      <td>NaN</td>\n",
       "    </tr>\n",
       "    <tr>\n",
       "      <td>3</td>\n",
       "      <td>NaN</td>\n",
       "      <td>NaN</td>\n",
       "      <td>Individual</td>\n",
       "      <td>NaN</td>\n",
       "      <td>NaN</td>\n",
       "      <td>NaN</td>\n",
       "      <td>NaN</td>\n",
       "      <td>NaN</td>\n",
       "      <td>Source Verified</td>\n",
       "      <td>NaN</td>\n",
       "      <td>...</td>\n",
       "      <td>107.64</td>\n",
       "      <td>NaN</td>\n",
       "      <td>NaN</td>\n",
       "      <td>NaN</td>\n",
       "      <td>B4</td>\n",
       "      <td>NaN</td>\n",
       "      <td>lee county sheriff</td>\n",
       "      <td>NaN</td>\n",
       "      <td>NaN</td>\n",
       "      <td>NaN</td>\n",
       "    </tr>\n",
       "    <tr>\n",
       "      <td>4</td>\n",
       "      <td>NaN</td>\n",
       "      <td>NaN</td>\n",
       "      <td>Individual</td>\n",
       "      <td>NaN</td>\n",
       "      <td>NaN</td>\n",
       "      <td>NaN</td>\n",
       "      <td>NaN</td>\n",
       "      <td>NaN</td>\n",
       "      <td>Not Verified</td>\n",
       "      <td>NaN</td>\n",
       "      <td>...</td>\n",
       "      <td>351.83</td>\n",
       "      <td>NaN</td>\n",
       "      <td>NaN</td>\n",
       "      <td>NaN</td>\n",
       "      <td>E2</td>\n",
       "      <td>NaN</td>\n",
       "      <td>Capitol Manufactoring</td>\n",
       "      <td>NaN</td>\n",
       "      <td>NaN</td>\n",
       "      <td>NaN</td>\n",
       "    </tr>\n",
       "  </tbody>\n",
       "</table>\n",
       "<p>5 rows × 144 columns</p>\n",
       "</div>"
      ],
      "text/plain": [
       "    id  member_id application_type  revol_bal_joint  mths_since_rcnt_il  \\\n",
       "0  NaN        NaN       Individual              NaN                 NaN   \n",
       "1  NaN        NaN       Individual              NaN                 NaN   \n",
       "2  NaN        NaN       Individual              NaN                 NaN   \n",
       "3  NaN        NaN       Individual              NaN                 NaN   \n",
       "4  NaN        NaN       Individual              NaN                 NaN   \n",
       "\n",
       "   open_rv_12m  sec_app_inq_last_6mths  sec_app_mths_since_last_major_derog  \\\n",
       "0          NaN                     NaN                                  NaN   \n",
       "1          NaN                     NaN                                  NaN   \n",
       "2          NaN                     NaN                                  NaN   \n",
       "3          NaN                     NaN                                  NaN   \n",
       "4          NaN                     NaN                                  NaN   \n",
       "\n",
       "  verification_status  dti_joint  ...  last_pymnt_amnt  \\\n",
       "0            Verified        NaN  ...          8184.05   \n",
       "1     Source Verified        NaN  ...            15.00   \n",
       "2        Not Verified        NaN  ...           146.58   \n",
       "3     Source Verified        NaN  ...           107.64   \n",
       "4        Not Verified        NaN  ...           351.83   \n",
       "\n",
       "   mths_since_last_record  mo_sin_rcnt_rev_tl_op  sec_app_open_acc sub_grade  \\\n",
       "0                     NaN                    NaN               NaN        B5   \n",
       "1                     NaN                    NaN               NaN        A5   \n",
       "2                     NaN                    NaN               NaN        B3   \n",
       "3                     NaN                    NaN               NaN        B4   \n",
       "4                     NaN                    NaN               NaN        E2   \n",
       "\n",
       "   sec_app_mort_acc                                 emp_title avg_cur_bal  \\\n",
       "0               NaN         Advanced Entertainment Technology         NaN   \n",
       "1               NaN                               DP Products         NaN   \n",
       "2               NaN  Somerset County Dept of Emergency Servic         NaN   \n",
       "3               NaN                        lee county sheriff         NaN   \n",
       "4               NaN                     Capitol Manufactoring         NaN   \n",
       "\n",
       "   sec_app_collections_12_mths_ex_med num_tl_90g_dpd_24m  \n",
       "0                                 NaN                NaN  \n",
       "1                                 NaN                NaN  \n",
       "2                                 NaN                NaN  \n",
       "3                                 NaN                NaN  \n",
       "4                                 NaN                NaN  \n",
       "\n",
       "[5 rows x 144 columns]"
      ]
     },
     "execution_count": 4,
     "metadata": {},
     "output_type": "execute_result"
    }
   ],
   "source": [
    "df1.head()"
   ]
  },
  {
   "cell_type": "code",
   "execution_count": 109,
   "metadata": {},
   "outputs": [
    {
     "data": {
      "text/plain": [
       "Index(['verification_status', 'total_rec_int', 'delinq_2yrs',\n",
       "       'last_credit_pull_d', 'tax_liens', 'collection_recovery_fee',\n",
       "       'last_pymnt_d', 'home_ownership', 'inq_last_6mths', 'acc_now_delinq',\n",
       "       'total_rec_late_fee', 'debt_settlement_flag', 'zip_code', 'grade',\n",
       "       'open_acc', 'total_pymnt_inv', 'dti', 'delinq_amnt', 'total_acc',\n",
       "       'earliest_cr_line', 'loan_status', 'pub_rec', 'term', 'annual_inc',\n",
       "       'total_rec_prncp', 'funded_amnt_inv', 'rate', 'total_pymnt', 'int_rate',\n",
       "       'loan_amnt', 'installment', 'pub_rec_bankruptcies', 'funded_amnt',\n",
       "       'recoveries', 'emp_length', 'amount', 'last_pymnt_amnt', 'sub_grade',\n",
       "       'cred_length', 'time_since_last_credit_pull',\n",
       "       'time_since_last_payment'],\n",
       "      dtype='object')"
      ]
     },
     "execution_count": 109,
     "metadata": {},
     "output_type": "execute_result"
    }
   ],
   "source": [
    "df1.columns"
   ]
  },
  {
   "cell_type": "code",
   "execution_count": 233,
   "metadata": {},
   "outputs": [
    {
     "data": {
      "text/plain": [
       "(191942, 38)"
      ]
     },
     "execution_count": 233,
     "metadata": {},
     "output_type": "execute_result"
    }
   ],
   "source": [
    "df2.shape"
   ]
  },
  {
   "cell_type": "code",
   "execution_count": 37,
   "metadata": {},
   "outputs": [
    {
     "name": "stdout",
     "output_type": "stream",
     "text": [
      "<class 'pandas.core.frame.DataFrame'>\n",
      "RangeIndex: 43392 entries, 0 to 43391\n",
      "Columns: 144 entries, id to num_tl_90g_dpd_24m\n",
      "dtypes: float64(115), object(29)\n",
      "memory usage: 47.7+ MB\n"
     ]
    }
   ],
   "source": [
    "df1.info()"
   ]
  },
  {
   "cell_type": "code",
   "execution_count": 71,
   "metadata": {},
   "outputs": [
    {
     "name": "stdout",
     "output_type": "stream",
     "text": [
      "<class 'pandas.core.frame.DataFrame'>\n",
      "RangeIndex: 191947 entries, 0 to 191946\n",
      "Columns: 144 entries, id to num_tl_90g_dpd_24m\n",
      "dtypes: float64(108), object(36)\n",
      "memory usage: 210.9+ MB\n"
     ]
    }
   ],
   "source": [
    "df2.info()"
   ]
  },
  {
   "cell_type": "code",
   "execution_count": 6,
   "metadata": {
    "collapsed": true
   },
   "outputs": [],
   "source": [
    "valid_columns2 = df2.columns[df2.sample(n = 10000).isnull().sum(0) < 500]"
   ]
  },
  {
   "cell_type": "code",
   "execution_count": 7,
   "metadata": {
    "collapsed": true
   },
   "outputs": [],
   "source": [
    "df2 = df2[valid_columns2]"
   ]
  },
  {
   "cell_type": "code",
   "execution_count": 8,
   "metadata": {
    "collapsed": true
   },
   "outputs": [],
   "source": [
    "df1 = df1[valid_columns2]"
   ]
  },
  {
   "cell_type": "code",
   "execution_count": 9,
   "metadata": {
    "collapsed": true
   },
   "outputs": [],
   "source": [
    "valid_columns1 = df1.columns[df1.sample(n= 10000).isnull().sum(0) < 500]"
   ]
  },
  {
   "cell_type": "code",
   "execution_count": 10,
   "metadata": {
    "collapsed": true
   },
   "outputs": [],
   "source": [
    "df1 = df1[valid_columns1]\n",
    "df2= df2[valid_columns1]"
   ]
  },
  {
   "cell_type": "code",
   "execution_count": 11,
   "metadata": {},
   "outputs": [
    {
     "data": {
      "text/plain": [
       "(43392, 51)"
      ]
     },
     "execution_count": 11,
     "metadata": {},
     "output_type": "execute_result"
    }
   ],
   "source": [
    "single_columns = [col for col in valid_columns1 if len(df2[col].unique()) ==1]\n",
    "df2.drop(single_columns,axis = 1, inplace=True)\n",
    "df1.drop(single_columns,axis = 1, inplace=True)\n",
    "df1.shape"
   ]
  },
  {
   "cell_type": "code",
   "execution_count": 12,
   "metadata": {},
   "outputs": [
    {
     "data": {
      "text/plain": [
       "(43392, 51)"
      ]
     },
     "execution_count": 12,
     "metadata": {},
     "output_type": "execute_result"
    }
   ],
   "source": [
    "single_columns1 =  [col for col in valid_columns1 if len(df1[col].unique()) ==1]\n",
    "df2.drop(single_columns1,axis = 1, inplace=True)\n",
    "df1.drop(single_columns1,axis = 1, inplace=True)\n",
    "df1.shape"
   ]
  },
  {
   "cell_type": "code",
   "execution_count": 222,
   "metadata": {},
   "outputs": [
    {
     "data": {
      "text/html": [
       "<div>\n",
       "<style scoped>\n",
       "    .dataframe tbody tr th:only-of-type {\n",
       "        vertical-align: middle;\n",
       "    }\n",
       "\n",
       "    .dataframe tbody tr th {\n",
       "        vertical-align: top;\n",
       "    }\n",
       "\n",
       "    .dataframe thead th {\n",
       "        text-align: right;\n",
       "    }\n",
       "</style>\n",
       "<table border=\"1\" class=\"dataframe\">\n",
       "  <thead>\n",
       "    <tr style=\"text-align: right;\">\n",
       "      <th></th>\n",
       "      <th>verification_status</th>\n",
       "      <th>total_rec_int</th>\n",
       "      <th>delinq_2yrs</th>\n",
       "      <th>last_credit_pull_d</th>\n",
       "      <th>tax_liens</th>\n",
       "      <th>collection_recovery_fee</th>\n",
       "      <th>last_pymnt_d</th>\n",
       "      <th>home_ownership</th>\n",
       "      <th>inq_last_6mths</th>\n",
       "      <th>acc_now_delinq</th>\n",
       "      <th>total_rec_late_fee</th>\n",
       "      <th>debt_settlement_flag</th>\n",
       "      <th>zip_code</th>\n",
       "      <th>grade</th>\n",
       "      <th>open_acc</th>\n",
       "      <th>total_pymnt_inv</th>\n",
       "      <th>dti</th>\n",
       "      <th>delinq_amnt</th>\n",
       "      <th>total_acc</th>\n",
       "      <th>earliest_cr_line</th>\n",
       "    </tr>\n",
       "  </thead>\n",
       "  <tbody>\n",
       "    <tr>\n",
       "      <td>0</td>\n",
       "      <td>Verified</td>\n",
       "      <td>1155.07</td>\n",
       "      <td>0.0</td>\n",
       "      <td>Aug-11</td>\n",
       "      <td>0.0</td>\n",
       "      <td>0.00</td>\n",
       "      <td>Jan-12</td>\n",
       "      <td>MORTGAGE</td>\n",
       "      <td>0.0</td>\n",
       "      <td>0.0</td>\n",
       "      <td>0.000000</td>\n",
       "      <td>Y</td>\n",
       "      <td>917xx</td>\n",
       "      <td>B</td>\n",
       "      <td>10.0</td>\n",
       "      <td>9153.78</td>\n",
       "      <td>23.92</td>\n",
       "      <td>0.0</td>\n",
       "      <td>28.0</td>\n",
       "      <td>Jan-68</td>\n",
       "    </tr>\n",
       "    <tr>\n",
       "      <td>1</td>\n",
       "      <td>Source Verified</td>\n",
       "      <td>200.03</td>\n",
       "      <td>0.0</td>\n",
       "      <td>Oct-16</td>\n",
       "      <td>0.0</td>\n",
       "      <td>1.75</td>\n",
       "      <td>Nov-11</td>\n",
       "      <td>OWN</td>\n",
       "      <td>1.0</td>\n",
       "      <td>0.0</td>\n",
       "      <td>14.944409</td>\n",
       "      <td>N</td>\n",
       "      <td>953xx</td>\n",
       "      <td>A</td>\n",
       "      <td>3.0</td>\n",
       "      <td>1164.52</td>\n",
       "      <td>1.47</td>\n",
       "      <td>0.0</td>\n",
       "      <td>3.0</td>\n",
       "      <td>Jun-03</td>\n",
       "    </tr>\n",
       "    <tr>\n",
       "      <td>2</td>\n",
       "      <td>Not Verified</td>\n",
       "      <td>762.90</td>\n",
       "      <td>0.0</td>\n",
       "      <td>Dec-14</td>\n",
       "      <td>0.0</td>\n",
       "      <td>0.00</td>\n",
       "      <td>Dec-14</td>\n",
       "      <td>RENT</td>\n",
       "      <td>2.0</td>\n",
       "      <td>0.0</td>\n",
       "      <td>0.000000</td>\n",
       "      <td>N</td>\n",
       "      <td>218xx</td>\n",
       "      <td>B</td>\n",
       "      <td>19.0</td>\n",
       "      <td>4762.90</td>\n",
       "      <td>15.12</td>\n",
       "      <td>0.0</td>\n",
       "      <td>26.0</td>\n",
       "      <td>Mar-96</td>\n",
       "    </tr>\n",
       "    <tr>\n",
       "      <td>3</td>\n",
       "      <td>Source Verified</td>\n",
       "      <td>560.85</td>\n",
       "      <td>0.0</td>\n",
       "      <td>Dec-18</td>\n",
       "      <td>0.0</td>\n",
       "      <td>0.00</td>\n",
       "      <td>Jul-14</td>\n",
       "      <td>MORTGAGE</td>\n",
       "      <td>0.0</td>\n",
       "      <td>0.0</td>\n",
       "      <td>0.000000</td>\n",
       "      <td>N</td>\n",
       "      <td>339xx</td>\n",
       "      <td>B</td>\n",
       "      <td>6.0</td>\n",
       "      <td>3560.85</td>\n",
       "      <td>14.73</td>\n",
       "      <td>0.0</td>\n",
       "      <td>20.0</td>\n",
       "      <td>Sep-01</td>\n",
       "    </tr>\n",
       "    <tr>\n",
       "      <td>4</td>\n",
       "      <td>Not Verified</td>\n",
       "      <td>2317.73</td>\n",
       "      <td>0.0</td>\n",
       "      <td>Feb-19</td>\n",
       "      <td>0.0</td>\n",
       "      <td>0.00</td>\n",
       "      <td>Feb-16</td>\n",
       "      <td>RENT</td>\n",
       "      <td>3.0</td>\n",
       "      <td>0.0</td>\n",
       "      <td>0.000000</td>\n",
       "      <td>N</td>\n",
       "      <td>705xx</td>\n",
       "      <td>E</td>\n",
       "      <td>3.0</td>\n",
       "      <td>7117.73</td>\n",
       "      <td>3.51</td>\n",
       "      <td>0.0</td>\n",
       "      <td>5.0</td>\n",
       "      <td>Jun-06</td>\n",
       "    </tr>\n",
       "  </tbody>\n",
       "</table>\n",
       "</div>"
      ],
      "text/plain": [
       "  verification_status  total_rec_int  delinq_2yrs last_credit_pull_d  \\\n",
       "0            Verified        1155.07          0.0             Aug-11   \n",
       "1     Source Verified         200.03          0.0             Oct-16   \n",
       "2        Not Verified         762.90          0.0             Dec-14   \n",
       "3     Source Verified         560.85          0.0             Dec-18   \n",
       "4        Not Verified        2317.73          0.0             Feb-19   \n",
       "\n",
       "   tax_liens  collection_recovery_fee last_pymnt_d home_ownership  \\\n",
       "0        0.0                     0.00       Jan-12       MORTGAGE   \n",
       "1        0.0                     1.75       Nov-11            OWN   \n",
       "2        0.0                     0.00       Dec-14           RENT   \n",
       "3        0.0                     0.00       Jul-14       MORTGAGE   \n",
       "4        0.0                     0.00       Feb-16           RENT   \n",
       "\n",
       "   inq_last_6mths  acc_now_delinq  total_rec_late_fee debt_settlement_flag  \\\n",
       "0             0.0             0.0            0.000000                    Y   \n",
       "1             1.0             0.0           14.944409                    N   \n",
       "2             2.0             0.0            0.000000                    N   \n",
       "3             0.0             0.0            0.000000                    N   \n",
       "4             3.0             0.0            0.000000                    N   \n",
       "\n",
       "  zip_code grade  open_acc  total_pymnt_inv    dti  delinq_amnt  total_acc  \\\n",
       "0    917xx     B      10.0          9153.78  23.92          0.0       28.0   \n",
       "1    953xx     A       3.0          1164.52   1.47          0.0        3.0   \n",
       "2    218xx     B      19.0          4762.90  15.12          0.0       26.0   \n",
       "3    339xx     B       6.0          3560.85  14.73          0.0       20.0   \n",
       "4    705xx     E       3.0          7117.73   3.51          0.0        5.0   \n",
       "\n",
       "  earliest_cr_line  \n",
       "0           Jan-68  \n",
       "1           Jun-03  \n",
       "2           Mar-96  \n",
       "3           Sep-01  \n",
       "4           Jun-06  "
      ]
     },
     "execution_count": 222,
     "metadata": {},
     "output_type": "execute_result"
    }
   ],
   "source": [
    "df1.iloc[:5, :20]"
   ]
  },
  {
   "cell_type": "code",
   "execution_count": 223,
   "metadata": {},
   "outputs": [
    {
     "data": {
      "text/html": [
       "<div>\n",
       "<style scoped>\n",
       "    .dataframe tbody tr th:only-of-type {\n",
       "        vertical-align: middle;\n",
       "    }\n",
       "\n",
       "    .dataframe tbody tr th {\n",
       "        vertical-align: top;\n",
       "    }\n",
       "\n",
       "    .dataframe thead th {\n",
       "        text-align: right;\n",
       "    }\n",
       "</style>\n",
       "<table border=\"1\" class=\"dataframe\">\n",
       "  <thead>\n",
       "    <tr style=\"text-align: right;\">\n",
       "      <th></th>\n",
       "      <th>loan_status</th>\n",
       "      <th>pub_rec</th>\n",
       "      <th>term</th>\n",
       "      <th>annual_inc</th>\n",
       "      <th>total_rec_prncp</th>\n",
       "      <th>funded_amnt_inv</th>\n",
       "      <th>rate</th>\n",
       "      <th>total_pymnt</th>\n",
       "      <th>int_rate</th>\n",
       "      <th>loan_amnt</th>\n",
       "      <th>installment</th>\n",
       "      <th>pub_rec_bankruptcies</th>\n",
       "      <th>funded_amnt</th>\n",
       "      <th>recoveries</th>\n",
       "      <th>emp_length</th>\n",
       "      <th>amount</th>\n",
       "      <th>last_pymnt_amnt</th>\n",
       "      <th>sub_grade</th>\n",
       "      <th>cred_length</th>\n",
       "      <th>time_since_last_credit_pull</th>\n",
       "    </tr>\n",
       "  </thead>\n",
       "  <tbody>\n",
       "    <tr>\n",
       "      <td>0</td>\n",
       "      <td>Charged Off</td>\n",
       "      <td>0.0</td>\n",
       "      <td>60 months</td>\n",
       "      <td>58000.0</td>\n",
       "      <td>8156.44</td>\n",
       "      <td>16700.0</td>\n",
       "      <td>79.9</td>\n",
       "      <td>9318.260000</td>\n",
       "      <td>11.90</td>\n",
       "      <td>17000.0</td>\n",
       "      <td>378.07</td>\n",
       "      <td>0.0</td>\n",
       "      <td>17000.0</td>\n",
       "      <td>6.75</td>\n",
       "      <td>10+ years</td>\n",
       "      <td>49550.0</td>\n",
       "      <td>8184.05</td>\n",
       "      <td>B5</td>\n",
       "      <td>43</td>\n",
       "      <td>98.0</td>\n",
       "    </tr>\n",
       "    <tr>\n",
       "      <td>1</td>\n",
       "      <td>Charged Off</td>\n",
       "      <td>0.0</td>\n",
       "      <td>36 months</td>\n",
       "      <td>26880.0</td>\n",
       "      <td>778.32</td>\n",
       "      <td>4500.0</td>\n",
       "      <td>11.2</td>\n",
       "      <td>1164.520000</td>\n",
       "      <td>7.66</td>\n",
       "      <td>4500.0</td>\n",
       "      <td>140.31</td>\n",
       "      <td>0.0</td>\n",
       "      <td>4500.0</td>\n",
       "      <td>171.23</td>\n",
       "      <td>&lt; 1 year</td>\n",
       "      <td>2205.0</td>\n",
       "      <td>15.00</td>\n",
       "      <td>A5</td>\n",
       "      <td>8</td>\n",
       "      <td>36.0</td>\n",
       "    </tr>\n",
       "    <tr>\n",
       "      <td>2</td>\n",
       "      <td>Fully Paid</td>\n",
       "      <td>0.0</td>\n",
       "      <td>36 months</td>\n",
       "      <td>32535.0</td>\n",
       "      <td>4000.00</td>\n",
       "      <td>4000.0</td>\n",
       "      <td>31.2</td>\n",
       "      <td>4762.900000</td>\n",
       "      <td>11.70</td>\n",
       "      <td>4000.0</td>\n",
       "      <td>132.31</td>\n",
       "      <td>0.0</td>\n",
       "      <td>4000.0</td>\n",
       "      <td>0.00</td>\n",
       "      <td>6 years</td>\n",
       "      <td>11684.0</td>\n",
       "      <td>146.58</td>\n",
       "      <td>B3</td>\n",
       "      <td>15</td>\n",
       "      <td>58.0</td>\n",
       "    </tr>\n",
       "    <tr>\n",
       "      <td>3</td>\n",
       "      <td>Fully Paid</td>\n",
       "      <td>0.0</td>\n",
       "      <td>36 months</td>\n",
       "      <td>54000.0</td>\n",
       "      <td>3000.00</td>\n",
       "      <td>3000.0</td>\n",
       "      <td>54.4</td>\n",
       "      <td>3560.852953</td>\n",
       "      <td>11.40</td>\n",
       "      <td>3000.0</td>\n",
       "      <td>98.92</td>\n",
       "      <td>0.0</td>\n",
       "      <td>3000.0</td>\n",
       "      <td>0.00</td>\n",
       "      <td>9 years</td>\n",
       "      <td>10835.0</td>\n",
       "      <td>107.64</td>\n",
       "      <td>B4</td>\n",
       "      <td>10</td>\n",
       "      <td>10.0</td>\n",
       "    </tr>\n",
       "    <tr>\n",
       "      <td>4</td>\n",
       "      <td>Fully Paid</td>\n",
       "      <td>0.0</td>\n",
       "      <td>60 months</td>\n",
       "      <td>38000.0</td>\n",
       "      <td>4800.00</td>\n",
       "      <td>4800.0</td>\n",
       "      <td>67.5</td>\n",
       "      <td>7117.729998</td>\n",
       "      <td>16.70</td>\n",
       "      <td>4800.0</td>\n",
       "      <td>118.70</td>\n",
       "      <td>0.0</td>\n",
       "      <td>4800.0</td>\n",
       "      <td>0.00</td>\n",
       "      <td>3 years</td>\n",
       "      <td>3103.0</td>\n",
       "      <td>351.83</td>\n",
       "      <td>E2</td>\n",
       "      <td>5</td>\n",
       "      <td>8.0</td>\n",
       "    </tr>\n",
       "  </tbody>\n",
       "</table>\n",
       "</div>"
      ],
      "text/plain": [
       "   loan_status  pub_rec        term  annual_inc  total_rec_prncp  \\\n",
       "0  Charged Off      0.0   60 months     58000.0          8156.44   \n",
       "1  Charged Off      0.0   36 months     26880.0           778.32   \n",
       "2   Fully Paid      0.0   36 months     32535.0          4000.00   \n",
       "3   Fully Paid      0.0   36 months     54000.0          3000.00   \n",
       "4   Fully Paid      0.0   60 months     38000.0          4800.00   \n",
       "\n",
       "   funded_amnt_inv  rate  total_pymnt  int_rate  loan_amnt  installment  \\\n",
       "0          16700.0  79.9  9318.260000     11.90    17000.0       378.07   \n",
       "1           4500.0  11.2  1164.520000      7.66     4500.0       140.31   \n",
       "2           4000.0  31.2  4762.900000     11.70     4000.0       132.31   \n",
       "3           3000.0  54.4  3560.852953     11.40     3000.0        98.92   \n",
       "4           4800.0  67.5  7117.729998     16.70     4800.0       118.70   \n",
       "\n",
       "   pub_rec_bankruptcies  funded_amnt  recoveries emp_length   amount  \\\n",
       "0                   0.0      17000.0        6.75  10+ years  49550.0   \n",
       "1                   0.0       4500.0      171.23   < 1 year   2205.0   \n",
       "2                   0.0       4000.0        0.00    6 years  11684.0   \n",
       "3                   0.0       3000.0        0.00    9 years  10835.0   \n",
       "4                   0.0       4800.0        0.00    3 years   3103.0   \n",
       "\n",
       "   last_pymnt_amnt sub_grade  cred_length  time_since_last_credit_pull  \n",
       "0          8184.05        B5           43                         98.0  \n",
       "1            15.00        A5            8                         36.0  \n",
       "2           146.58        B3           15                         58.0  \n",
       "3           107.64        B4           10                         10.0  \n",
       "4           351.83        E2            5                          8.0  "
      ]
     },
     "execution_count": 223,
     "metadata": {},
     "output_type": "execute_result"
    }
   ],
   "source": [
    "df1.iloc[:5, 20:40]"
   ]
  },
  {
   "cell_type": "code",
   "execution_count": 13,
   "metadata": {
    "scrolled": true
   },
   "outputs": [
    {
     "data": {
      "text/plain": [
       "Fully Paid                                             34803\n",
       "Charged Off                                             5778\n",
       "Does not meet the credit policy. Status:Fully Paid      2023\n",
       "Does not meet the credit policy. Status:Charged Off      781\n",
       "Name: loan_status, dtype: int64"
      ]
     },
     "execution_count": 13,
     "metadata": {},
     "output_type": "execute_result"
    }
   ],
   "source": [
    "df1.loan_status.value_counts()"
   ]
  },
  {
   "cell_type": "code",
   "execution_count": 14,
   "metadata": {
    "collapsed": true
   },
   "outputs": [],
   "source": [
    "df1.loan_status = df1.loan_status.replace({\"Does not meet the credit policy. Status:Fully Paid\": \"Fully Paid\", \"Does not meet the credit policy. Status:Charged Off\": 'Charged Off' })"
   ]
  },
  {
   "cell_type": "code",
   "execution_count": 15,
   "metadata": {},
   "outputs": [
    {
     "name": "stderr",
     "output_type": "stream",
     "text": [
      "C:\\Users\\Zhongyi Zhang\\Anaconda3\\lib\\site-packages\\seaborn\\categorical.py:1428: FutureWarning: remove_na is deprecated and is a private function. Do not use.\n",
      "  stat_data = remove_na(group_data)\n"
     ]
    },
    {
     "data": {
      "image/png": "[encoded data removed]",
      "text/plain": [
       "<Figure size 576x396 with 1 Axes>"
      ]
     },
     "metadata": {},
     "output_type": "display_data"
    }
   ],
   "source": [
    "sns.countplot(x = 'loan_status',data = df1, palette='hls')\n",
    "plt.show()"
   ]
  },
  {
   "cell_type": "code",
   "execution_count": 16,
   "metadata": {},
   "outputs": [
    {
     "data": {
      "text/plain": [
       "Index(['total_rec_int', 'delinq_2yrs', 'tax_liens', 'collection_recovery_fee',\n",
       "       'inq_last_6mths', 'chargeoff_within_12_mths', 'acc_now_delinq',\n",
       "       'total_rec_late_fee', 'policy_code', 'out_prncp_inv', 'open_acc',\n",
       "       'total_pymnt_inv', 'dti', 'delinq_amnt', 'total_acc', 'out_prncp',\n",
       "       'collections_12_mths_ex_med', 'pub_rec', 'annual_inc',\n",
       "       'total_rec_prncp', 'funded_amnt_inv', 'total_pymnt', 'loan_amnt',\n",
       "       'installment', 'pub_rec_bankruptcies', 'funded_amnt', 'recoveries',\n",
       "       'amount', 'last_pymnt_amnt'],\n",
       "      dtype='object')"
      ]
     },
     "execution_count": 16,
     "metadata": {},
     "output_type": "execute_result"
    }
   ],
   "source": [
    "df1.groupby(\"loan_status\").mean().columns"
   ]
  },
  {
   "cell_type": "code",
   "execution_count": 321,
   "metadata": {},
   "outputs": [
    {
     "data": {
      "text/html": [
       "<div>\n",
       "<style scoped>\n",
       "    .dataframe tbody tr th:only-of-type {\n",
       "        vertical-align: middle;\n",
       "    }\n",
       "\n",
       "    .dataframe tbody tr th {\n",
       "        vertical-align: top;\n",
       "    }\n",
       "\n",
       "    .dataframe thead th {\n",
       "        text-align: right;\n",
       "    }\n",
       "</style>\n",
       "<table border=\"1\" class=\"dataframe\">\n",
       "  <thead>\n",
       "    <tr style=\"text-align: right;\">\n",
       "      <th></th>\n",
       "      <th>total_rec_int</th>\n",
       "      <th>delinq_2yrs</th>\n",
       "      <th>tax_liens</th>\n",
       "      <th>collection_recovery_fee</th>\n",
       "      <th>inq_last_6mths</th>\n",
       "      <th>acc_now_delinq</th>\n",
       "      <th>total_rec_late_fee</th>\n",
       "      <th>open_acc</th>\n",
       "      <th>total_pymnt_inv</th>\n",
       "      <th>dti</th>\n",
       "      <th>delinq_amnt</th>\n",
       "      <th>total_acc</th>\n",
       "      <th>pub_rec</th>\n",
       "      <th>annual_inc</th>\n",
       "      <th>total_rec_prncp</th>\n",
       "    </tr>\n",
       "    <tr>\n",
       "      <th>loan_status</th>\n",
       "      <th></th>\n",
       "      <th></th>\n",
       "      <th></th>\n",
       "      <th></th>\n",
       "      <th></th>\n",
       "      <th></th>\n",
       "      <th></th>\n",
       "      <th></th>\n",
       "      <th></th>\n",
       "      <th></th>\n",
       "      <th></th>\n",
       "      <th></th>\n",
       "      <th></th>\n",
       "      <th></th>\n",
       "      <th></th>\n",
       "    </tr>\n",
       "  </thead>\n",
       "  <tbody>\n",
       "    <tr>\n",
       "      <td>Charged Off</td>\n",
       "      <td>2132.280049</td>\n",
       "      <td>0.176785</td>\n",
       "      <td>0.000000</td>\n",
       "      <td>95.9389</td>\n",
       "      <td>1.485204</td>\n",
       "      <td>0.000000</td>\n",
       "      <td>4.407441</td>\n",
       "      <td>9.273337</td>\n",
       "      <td>6114.640766</td>\n",
       "      <td>14.051869</td>\n",
       "      <td>0.000000</td>\n",
       "      <td>21.527151</td>\n",
       "      <td>0.089994</td>\n",
       "      <td>63264.910448</td>\n",
       "      <td>3913.599048</td>\n",
       "    </tr>\n",
       "    <tr>\n",
       "      <td>Fully Paid</td>\n",
       "      <td>2260.099865</td>\n",
       "      <td>0.147962</td>\n",
       "      <td>0.000027</td>\n",
       "      <td>0.0000</td>\n",
       "      <td>1.009565</td>\n",
       "      <td>0.000109</td>\n",
       "      <td>0.996918</td>\n",
       "      <td>9.359212</td>\n",
       "      <td>12249.242415</td>\n",
       "      <td>13.255626</td>\n",
       "      <td>0.165217</td>\n",
       "      <td>22.239620</td>\n",
       "      <td>0.052527</td>\n",
       "      <td>70132.229152</td>\n",
       "      <td>10710.922913</td>\n",
       "    </tr>\n",
       "  </tbody>\n",
       "</table>\n",
       "</div>"
      ],
      "text/plain": [
       "             total_rec_int  delinq_2yrs  tax_liens  collection_recovery_fee  \\\n",
       "loan_status                                                                   \n",
       "Charged Off    2132.280049     0.176785   0.000000                  95.9389   \n",
       "Fully Paid     2260.099865     0.147962   0.000027                   0.0000   \n",
       "\n",
       "             inq_last_6mths  acc_now_delinq  total_rec_late_fee  open_acc  \\\n",
       "loan_status                                                                 \n",
       "Charged Off        1.485204        0.000000            4.407441  9.273337   \n",
       "Fully Paid         1.009565        0.000109            0.996918  9.359212   \n",
       "\n",
       "             total_pymnt_inv        dti  delinq_amnt  total_acc   pub_rec  \\\n",
       "loan_status                                                                 \n",
       "Charged Off      6114.640766  14.051869     0.000000  21.527151  0.089994   \n",
       "Fully Paid      12249.242415  13.255626     0.165217  22.239620  0.052527   \n",
       "\n",
       "               annual_inc  total_rec_prncp  \n",
       "loan_status                                 \n",
       "Charged Off  63264.910448      3913.599048  \n",
       "Fully Paid   70132.229152     10710.922913  "
      ]
     },
     "execution_count": 321,
     "metadata": {},
     "output_type": "execute_result"
    }
   ],
   "source": [
    "df1.groupby(df1.loan_status).mean().iloc[:,:15]"
   ]
  },
  {
   "cell_type": "code",
   "execution_count": 322,
   "metadata": {},
   "outputs": [
    {
     "data": {
      "text/html": [
       "<div>\n",
       "<style scoped>\n",
       "    .dataframe tbody tr th:only-of-type {\n",
       "        vertical-align: middle;\n",
       "    }\n",
       "\n",
       "    .dataframe tbody tr th {\n",
       "        vertical-align: top;\n",
       "    }\n",
       "\n",
       "    .dataframe thead th {\n",
       "        text-align: right;\n",
       "    }\n",
       "</style>\n",
       "<table border=\"1\" class=\"dataframe\">\n",
       "  <thead>\n",
       "    <tr style=\"text-align: right;\">\n",
       "      <th></th>\n",
       "      <th>funded_amnt_inv</th>\n",
       "      <th>rate</th>\n",
       "      <th>total_pymnt</th>\n",
       "      <th>int_rate</th>\n",
       "      <th>loan_amnt</th>\n",
       "      <th>installment</th>\n",
       "      <th>pub_rec_bankruptcies</th>\n",
       "      <th>funded_amnt</th>\n",
       "      <th>recoveries</th>\n",
       "      <th>amount</th>\n",
       "      <th>last_pymnt_amnt</th>\n",
       "      <th>cred_length</th>\n",
       "      <th>time_since_last_credit_pull</th>\n",
       "      <th>time_since_last_payment</th>\n",
       "    </tr>\n",
       "    <tr>\n",
       "      <th>loan_status</th>\n",
       "      <th></th>\n",
       "      <th></th>\n",
       "      <th></th>\n",
       "      <th></th>\n",
       "      <th></th>\n",
       "      <th></th>\n",
       "      <th></th>\n",
       "      <th></th>\n",
       "      <th></th>\n",
       "      <th></th>\n",
       "      <th></th>\n",
       "      <th></th>\n",
       "      <th></th>\n",
       "      <th></th>\n",
       "    </tr>\n",
       "  </thead>\n",
       "  <tbody>\n",
       "    <tr>\n",
       "      <td>Charged Off</td>\n",
       "      <td>10312.499307</td>\n",
       "      <td>55.573576</td>\n",
       "      <td>6736.017677</td>\n",
       "      <td>13.886437</td>\n",
       "      <td>11837.663972</td>\n",
       "      <td>333.397119</td>\n",
       "      <td>0.072830</td>\n",
       "      <td>11496.724375</td>\n",
       "      <td>685.731103</td>\n",
       "      <td>15170.925717</td>\n",
       "      <td>323.835516</td>\n",
       "      <td>14.083435</td>\n",
       "      <td>25.690923</td>\n",
       "      <td>89.432787</td>\n",
       "    </tr>\n",
       "    <tr>\n",
       "      <td>Fully Paid</td>\n",
       "      <td>10119.077720</td>\n",
       "      <td>47.944579</td>\n",
       "      <td>12972.019584</td>\n",
       "      <td>11.811272</td>\n",
       "      <td>10965.013587</td>\n",
       "      <td>321.019072</td>\n",
       "      <td>0.040473</td>\n",
       "      <td>10710.923234</td>\n",
       "      <td>0.000000</td>\n",
       "      <td>14133.229130</td>\n",
       "      <td>3023.598373</td>\n",
       "      <td>14.469022</td>\n",
       "      <td>39.744470</td>\n",
       "      <td>77.119538</td>\n",
       "    </tr>\n",
       "  </tbody>\n",
       "</table>\n",
       "</div>"
      ],
      "text/plain": [
       "             funded_amnt_inv       rate   total_pymnt   int_rate  \\\n",
       "loan_status                                                        \n",
       "Charged Off     10312.499307  55.573576   6736.017677  13.886437   \n",
       "Fully Paid      10119.077720  47.944579  12972.019584  11.811272   \n",
       "\n",
       "                loan_amnt  installment  pub_rec_bankruptcies   funded_amnt  \\\n",
       "loan_status                                                                  \n",
       "Charged Off  11837.663972   333.397119              0.072830  11496.724375   \n",
       "Fully Paid   10965.013587   321.019072              0.040473  10710.923234   \n",
       "\n",
       "             recoveries        amount  last_pymnt_amnt  cred_length  \\\n",
       "loan_status                                                           \n",
       "Charged Off  685.731103  15170.925717       323.835516    14.083435   \n",
       "Fully Paid     0.000000  14133.229130      3023.598373    14.469022   \n",
       "\n",
       "             time_since_last_credit_pull  time_since_last_payment  \n",
       "loan_status                                                        \n",
       "Charged Off                    25.690923                89.432787  \n",
       "Fully Paid                     39.744470                77.119538  "
      ]
     },
     "execution_count": 322,
     "metadata": {},
     "output_type": "execute_result"
    }
   ],
   "source": [
    "df1.groupby(df1.loan_status).mean().iloc[:, 15:]"
   ]
  },
  {
   "cell_type": "markdown",
   "metadata": {},
   "source": [
    "from the above correlation matrix, we realize that there are several highly collinear variables, \n",
    "namesly funded_amnt, funded_amnt_inv, loan_amount, after delving into their definition, we realize they are essentially describing the same amount with small differences. Thus we just take\n",
    "one most relavant feature, namely funded amnt. Similarly we just take total_paymnt and ignore total_payment_inv"
   ]
  },
  {
   "cell_type": "code",
   "execution_count": 17,
   "metadata": {
    "collapsed": true
   },
   "outputs": [],
   "source": [
    "irrevant_indices = ['chargeoff_within_12_mths',\"policy_code\", 'out_prncp_inv', 'out_prncp', 'collections_12_mths_ex_med']\n",
    "df1.drop(irrevant_indices, axis=1, inplace=True)\n",
    "df2.drop(irrevant_indices, axis=1, inplace=True)"
   ]
  },
  {
   "cell_type": "code",
   "execution_count": 18,
   "metadata": {
    "collapsed": true
   },
   "outputs": [],
   "source": [
    "irre_indices2 = ['addr_state', 'application_type','hardship_flag','initial_list_status','issue_d','purpose','title', 'pymnt_plan']\n",
    "df1.drop(irre_indices2, axis=1, inplace=True)\n",
    "df2.drop(irre_indices2, axis=1, inplace=True)"
   ]
  },
  {
   "cell_type": "code",
   "execution_count": 19,
   "metadata": {},
   "outputs": [
    {
     "data": {
      "text/html": [
       "<div>\n",
       "<style scoped>\n",
       "    .dataframe tbody tr th:only-of-type {\n",
       "        vertical-align: middle;\n",
       "    }\n",
       "\n",
       "    .dataframe tbody tr th {\n",
       "        vertical-align: top;\n",
       "    }\n",
       "\n",
       "    .dataframe thead th {\n",
       "        text-align: right;\n",
       "    }\n",
       "</style>\n",
       "<table border=\"1\" class=\"dataframe\">\n",
       "  <thead>\n",
       "    <tr style=\"text-align: right;\">\n",
       "      <th></th>\n",
       "      <th>total_rec_int</th>\n",
       "      <th>delinq_2yrs</th>\n",
       "      <th>tax_liens</th>\n",
       "      <th>collection_recovery_fee</th>\n",
       "      <th>inq_last_6mths</th>\n",
       "      <th>acc_now_delinq</th>\n",
       "      <th>total_rec_late_fee</th>\n",
       "      <th>open_acc</th>\n",
       "      <th>total_pymnt_inv</th>\n",
       "      <th>dti</th>\n",
       "      <th>...</th>\n",
       "      <th>total_rec_prncp</th>\n",
       "      <th>funded_amnt_inv</th>\n",
       "      <th>total_pymnt</th>\n",
       "      <th>loan_amnt</th>\n",
       "      <th>installment</th>\n",
       "      <th>pub_rec_bankruptcies</th>\n",
       "      <th>funded_amnt</th>\n",
       "      <th>recoveries</th>\n",
       "      <th>amount</th>\n",
       "      <th>last_pymnt_amnt</th>\n",
       "    </tr>\n",
       "  </thead>\n",
       "  <tbody>\n",
       "    <tr>\n",
       "      <td>total_rec_int</td>\n",
       "      <td>1.000000</td>\n",
       "      <td>0.019989</td>\n",
       "      <td>-0.003349</td>\n",
       "      <td>0.035248</td>\n",
       "      <td>-0.013594</td>\n",
       "      <td>-0.001851</td>\n",
       "      <td>0.074418</td>\n",
       "      <td>0.124910</td>\n",
       "      <td>0.819537</td>\n",
       "      <td>0.104174</td>\n",
       "      <td>...</td>\n",
       "      <td>0.699295</td>\n",
       "      <td>0.727003</td>\n",
       "      <td>0.836792</td>\n",
       "      <td>0.729526</td>\n",
       "      <td>0.634144</td>\n",
       "      <td>-0.004662</td>\n",
       "      <td>0.736900</td>\n",
       "      <td>0.076259</td>\n",
       "      <td>0.180714</td>\n",
       "      <td>0.192330</td>\n",
       "    </tr>\n",
       "    <tr>\n",
       "      <td>delinq_2yrs</td>\n",
       "      <td>0.019989</td>\n",
       "      <td>1.000000</td>\n",
       "      <td>-0.001439</td>\n",
       "      <td>0.012781</td>\n",
       "      <td>0.020030</td>\n",
       "      <td>0.072261</td>\n",
       "      <td>0.034542</td>\n",
       "      <td>0.014347</td>\n",
       "      <td>-0.033640</td>\n",
       "      <td>-0.037334</td>\n",
       "      <td>...</td>\n",
       "      <td>-0.039149</td>\n",
       "      <td>-0.043752</td>\n",
       "      <td>-0.023939</td>\n",
       "      <td>-0.032774</td>\n",
       "      <td>-0.020117</td>\n",
       "      <td>0.004914</td>\n",
       "      <td>-0.033452</td>\n",
       "      <td>0.011452</td>\n",
       "      <td>-0.042856</td>\n",
       "      <td>-0.014124</td>\n",
       "    </tr>\n",
       "    <tr>\n",
       "      <td>tax_liens</td>\n",
       "      <td>-0.003349</td>\n",
       "      <td>-0.001439</td>\n",
       "      <td>1.000000</td>\n",
       "      <td>-0.000425</td>\n",
       "      <td>0.021888</td>\n",
       "      <td>-0.000040</td>\n",
       "      <td>-0.000931</td>\n",
       "      <td>-0.002514</td>\n",
       "      <td>-0.005383</td>\n",
       "      <td>-0.003315</td>\n",
       "      <td>...</td>\n",
       "      <td>-0.005200</td>\n",
       "      <td>-0.006180</td>\n",
       "      <td>-0.005070</td>\n",
       "      <td>-0.005904</td>\n",
       "      <td>-0.005869</td>\n",
       "      <td>NaN</td>\n",
       "      <td>-0.005941</td>\n",
       "      <td>-0.000670</td>\n",
       "      <td>-0.002781</td>\n",
       "      <td>-0.002795</td>\n",
       "    </tr>\n",
       "    <tr>\n",
       "      <td>collection_recovery_fee</td>\n",
       "      <td>0.035248</td>\n",
       "      <td>0.012781</td>\n",
       "      <td>-0.000425</td>\n",
       "      <td>1.000000</td>\n",
       "      <td>0.040936</td>\n",
       "      <td>-0.000850</td>\n",
       "      <td>0.089416</td>\n",
       "      <td>0.006833</td>\n",
       "      <td>0.014876</td>\n",
       "      <td>0.006583</td>\n",
       "      <td>...</td>\n",
       "      <td>-0.060970</td>\n",
       "      <td>0.056067</td>\n",
       "      <td>0.029554</td>\n",
       "      <td>0.074391</td>\n",
       "      <td>0.078065</td>\n",
       "      <td>-0.002916</td>\n",
       "      <td>0.076653</td>\n",
       "      <td>0.819720</td>\n",
       "      <td>0.013901</td>\n",
       "      <td>-0.043825</td>\n",
       "    </tr>\n",
       "    <tr>\n",
       "      <td>inq_last_6mths</td>\n",
       "      <td>-0.013594</td>\n",
       "      <td>0.020030</td>\n",
       "      <td>0.021888</td>\n",
       "      <td>0.040936</td>\n",
       "      <td>1.000000</td>\n",
       "      <td>0.002634</td>\n",
       "      <td>0.060613</td>\n",
       "      <td>0.095387</td>\n",
       "      <td>-0.085952</td>\n",
       "      <td>0.014551</td>\n",
       "      <td>...</td>\n",
       "      <td>-0.071115</td>\n",
       "      <td>-0.075315</td>\n",
       "      <td>-0.056157</td>\n",
       "      <td>-0.030745</td>\n",
       "      <td>-0.010989</td>\n",
       "      <td>0.045898</td>\n",
       "      <td>-0.030352</td>\n",
       "      <td>0.039276</td>\n",
       "      <td>0.007711</td>\n",
       "      <td>-0.007810</td>\n",
       "    </tr>\n",
       "    <tr>\n",
       "      <td>acc_now_delinq</td>\n",
       "      <td>-0.001851</td>\n",
       "      <td>0.072261</td>\n",
       "      <td>-0.000040</td>\n",
       "      <td>-0.000850</td>\n",
       "      <td>0.002634</td>\n",
       "      <td>1.000000</td>\n",
       "      <td>-0.001861</td>\n",
       "      <td>-0.004484</td>\n",
       "      <td>-0.010869</td>\n",
       "      <td>-0.013011</td>\n",
       "      <td>...</td>\n",
       "      <td>-0.004057</td>\n",
       "      <td>-0.012463</td>\n",
       "      <td>-0.003806</td>\n",
       "      <td>-0.005721</td>\n",
       "      <td>-0.004072</td>\n",
       "      <td>NaN</td>\n",
       "      <td>-0.005573</td>\n",
       "      <td>-0.001338</td>\n",
       "      <td>-0.006072</td>\n",
       "      <td>-0.005231</td>\n",
       "    </tr>\n",
       "    <tr>\n",
       "      <td>total_rec_late_fee</td>\n",
       "      <td>0.074418</td>\n",
       "      <td>0.034542</td>\n",
       "      <td>-0.000931</td>\n",
       "      <td>0.089416</td>\n",
       "      <td>0.060613</td>\n",
       "      <td>-0.001861</td>\n",
       "      <td>1.000000</td>\n",
       "      <td>-0.013391</td>\n",
       "      <td>-0.001102</td>\n",
       "      <td>-0.010445</td>\n",
       "      <td>...</td>\n",
       "      <td>-0.015749</td>\n",
       "      <td>0.020529</td>\n",
       "      <td>0.017510</td>\n",
       "      <td>0.043762</td>\n",
       "      <td>0.057403</td>\n",
       "      <td>-0.005443</td>\n",
       "      <td>0.046176</td>\n",
       "      <td>0.095407</td>\n",
       "      <td>0.012357</td>\n",
       "      <td>-0.063905</td>\n",
       "    </tr>\n",
       "    <tr>\n",
       "      <td>open_acc</td>\n",
       "      <td>0.124910</td>\n",
       "      <td>0.014347</td>\n",
       "      <td>-0.002514</td>\n",
       "      <td>0.006833</td>\n",
       "      <td>0.095387</td>\n",
       "      <td>-0.004484</td>\n",
       "      <td>-0.013391</td>\n",
       "      <td>1.000000</td>\n",
       "      <td>0.146673</td>\n",
       "      <td>0.297511</td>\n",
       "      <td>...</td>\n",
       "      <td>0.158202</td>\n",
       "      <td>0.157114</td>\n",
       "      <td>0.160459</td>\n",
       "      <td>0.176968</td>\n",
       "      <td>0.175979</td>\n",
       "      <td>0.008635</td>\n",
       "      <td>0.175327</td>\n",
       "      <td>0.016811</td>\n",
       "      <td>0.258084</td>\n",
       "      <td>0.075064</td>\n",
       "    </tr>\n",
       "    <tr>\n",
       "      <td>total_pymnt_inv</td>\n",
       "      <td>0.819537</td>\n",
       "      <td>-0.033640</td>\n",
       "      <td>-0.005383</td>\n",
       "      <td>0.014876</td>\n",
       "      <td>-0.085952</td>\n",
       "      <td>-0.010869</td>\n",
       "      <td>-0.001102</td>\n",
       "      <td>0.146673</td>\n",
       "      <td>1.000000</td>\n",
       "      <td>0.067850</td>\n",
       "      <td>...</td>\n",
       "      <td>0.934941</td>\n",
       "      <td>0.913113</td>\n",
       "      <td>0.964910</td>\n",
       "      <td>0.844287</td>\n",
       "      <td>0.799668</td>\n",
       "      <td>-0.050422</td>\n",
       "      <td>0.860097</td>\n",
       "      <td>0.019496</td>\n",
       "      <td>0.195329</td>\n",
       "      <td>0.452898</td>\n",
       "    </tr>\n",
       "    <tr>\n",
       "      <td>dti</td>\n",
       "      <td>0.104174</td>\n",
       "      <td>-0.037334</td>\n",
       "      <td>-0.003315</td>\n",
       "      <td>0.006583</td>\n",
       "      <td>0.014551</td>\n",
       "      <td>-0.013011</td>\n",
       "      <td>-0.010445</td>\n",
       "      <td>0.297511</td>\n",
       "      <td>0.067850</td>\n",
       "      <td>1.000000</td>\n",
       "      <td>...</td>\n",
       "      <td>0.040175</td>\n",
       "      <td>0.070115</td>\n",
       "      <td>0.062711</td>\n",
       "      <td>0.064199</td>\n",
       "      <td>0.053643</td>\n",
       "      <td>0.008452</td>\n",
       "      <td>0.063780</td>\n",
       "      <td>0.021166</td>\n",
       "      <td>0.191050</td>\n",
       "      <td>0.003957</td>\n",
       "    </tr>\n",
       "    <tr>\n",
       "      <td>delinq_amnt</td>\n",
       "      <td>-0.001987</td>\n",
       "      <td>0.120672</td>\n",
       "      <td>-0.000023</td>\n",
       "      <td>-0.000427</td>\n",
       "      <td>0.015464</td>\n",
       "      <td>0.502208</td>\n",
       "      <td>-0.000935</td>\n",
       "      <td>-0.002478</td>\n",
       "      <td>-0.005337</td>\n",
       "      <td>-0.009177</td>\n",
       "      <td>...</td>\n",
       "      <td>-0.003145</td>\n",
       "      <td>-0.006138</td>\n",
       "      <td>-0.003077</td>\n",
       "      <td>-0.003935</td>\n",
       "      <td>-0.003461</td>\n",
       "      <td>NaN</td>\n",
       "      <td>-0.003899</td>\n",
       "      <td>-0.000672</td>\n",
       "      <td>-0.003115</td>\n",
       "      <td>-0.002871</td>\n",
       "    </tr>\n",
       "    <tr>\n",
       "      <td>total_acc</td>\n",
       "      <td>0.149503</td>\n",
       "      <td>0.068161</td>\n",
       "      <td>-0.006279</td>\n",
       "      <td>0.010521</td>\n",
       "      <td>0.092849</td>\n",
       "      <td>-0.006529</td>\n",
       "      <td>-0.021968</td>\n",
       "      <td>0.692566</td>\n",
       "      <td>0.216432</td>\n",
       "      <td>0.239995</td>\n",
       "      <td>...</td>\n",
       "      <td>0.229529</td>\n",
       "      <td>0.240876</td>\n",
       "      <td>0.223680</td>\n",
       "      <td>0.256692</td>\n",
       "      <td>0.233633</td>\n",
       "      <td>-0.005001</td>\n",
       "      <td>0.250783</td>\n",
       "      <td>0.023098</td>\n",
       "      <td>0.275741</td>\n",
       "      <td>0.159842</td>\n",
       "    </tr>\n",
       "    <tr>\n",
       "      <td>pub_rec</td>\n",
       "      <td>-0.008173</td>\n",
       "      <td>0.010396</td>\n",
       "      <td>0.018409</td>\n",
       "      <td>0.002032</td>\n",
       "      <td>0.058778</td>\n",
       "      <td>-0.002273</td>\n",
       "      <td>0.000191</td>\n",
       "      <td>0.004751</td>\n",
       "      <td>-0.056312</td>\n",
       "      <td>-0.002982</td>\n",
       "      <td>...</td>\n",
       "      <td>-0.066104</td>\n",
       "      <td>-0.055624</td>\n",
       "      <td>-0.054002</td>\n",
       "      <td>-0.051166</td>\n",
       "      <td>-0.045139</td>\n",
       "      <td>0.842305</td>\n",
       "      <td>-0.052025</td>\n",
       "      <td>-0.000421</td>\n",
       "      <td>-0.048023</td>\n",
       "      <td>-0.033560</td>\n",
       "    </tr>\n",
       "    <tr>\n",
       "      <td>annual_inc</td>\n",
       "      <td>0.188824</td>\n",
       "      <td>0.021848</td>\n",
       "      <td>-0.001817</td>\n",
       "      <td>0.016978</td>\n",
       "      <td>0.027709</td>\n",
       "      <td>-0.000916</td>\n",
       "      <td>0.009880</td>\n",
       "      <td>0.169376</td>\n",
       "      <td>0.245216</td>\n",
       "      <td>-0.117074</td>\n",
       "      <td>...</td>\n",
       "      <td>0.261504</td>\n",
       "      <td>0.254260</td>\n",
       "      <td>0.259999</td>\n",
       "      <td>0.277821</td>\n",
       "      <td>0.280170</td>\n",
       "      <td>-0.015530</td>\n",
       "      <td>0.273742</td>\n",
       "      <td>0.024790</td>\n",
       "      <td>0.284517</td>\n",
       "      <td>0.140192</td>\n",
       "    </tr>\n",
       "    <tr>\n",
       "      <td>total_rec_prncp</td>\n",
       "      <td>0.699295</td>\n",
       "      <td>-0.039149</td>\n",
       "      <td>-0.005200</td>\n",
       "      <td>-0.060970</td>\n",
       "      <td>-0.071115</td>\n",
       "      <td>-0.004057</td>\n",
       "      <td>-0.015749</td>\n",
       "      <td>0.158202</td>\n",
       "      <td>0.934941</td>\n",
       "      <td>0.040175</td>\n",
       "      <td>...</td>\n",
       "      <td>1.000000</td>\n",
       "      <td>0.841208</td>\n",
       "      <td>0.972356</td>\n",
       "      <td>0.850866</td>\n",
       "      <td>0.843115</td>\n",
       "      <td>-0.055972</td>\n",
       "      <td>0.868595</td>\n",
       "      <td>-0.092963</td>\n",
       "      <td>0.214024</td>\n",
       "      <td>0.534687</td>\n",
       "    </tr>\n",
       "    <tr>\n",
       "      <td>funded_amnt_inv</td>\n",
       "      <td>0.727003</td>\n",
       "      <td>-0.043752</td>\n",
       "      <td>-0.006180</td>\n",
       "      <td>0.056067</td>\n",
       "      <td>-0.075315</td>\n",
       "      <td>-0.012463</td>\n",
       "      <td>0.020529</td>\n",
       "      <td>0.157114</td>\n",
       "      <td>0.913113</td>\n",
       "      <td>0.070115</td>\n",
       "      <td>...</td>\n",
       "      <td>0.841208</td>\n",
       "      <td>1.000000</td>\n",
       "      <td>0.873354</td>\n",
       "      <td>0.929622</td>\n",
       "      <td>0.890200</td>\n",
       "      <td>-0.046000</td>\n",
       "      <td>0.947437</td>\n",
       "      <td>0.116621</td>\n",
       "      <td>0.212748</td>\n",
       "      <td>0.440540</td>\n",
       "    </tr>\n",
       "    <tr>\n",
       "      <td>total_pymnt</td>\n",
       "      <td>0.836792</td>\n",
       "      <td>-0.023939</td>\n",
       "      <td>-0.005070</td>\n",
       "      <td>0.029554</td>\n",
       "      <td>-0.056157</td>\n",
       "      <td>-0.003806</td>\n",
       "      <td>0.017510</td>\n",
       "      <td>0.160459</td>\n",
       "      <td>0.964910</td>\n",
       "      <td>0.062711</td>\n",
       "      <td>...</td>\n",
       "      <td>0.972356</td>\n",
       "      <td>0.873354</td>\n",
       "      <td>1.000000</td>\n",
       "      <td>0.883113</td>\n",
       "      <td>0.848746</td>\n",
       "      <td>-0.045237</td>\n",
       "      <td>0.899173</td>\n",
       "      <td>0.030973</td>\n",
       "      <td>0.220957</td>\n",
       "      <td>0.466663</td>\n",
       "    </tr>\n",
       "    <tr>\n",
       "      <td>loan_amnt</td>\n",
       "      <td>0.729526</td>\n",
       "      <td>-0.032774</td>\n",
       "      <td>-0.005904</td>\n",
       "      <td>0.074391</td>\n",
       "      <td>-0.030745</td>\n",
       "      <td>-0.005721</td>\n",
       "      <td>0.043762</td>\n",
       "      <td>0.176968</td>\n",
       "      <td>0.844287</td>\n",
       "      <td>0.064199</td>\n",
       "      <td>...</td>\n",
       "      <td>0.850866</td>\n",
       "      <td>0.929622</td>\n",
       "      <td>0.883113</td>\n",
       "      <td>1.000000</td>\n",
       "      <td>0.931050</td>\n",
       "      <td>-0.037377</td>\n",
       "      <td>0.981854</td>\n",
       "      <td>0.134655</td>\n",
       "      <td>0.254856</td>\n",
       "      <td>0.447123</td>\n",
       "    </tr>\n",
       "    <tr>\n",
       "      <td>installment</td>\n",
       "      <td>0.634144</td>\n",
       "      <td>-0.020117</td>\n",
       "      <td>-0.005869</td>\n",
       "      <td>0.078065</td>\n",
       "      <td>-0.010989</td>\n",
       "      <td>-0.004072</td>\n",
       "      <td>0.057403</td>\n",
       "      <td>0.175979</td>\n",
       "      <td>0.799668</td>\n",
       "      <td>0.053643</td>\n",
       "      <td>...</td>\n",
       "      <td>0.843115</td>\n",
       "      <td>0.890200</td>\n",
       "      <td>0.848746</td>\n",
       "      <td>0.931050</td>\n",
       "      <td>1.000000</td>\n",
       "      <td>-0.033558</td>\n",
       "      <td>0.956540</td>\n",
       "      <td>0.119733</td>\n",
       "      <td>0.265201</td>\n",
       "      <td>0.399403</td>\n",
       "    </tr>\n",
       "    <tr>\n",
       "      <td>pub_rec_bankruptcies</td>\n",
       "      <td>-0.004662</td>\n",
       "      <td>0.004914</td>\n",
       "      <td>NaN</td>\n",
       "      <td>-0.002916</td>\n",
       "      <td>0.045898</td>\n",
       "      <td>NaN</td>\n",
       "      <td>-0.005443</td>\n",
       "      <td>0.008635</td>\n",
       "      <td>-0.050422</td>\n",
       "      <td>0.008452</td>\n",
       "      <td>...</td>\n",
       "      <td>-0.055972</td>\n",
       "      <td>-0.046000</td>\n",
       "      <td>-0.045237</td>\n",
       "      <td>-0.037377</td>\n",
       "      <td>-0.033558</td>\n",
       "      <td>1.000000</td>\n",
       "      <td>-0.038552</td>\n",
       "      <td>-0.002858</td>\n",
       "      <td>-0.039666</td>\n",
       "      <td>-0.023654</td>\n",
       "    </tr>\n",
       "    <tr>\n",
       "      <td>funded_amnt</td>\n",
       "      <td>0.736900</td>\n",
       "      <td>-0.033452</td>\n",
       "      <td>-0.005941</td>\n",
       "      <td>0.076653</td>\n",
       "      <td>-0.030352</td>\n",
       "      <td>-0.005573</td>\n",
       "      <td>0.046176</td>\n",
       "      <td>0.175327</td>\n",
       "      <td>0.860097</td>\n",
       "      <td>0.063780</td>\n",
       "      <td>...</td>\n",
       "      <td>0.868595</td>\n",
       "      <td>0.947437</td>\n",
       "      <td>0.899173</td>\n",
       "      <td>0.981854</td>\n",
       "      <td>0.956540</td>\n",
       "      <td>-0.038552</td>\n",
       "      <td>1.000000</td>\n",
       "      <td>0.136021</td>\n",
       "      <td>0.250656</td>\n",
       "      <td>0.451540</td>\n",
       "    </tr>\n",
       "    <tr>\n",
       "      <td>recoveries</td>\n",
       "      <td>0.076259</td>\n",
       "      <td>0.011452</td>\n",
       "      <td>-0.000670</td>\n",
       "      <td>0.819720</td>\n",
       "      <td>0.039276</td>\n",
       "      <td>-0.001338</td>\n",
       "      <td>0.095407</td>\n",
       "      <td>0.016811</td>\n",
       "      <td>0.019496</td>\n",
       "      <td>0.021166</td>\n",
       "      <td>...</td>\n",
       "      <td>-0.092963</td>\n",
       "      <td>0.116621</td>\n",
       "      <td>0.030973</td>\n",
       "      <td>0.134655</td>\n",
       "      <td>0.119733</td>\n",
       "      <td>-0.002858</td>\n",
       "      <td>0.136021</td>\n",
       "      <td>1.000000</td>\n",
       "      <td>0.029144</td>\n",
       "      <td>-0.069289</td>\n",
       "    </tr>\n",
       "    <tr>\n",
       "      <td>amount</td>\n",
       "      <td>0.180714</td>\n",
       "      <td>-0.042856</td>\n",
       "      <td>-0.002781</td>\n",
       "      <td>0.013901</td>\n",
       "      <td>0.007711</td>\n",
       "      <td>-0.006072</td>\n",
       "      <td>0.012357</td>\n",
       "      <td>0.258084</td>\n",
       "      <td>0.195329</td>\n",
       "      <td>0.191050</td>\n",
       "      <td>...</td>\n",
       "      <td>0.214024</td>\n",
       "      <td>0.212748</td>\n",
       "      <td>0.220957</td>\n",
       "      <td>0.254856</td>\n",
       "      <td>0.265201</td>\n",
       "      <td>-0.039666</td>\n",
       "      <td>0.250656</td>\n",
       "      <td>0.029144</td>\n",
       "      <td>1.000000</td>\n",
       "      <td>0.084845</td>\n",
       "    </tr>\n",
       "    <tr>\n",
       "      <td>last_pymnt_amnt</td>\n",
       "      <td>0.192330</td>\n",
       "      <td>-0.014124</td>\n",
       "      <td>-0.002795</td>\n",
       "      <td>-0.043825</td>\n",
       "      <td>-0.007810</td>\n",
       "      <td>-0.005231</td>\n",
       "      <td>-0.063905</td>\n",
       "      <td>0.075064</td>\n",
       "      <td>0.452898</td>\n",
       "      <td>0.003957</td>\n",
       "      <td>...</td>\n",
       "      <td>0.534687</td>\n",
       "      <td>0.440540</td>\n",
       "      <td>0.466663</td>\n",
       "      <td>0.447123</td>\n",
       "      <td>0.399403</td>\n",
       "      <td>-0.023654</td>\n",
       "      <td>0.451540</td>\n",
       "      <td>-0.069289</td>\n",
       "      <td>0.084845</td>\n",
       "      <td>1.000000</td>\n",
       "    </tr>\n",
       "  </tbody>\n",
       "</table>\n",
       "<p>24 rows × 24 columns</p>\n",
       "</div>"
      ],
      "text/plain": [
       "                         total_rec_int  delinq_2yrs  tax_liens  \\\n",
       "total_rec_int                 1.000000     0.019989  -0.003349   \n",
       "delinq_2yrs                   0.019989     1.000000  -0.001439   \n",
       "tax_liens                    -0.003349    -0.001439   1.000000   \n",
       "collection_recovery_fee       0.035248     0.012781  -0.000425   \n",
       "inq_last_6mths               -0.013594     0.020030   0.021888   \n",
       "acc_now_delinq               -0.001851     0.072261  -0.000040   \n",
       "total_rec_late_fee            0.074418     0.034542  -0.000931   \n",
       "open_acc                      0.124910     0.014347  -0.002514   \n",
       "total_pymnt_inv               0.819537    -0.033640  -0.005383   \n",
       "dti                           0.104174    -0.037334  -0.003315   \n",
       "delinq_amnt                  -0.001987     0.120672  -0.000023   \n",
       "total_acc                     0.149503     0.068161  -0.006279   \n",
       "pub_rec                      -0.008173     0.010396   0.018409   \n",
       "annual_inc                    0.188824     0.021848  -0.001817   \n",
       "total_rec_prncp               0.699295    -0.039149  -0.005200   \n",
       "funded_amnt_inv               0.727003    -0.043752  -0.006180   \n",
       "total_pymnt                   0.836792    -0.023939  -0.005070   \n",
       "loan_amnt                     0.729526    -0.032774  -0.005904   \n",
       "installment                   0.634144    -0.020117  -0.005869   \n",
       "pub_rec_bankruptcies         -0.004662     0.004914        NaN   \n",
       "funded_amnt                   0.736900    -0.033452  -0.005941   \n",
       "recoveries                    0.076259     0.011452  -0.000670   \n",
       "amount                        0.180714    -0.042856  -0.002781   \n",
       "last_pymnt_amnt               0.192330    -0.014124  -0.002795   \n",
       "\n",
       "                         collection_recovery_fee  inq_last_6mths  \\\n",
       "total_rec_int                           0.035248       -0.013594   \n",
       "delinq_2yrs                             0.012781        0.020030   \n",
       "tax_liens                              -0.000425        0.021888   \n",
       "collection_recovery_fee                 1.000000        0.040936   \n",
       "inq_last_6mths                          0.040936        1.000000   \n",
       "acc_now_delinq                         -0.000850        0.002634   \n",
       "total_rec_late_fee                      0.089416        0.060613   \n",
       "open_acc                                0.006833        0.095387   \n",
       "total_pymnt_inv                         0.014876       -0.085952   \n",
       "dti                                     0.006583        0.014551   \n",
       "delinq_amnt                            -0.000427        0.015464   \n",
       "total_acc                               0.010521        0.092849   \n",
       "pub_rec                                 0.002032        0.058778   \n",
       "annual_inc                              0.016978        0.027709   \n",
       "total_rec_prncp                        -0.060970       -0.071115   \n",
       "funded_amnt_inv                         0.056067       -0.075315   \n",
       "total_pymnt                             0.029554       -0.056157   \n",
       "loan_amnt                               0.074391       -0.030745   \n",
       "installment                             0.078065       -0.010989   \n",
       "pub_rec_bankruptcies                   -0.002916        0.045898   \n",
       "funded_amnt                             0.076653       -0.030352   \n",
       "recoveries                              0.819720        0.039276   \n",
       "amount                                  0.013901        0.007711   \n",
       "last_pymnt_amnt                        -0.043825       -0.007810   \n",
       "\n",
       "                         acc_now_delinq  total_rec_late_fee  open_acc  \\\n",
       "total_rec_int                 -0.001851            0.074418  0.124910   \n",
       "delinq_2yrs                    0.072261            0.034542  0.014347   \n",
       "tax_liens                     -0.000040           -0.000931 -0.002514   \n",
       "collection_recovery_fee       -0.000850            0.089416  0.006833   \n",
       "inq_last_6mths                 0.002634            0.060613  0.095387   \n",
       "acc_now_delinq                 1.000000           -0.001861 -0.004484   \n",
       "total_rec_late_fee            -0.001861            1.000000 -0.013391   \n",
       "open_acc                      -0.004484           -0.013391  1.000000   \n",
       "total_pymnt_inv               -0.010869           -0.001102  0.146673   \n",
       "dti                           -0.013011           -0.010445  0.297511   \n",
       "delinq_amnt                    0.502208           -0.000935 -0.002478   \n",
       "total_acc                     -0.006529           -0.021968  0.692566   \n",
       "pub_rec                       -0.002273            0.000191  0.004751   \n",
       "annual_inc                    -0.000916            0.009880  0.169376   \n",
       "total_rec_prncp               -0.004057           -0.015749  0.158202   \n",
       "funded_amnt_inv               -0.012463            0.020529  0.157114   \n",
       "total_pymnt                   -0.003806            0.017510  0.160459   \n",
       "loan_amnt                     -0.005721            0.043762  0.176968   \n",
       "installment                   -0.004072            0.057403  0.175979   \n",
       "pub_rec_bankruptcies                NaN           -0.005443  0.008635   \n",
       "funded_amnt                   -0.005573            0.046176  0.175327   \n",
       "recoveries                    -0.001338            0.095407  0.016811   \n",
       "amount                        -0.006072            0.012357  0.258084   \n",
       "last_pymnt_amnt               -0.005231           -0.063905  0.075064   \n",
       "\n",
       "                         total_pymnt_inv       dti  ...  total_rec_prncp  \\\n",
       "total_rec_int                   0.819537  0.104174  ...         0.699295   \n",
       "delinq_2yrs                    -0.033640 -0.037334  ...        -0.039149   \n",
       "tax_liens                      -0.005383 -0.003315  ...        -0.005200   \n",
       "collection_recovery_fee         0.014876  0.006583  ...        -0.060970   \n",
       "inq_last_6mths                 -0.085952  0.014551  ...        -0.071115   \n",
       "acc_now_delinq                 -0.010869 -0.013011  ...        -0.004057   \n",
       "total_rec_late_fee             -0.001102 -0.010445  ...        -0.015749   \n",
       "open_acc                        0.146673  0.297511  ...         0.158202   \n",
       "total_pymnt_inv                 1.000000  0.067850  ...         0.934941   \n",
       "dti                             0.067850  1.000000  ...         0.040175   \n",
       "delinq_amnt                    -0.005337 -0.009177  ...        -0.003145   \n",
       "total_acc                       0.216432  0.239995  ...         0.229529   \n",
       "pub_rec                        -0.056312 -0.002982  ...        -0.066104   \n",
       "annual_inc                      0.245216 -0.117074  ...         0.261504   \n",
       "total_rec_prncp                 0.934941  0.040175  ...         1.000000   \n",
       "funded_amnt_inv                 0.913113  0.070115  ...         0.841208   \n",
       "total_pymnt                     0.964910  0.062711  ...         0.972356   \n",
       "loan_amnt                       0.844287  0.064199  ...         0.850866   \n",
       "installment                     0.799668  0.053643  ...         0.843115   \n",
       "pub_rec_bankruptcies           -0.050422  0.008452  ...        -0.055972   \n",
       "funded_amnt                     0.860097  0.063780  ...         0.868595   \n",
       "recoveries                      0.019496  0.021166  ...        -0.092963   \n",
       "amount                          0.195329  0.191050  ...         0.214024   \n",
       "last_pymnt_amnt                 0.452898  0.003957  ...         0.534687   \n",
       "\n",
       "                         funded_amnt_inv  total_pymnt  loan_amnt  installment  \\\n",
       "total_rec_int                   0.727003     0.836792   0.729526     0.634144   \n",
       "delinq_2yrs                    -0.043752    -0.023939  -0.032774    -0.020117   \n",
       "tax_liens                      -0.006180    -0.005070  -0.005904    -0.005869   \n",
       "collection_recovery_fee         0.056067     0.029554   0.074391     0.078065   \n",
       "inq_last_6mths                 -0.075315    -0.056157  -0.030745    -0.010989   \n",
       "acc_now_delinq                 -0.012463    -0.003806  -0.005721    -0.004072   \n",
       "total_rec_late_fee              0.020529     0.017510   0.043762     0.057403   \n",
       "open_acc                        0.157114     0.160459   0.176968     0.175979   \n",
       "total_pymnt_inv                 0.913113     0.964910   0.844287     0.799668   \n",
       "dti                             0.070115     0.062711   0.064199     0.053643   \n",
       "delinq_amnt                    -0.006138    -0.003077  -0.003935    -0.003461   \n",
       "total_acc                       0.240876     0.223680   0.256692     0.233633   \n",
       "pub_rec                        -0.055624    -0.054002  -0.051166    -0.045139   \n",
       "annual_inc                      0.254260     0.259999   0.277821     0.280170   \n",
       "total_rec_prncp                 0.841208     0.972356   0.850866     0.843115   \n",
       "funded_amnt_inv                 1.000000     0.873354   0.929622     0.890200   \n",
       "total_pymnt                     0.873354     1.000000   0.883113     0.848746   \n",
       "loan_amnt                       0.929622     0.883113   1.000000     0.931050   \n",
       "installment                     0.890200     0.848746   0.931050     1.000000   \n",
       "pub_rec_bankruptcies           -0.046000    -0.045237  -0.037377    -0.033558   \n",
       "funded_amnt                     0.947437     0.899173   0.981854     0.956540   \n",
       "recoveries                      0.116621     0.030973   0.134655     0.119733   \n",
       "amount                          0.212748     0.220957   0.254856     0.265201   \n",
       "last_pymnt_amnt                 0.440540     0.466663   0.447123     0.399403   \n",
       "\n",
       "                         pub_rec_bankruptcies  funded_amnt  recoveries  \\\n",
       "total_rec_int                       -0.004662     0.736900    0.076259   \n",
       "delinq_2yrs                          0.004914    -0.033452    0.011452   \n",
       "tax_liens                                 NaN    -0.005941   -0.000670   \n",
       "collection_recovery_fee             -0.002916     0.076653    0.819720   \n",
       "inq_last_6mths                       0.045898    -0.030352    0.039276   \n",
       "acc_now_delinq                            NaN    -0.005573   -0.001338   \n",
       "total_rec_late_fee                  -0.005443     0.046176    0.095407   \n",
       "open_acc                             0.008635     0.175327    0.016811   \n",
       "total_pymnt_inv                     -0.050422     0.860097    0.019496   \n",
       "dti                                  0.008452     0.063780    0.021166   \n",
       "delinq_amnt                               NaN    -0.003899   -0.000672   \n",
       "total_acc                           -0.005001     0.250783    0.023098   \n",
       "pub_rec                              0.842305    -0.052025   -0.000421   \n",
       "annual_inc                          -0.015530     0.273742    0.024790   \n",
       "total_rec_prncp                     -0.055972     0.868595   -0.092963   \n",
       "funded_amnt_inv                     -0.046000     0.947437    0.116621   \n",
       "total_pymnt                         -0.045237     0.899173    0.030973   \n",
       "loan_amnt                           -0.037377     0.981854    0.134655   \n",
       "installment                         -0.033558     0.956540    0.119733   \n",
       "pub_rec_bankruptcies                 1.000000    -0.038552   -0.002858   \n",
       "funded_amnt                         -0.038552     1.000000    0.136021   \n",
       "recoveries                          -0.002858     0.136021    1.000000   \n",
       "amount                              -0.039666     0.250656    0.029144   \n",
       "last_pymnt_amnt                     -0.023654     0.451540   -0.069289   \n",
       "\n",
       "                           amount  last_pymnt_amnt  \n",
       "total_rec_int            0.180714         0.192330  \n",
       "delinq_2yrs             -0.042856        -0.014124  \n",
       "tax_liens               -0.002781        -0.002795  \n",
       "collection_recovery_fee  0.013901        -0.043825  \n",
       "inq_last_6mths           0.007711        -0.007810  \n",
       "acc_now_delinq          -0.006072        -0.005231  \n",
       "total_rec_late_fee       0.012357        -0.063905  \n",
       "open_acc                 0.258084         0.075064  \n",
       "total_pymnt_inv          0.195329         0.452898  \n",
       "dti                      0.191050         0.003957  \n",
       "delinq_amnt             -0.003115        -0.002871  \n",
       "total_acc                0.275741         0.159842  \n",
       "pub_rec                 -0.048023        -0.033560  \n",
       "annual_inc               0.284517         0.140192  \n",
       "total_rec_prncp          0.214024         0.534687  \n",
       "funded_amnt_inv          0.212748         0.440540  \n",
       "total_pymnt              0.220957         0.466663  \n",
       "loan_amnt                0.254856         0.447123  \n",
       "installment              0.265201         0.399403  \n",
       "pub_rec_bankruptcies    -0.039666        -0.023654  \n",
       "funded_amnt              0.250656         0.451540  \n",
       "recoveries               0.029144        -0.069289  \n",
       "amount                   1.000000         0.084845  \n",
       "last_pymnt_amnt          0.084845         1.000000  \n",
       "\n",
       "[24 rows x 24 columns]"
      ]
     },
     "execution_count": 19,
     "metadata": {},
     "output_type": "execute_result"
    }
   ],
   "source": [
    "df1.corr()"
   ]
  },
  {
   "cell_type": "code",
   "execution_count": 20,
   "metadata": {},
   "outputs": [
    {
     "data": {
      "text/plain": [
       "0.9649104374059544"
      ]
     },
     "execution_count": 20,
     "metadata": {},
     "output_type": "execute_result"
    }
   ],
   "source": [
    "df1.total_pymnt.corr(df1.total_pymnt_inv)"
   ]
  },
  {
   "cell_type": "code",
   "execution_count": 21,
   "metadata": {},
   "outputs": [
    {
     "data": {
      "text/html": [
       "<div>\n",
       "<style scoped>\n",
       "    .dataframe tbody tr th:only-of-type {\n",
       "        vertical-align: middle;\n",
       "    }\n",
       "\n",
       "    .dataframe tbody tr th {\n",
       "        vertical-align: top;\n",
       "    }\n",
       "\n",
       "    .dataframe thead th {\n",
       "        text-align: right;\n",
       "    }\n",
       "</style>\n",
       "<table border=\"1\" class=\"dataframe\">\n",
       "  <thead>\n",
       "    <tr style=\"text-align: right;\">\n",
       "      <th></th>\n",
       "      <th>total_rec_int</th>\n",
       "      <th>delinq_2yrs</th>\n",
       "      <th>tax_liens</th>\n",
       "      <th>collection_recovery_fee</th>\n",
       "      <th>inq_last_6mths</th>\n",
       "      <th>acc_now_delinq</th>\n",
       "      <th>total_rec_late_fee</th>\n",
       "      <th>open_acc</th>\n",
       "      <th>total_pymnt_inv</th>\n",
       "      <th>dti</th>\n",
       "      <th>delinq_amnt</th>\n",
       "      <th>total_acc</th>\n",
       "      <th>pub_rec</th>\n",
       "      <th>annual_inc</th>\n",
       "      <th>total_rec_prncp</th>\n",
       "    </tr>\n",
       "    <tr>\n",
       "      <th>loan_status</th>\n",
       "      <th></th>\n",
       "      <th></th>\n",
       "      <th></th>\n",
       "      <th></th>\n",
       "      <th></th>\n",
       "      <th></th>\n",
       "      <th></th>\n",
       "      <th></th>\n",
       "      <th></th>\n",
       "      <th></th>\n",
       "      <th></th>\n",
       "      <th></th>\n",
       "      <th></th>\n",
       "      <th></th>\n",
       "      <th></th>\n",
       "    </tr>\n",
       "  </thead>\n",
       "  <tbody>\n",
       "    <tr>\n",
       "      <td>Charged Off</td>\n",
       "      <td>2131.451354</td>\n",
       "      <td>0.176785</td>\n",
       "      <td>0.000000</td>\n",
       "      <td>96.203011</td>\n",
       "      <td>1.485204</td>\n",
       "      <td>0.000000</td>\n",
       "      <td>4.408724</td>\n",
       "      <td>9.273337</td>\n",
       "      <td>6111.922877</td>\n",
       "      <td>14.049476</td>\n",
       "      <td>0.000000</td>\n",
       "      <td>21.527151</td>\n",
       "      <td>0.089994</td>\n",
       "      <td>63246.112654</td>\n",
       "      <td>3912.433278</td>\n",
       "    </tr>\n",
       "    <tr>\n",
       "      <td>Fully Paid</td>\n",
       "      <td>2258.845262</td>\n",
       "      <td>0.147962</td>\n",
       "      <td>0.000027</td>\n",
       "      <td>0.000000</td>\n",
       "      <td>1.009565</td>\n",
       "      <td>0.000109</td>\n",
       "      <td>1.000694</td>\n",
       "      <td>9.359212</td>\n",
       "      <td>12241.319703</td>\n",
       "      <td>13.251649</td>\n",
       "      <td>0.165217</td>\n",
       "      <td>22.239620</td>\n",
       "      <td>0.052527</td>\n",
       "      <td>70136.865374</td>\n",
       "      <td>10706.095237</td>\n",
       "    </tr>\n",
       "  </tbody>\n",
       "</table>\n",
       "</div>"
      ],
      "text/plain": [
       "             total_rec_int  delinq_2yrs  tax_liens  collection_recovery_fee  \\\n",
       "loan_status                                                                   \n",
       "Charged Off    2131.451354     0.176785   0.000000                96.203011   \n",
       "Fully Paid     2258.845262     0.147962   0.000027                 0.000000   \n",
       "\n",
       "             inq_last_6mths  acc_now_delinq  total_rec_late_fee  open_acc  \\\n",
       "loan_status                                                                 \n",
       "Charged Off        1.485204        0.000000            4.408724  9.273337   \n",
       "Fully Paid         1.009565        0.000109            1.000694  9.359212   \n",
       "\n",
       "             total_pymnt_inv        dti  delinq_amnt  total_acc   pub_rec  \\\n",
       "loan_status                                                                 \n",
       "Charged Off      6111.922877  14.049476     0.000000  21.527151  0.089994   \n",
       "Fully Paid      12241.319703  13.251649     0.165217  22.239620  0.052527   \n",
       "\n",
       "               annual_inc  total_rec_prncp  \n",
       "loan_status                                 \n",
       "Charged Off  63246.112654      3912.433278  \n",
       "Fully Paid   70136.865374     10706.095237  "
      ]
     },
     "execution_count": 21,
     "metadata": {},
     "output_type": "execute_result"
    }
   ],
   "source": [
    "df1.groupby(df1.loan_status).mean().iloc[:,:15]"
   ]
  },
  {
   "cell_type": "code",
   "execution_count": 24,
   "metadata": {},
   "outputs": [
    {
     "data": {
      "text/html": [
       "<div>\n",
       "<style scoped>\n",
       "    .dataframe tbody tr th:only-of-type {\n",
       "        vertical-align: middle;\n",
       "    }\n",
       "\n",
       "    .dataframe tbody tr th {\n",
       "        vertical-align: top;\n",
       "    }\n",
       "\n",
       "    .dataframe thead th {\n",
       "        text-align: right;\n",
       "    }\n",
       "</style>\n",
       "<table border=\"1\" class=\"dataframe\">\n",
       "  <thead>\n",
       "    <tr style=\"text-align: right;\">\n",
       "      <th></th>\n",
       "      <th>out_prncp</th>\n",
       "      <th>collections_12_mths_ex_med</th>\n",
       "      <th>pub_rec</th>\n",
       "      <th>annual_inc</th>\n",
       "      <th>total_rec_prncp</th>\n",
       "      <th>funded_amnt_inv</th>\n",
       "      <th>total_pymnt</th>\n",
       "      <th>loan_amnt</th>\n",
       "      <th>installment</th>\n",
       "      <th>pub_rec_bankruptcies</th>\n",
       "      <th>funded_amnt</th>\n",
       "      <th>recoveries</th>\n",
       "      <th>amount</th>\n",
       "      <th>last_pymnt_amnt</th>\n",
       "    </tr>\n",
       "    <tr>\n",
       "      <th>loan_status</th>\n",
       "      <th></th>\n",
       "      <th></th>\n",
       "      <th></th>\n",
       "      <th></th>\n",
       "      <th></th>\n",
       "      <th></th>\n",
       "      <th></th>\n",
       "      <th></th>\n",
       "      <th></th>\n",
       "      <th></th>\n",
       "      <th></th>\n",
       "      <th></th>\n",
       "      <th></th>\n",
       "      <th></th>\n",
       "    </tr>\n",
       "  </thead>\n",
       "  <tbody>\n",
       "    <tr>\n",
       "      <td>Charged Off</td>\n",
       "      <td>0.0</td>\n",
       "      <td>0.0</td>\n",
       "      <td>0.089994</td>\n",
       "      <td>63246.112654</td>\n",
       "      <td>3912.433278</td>\n",
       "      <td>10307.870172</td>\n",
       "      <td>6734.595059</td>\n",
       "      <td>11833.831377</td>\n",
       "      <td>333.295435</td>\n",
       "      <td>0.072830</td>\n",
       "      <td>11493.047721</td>\n",
       "      <td>686.301667</td>\n",
       "      <td>15163.986736</td>\n",
       "      <td>323.729027</td>\n",
       "    </tr>\n",
       "    <tr>\n",
       "      <td>Fully Paid</td>\n",
       "      <td>0.0</td>\n",
       "      <td>0.0</td>\n",
       "      <td>0.052527</td>\n",
       "      <td>70136.865374</td>\n",
       "      <td>10706.095237</td>\n",
       "      <td>10112.577665</td>\n",
       "      <td>12965.941083</td>\n",
       "      <td>10960.064221</td>\n",
       "      <td>320.879668</td>\n",
       "      <td>0.040473</td>\n",
       "      <td>10706.095557</td>\n",
       "      <td>0.000000</td>\n",
       "      <td>14123.250747</td>\n",
       "      <td>3021.613390</td>\n",
       "    </tr>\n",
       "  </tbody>\n",
       "</table>\n",
       "</div>"
      ],
      "text/plain": [
       "             out_prncp  collections_12_mths_ex_med   pub_rec    annual_inc  \\\n",
       "loan_status                                                                  \n",
       "Charged Off        0.0                         0.0  0.089994  63246.112654   \n",
       "Fully Paid         0.0                         0.0  0.052527  70136.865374   \n",
       "\n",
       "             total_rec_prncp  funded_amnt_inv   total_pymnt     loan_amnt  \\\n",
       "loan_status                                                                 \n",
       "Charged Off      3912.433278     10307.870172   6734.595059  11833.831377   \n",
       "Fully Paid      10706.095237     10112.577665  12965.941083  10960.064221   \n",
       "\n",
       "             installment  pub_rec_bankruptcies   funded_amnt  recoveries  \\\n",
       "loan_status                                                                \n",
       "Charged Off   333.295435              0.072830  11493.047721  686.301667   \n",
       "Fully Paid    320.879668              0.040473  10706.095557    0.000000   \n",
       "\n",
       "                   amount  last_pymnt_amnt  \n",
       "loan_status                                 \n",
       "Charged Off  15163.986736       323.729027  \n",
       "Fully Paid   14123.250747      3021.613390  "
      ]
     },
     "execution_count": 24,
     "metadata": {},
     "output_type": "execute_result"
    }
   ],
   "source": [
    "df1.groupby(df1.loan_status).mean().iloc[:,15:]"
   ]
  },
  {
   "cell_type": "code",
   "execution_count": 22,
   "metadata": {},
   "outputs": [
    {
     "data": {
      "text/plain": [
       "12"
      ]
     },
     "execution_count": 22,
     "metadata": {},
     "output_type": "execute_result"
    }
   ],
   "source": [
    "numeric_diff_feats = ['funded_amnt','delinq_2yrs','inq_last_6mths',\"total_rec_late_fee\", 'delinq_amnt', 'pub_rec','annual_inc',\"total_rec_prncp\",'total_pymnt','pub_rec_bankruptcies', 'recoveries', 'last_pymnt_amnt' ]\n",
    "len(numeric_diff_feats)"
   ]
  },
  {
   "cell_type": "code",
   "execution_count": 23,
   "metadata": {
    "collapsed": true
   },
   "outputs": [],
   "source": [
    "catgorical_feats =df1.columns.difference(df1.groupby(\"loan_status\").mean().columns)"
   ]
  },
  {
   "cell_type": "code",
   "execution_count": 24,
   "metadata": {},
   "outputs": [
    {
     "data": {
      "text/plain": [
       "Index(['debt_settlement_flag', 'earliest_cr_line', 'emp_length', 'grade',\n",
       "       'home_ownership', 'int_rate', 'last_credit_pull_d', 'last_pymnt_d',\n",
       "       'loan_status', 'rate', 'sub_grade', 'term', 'verification_status',\n",
       "       'zip_code'],\n",
       "      dtype='object')"
      ]
     },
     "execution_count": 24,
     "metadata": {},
     "output_type": "execute_result"
    }
   ],
   "source": [
    "catgorical_feats"
   ]
  },
  {
   "cell_type": "code",
   "execution_count": 27,
   "metadata": {
    "collapsed": true
   },
   "outputs": [],
   "source": [
    "df1.dropna(subset=['delinq_2yrs', 'inq_last_6mths','open_acc'], inplace=True)"
   ]
  },
  {
   "cell_type": "markdown",
   "metadata": {},
   "source": [
    "#### Explore different categorical variables importance"
   ]
  },
  {
   "cell_type": "markdown",
   "metadata": {},
   "source": [
    "cat_sig_feats = []"
   ]
  },
  {
   "cell_type": "code",
   "execution_count": 25,
   "metadata": {
    "collapsed": true
   },
   "outputs": [],
   "source": [
    "def credit_date_to_time(date_str):\n",
    "    if pd.isnull(date_str):return date_str\n",
    "    yr = date_str.split(\"-\")[1]\n",
    "    if int(yr)< 11:\n",
    "        return 11- int(yr)\n",
    "    else:\n",
    "        return 11 + 100- int(yr)"
   ]
  },
  {
   "cell_type": "code",
   "execution_count": 28,
   "metadata": {},
   "outputs": [
    {
     "data": {
      "text/plain": [
       "0"
      ]
     },
     "execution_count": 28,
     "metadata": {},
     "output_type": "execute_result"
    }
   ],
   "source": [
    "df1.earliest_cr_line.isnull().sum()"
   ]
  },
  {
   "cell_type": "code",
   "execution_count": 29,
   "metadata": {
    "collapsed": true
   },
   "outputs": [],
   "source": [
    "df1['cred_length'] = df1.earliest_cr_line.apply(credit_date_to_time)"
   ]
  },
  {
   "cell_type": "code",
   "execution_count": 30,
   "metadata": {},
   "outputs": [
    {
     "data": {
      "text/html": [
       "<div>\n",
       "<style scoped>\n",
       "    .dataframe tbody tr th:only-of-type {\n",
       "        vertical-align: middle;\n",
       "    }\n",
       "\n",
       "    .dataframe tbody tr th {\n",
       "        vertical-align: top;\n",
       "    }\n",
       "\n",
       "    .dataframe thead th {\n",
       "        text-align: right;\n",
       "    }\n",
       "</style>\n",
       "<table border=\"1\" class=\"dataframe\">\n",
       "  <thead>\n",
       "    <tr style=\"text-align: right;\">\n",
       "      <th></th>\n",
       "      <th>cred_length</th>\n",
       "      <th>earliest_cr_line</th>\n",
       "    </tr>\n",
       "  </thead>\n",
       "  <tbody>\n",
       "    <tr>\n",
       "      <td>0</td>\n",
       "      <td>43</td>\n",
       "      <td>Jan-68</td>\n",
       "    </tr>\n",
       "    <tr>\n",
       "      <td>1</td>\n",
       "      <td>8</td>\n",
       "      <td>Jun-03</td>\n",
       "    </tr>\n",
       "    <tr>\n",
       "      <td>2</td>\n",
       "      <td>15</td>\n",
       "      <td>Mar-96</td>\n",
       "    </tr>\n",
       "    <tr>\n",
       "      <td>3</td>\n",
       "      <td>10</td>\n",
       "      <td>Sep-01</td>\n",
       "    </tr>\n",
       "    <tr>\n",
       "      <td>4</td>\n",
       "      <td>5</td>\n",
       "      <td>Jun-06</td>\n",
       "    </tr>\n",
       "    <tr>\n",
       "      <td>5</td>\n",
       "      <td>16</td>\n",
       "      <td>Jul-95</td>\n",
       "    </tr>\n",
       "    <tr>\n",
       "      <td>6</td>\n",
       "      <td>7</td>\n",
       "      <td>Jan-04</td>\n",
       "    </tr>\n",
       "    <tr>\n",
       "      <td>7</td>\n",
       "      <td>16</td>\n",
       "      <td>Nov-95</td>\n",
       "    </tr>\n",
       "    <tr>\n",
       "      <td>8</td>\n",
       "      <td>29</td>\n",
       "      <td>Sep-82</td>\n",
       "    </tr>\n",
       "    <tr>\n",
       "      <td>9</td>\n",
       "      <td>11</td>\n",
       "      <td>Apr-00</td>\n",
       "    </tr>\n",
       "  </tbody>\n",
       "</table>\n",
       "</div>"
      ],
      "text/plain": [
       "   cred_length earliest_cr_line\n",
       "0           43           Jan-68\n",
       "1            8           Jun-03\n",
       "2           15           Mar-96\n",
       "3           10           Sep-01\n",
       "4            5           Jun-06\n",
       "5           16           Jul-95\n",
       "6            7           Jan-04\n",
       "7           16           Nov-95\n",
       "8           29           Sep-82\n",
       "9           11           Apr-00"
      ]
     },
     "execution_count": 30,
     "metadata": {},
     "output_type": "execute_result"
    }
   ],
   "source": [
    "df1[['cred_length', \"earliest_cr_line\"]].iloc[:10]"
   ]
  },
  {
   "cell_type": "markdown",
   "metadata": {},
   "source": [
    "default_rate_by_cred_length"
   ]
  },
  {
   "cell_type": "code",
   "execution_count": 31,
   "metadata": {},
   "outputs": [
    {
     "data": {
      "image/png": "[encoded data removed]",
      "text/plain": [
       "<Figure size 576x396 with 1 Axes>"
      ]
     },
     "metadata": {},
     "output_type": "display_data"
    }
   ],
   "source": [
    "grouped_by_cred_leng = df1.groupby(df1.cred_length)\n",
    "default_rate_by_cred_length = grouped_by_cred_leng.apply(lambda x: x[x.loan_status == \"Charged Off\"].shape[0]/x.shape[0])\n",
    "plt.plot(default_rate_by_cred_length.index[:30], default_rate_by_cred_length[:30], '.-')\n",
    "plt.show()"
   ]
  },
  {
   "cell_type": "code",
   "execution_count": 32,
   "metadata": {},
   "outputs": [
    {
     "name": "stderr",
     "output_type": "stream",
     "text": [
      "C:\\Users\\Zhongyi Zhang\\Anaconda3\\lib\\site-packages\\matplotlib\\axes\\_axes.py:6521: MatplotlibDeprecationWarning: \n",
      "The 'normed' kwarg was deprecated in Matplotlib 2.1 and will be removed in 3.1. Use 'density' instead.\n",
      "  alternative=\"'density'\", removal=\"3.1\")\n"
     ]
    },
    {
     "data": {
      "image/png": "[encoded data removed]",
      "text/plain": [
       "<Figure size 576x396 with 1 Axes>"
      ]
     },
     "metadata": {},
     "output_type": "display_data"
    }
   ],
   "source": [
    "sns.distplot(df1[df1.loan_status ==\"Fully Paid\"]['cred_length'])\n",
    "sns.distplot(df1[df1.loan_status ==\"Charged Off\"]['cred_length'])\n",
    "plt.legend(['Paid', \"Charged Off\"])\n",
    "plt.show()"
   ]
  },
  {
   "cell_type": "markdown",
   "metadata": {},
   "source": [
    "from the plot above as well as the data list, we realized that default rate might be higher when the credit length is <= 5 yrs. We keep it as an indicator, although I suspect that it will not be significant later on."
   ]
  },
  {
   "cell_type": "markdown",
   "metadata": {},
   "source": [
    "numeric_diff_feats.append('cred_length')"
   ]
  },
  {
   "cell_type": "code",
   "execution_count": 33,
   "metadata": {},
   "outputs": [
    {
     "data": {
      "text/plain": [
       "array(['Aug-11', 'Oct-16', 'Dec-14', 'Dec-18', 'Feb-19', 'Jun-19',\n",
       "       'Sep-14', 'Aug-18', 'May-15', 'May-19', 'Nov-13', 'May-18',\n",
       "       'Mar-15', 'Nov-17', 'Jan-18', 'May-14', 'Jul-14', 'Feb-17',\n",
       "       'Dec-13', 'Apr-14', 'Dec-15', 'Feb-14', 'Dec-16', 'Sep-13',\n",
       "       'Sep-16', 'Feb-15', 'Sep-18', 'Jan-14', 'Oct-15', 'Sep-15',\n",
       "       'Aug-14', 'Apr-19', 'Feb-18', 'Apr-13', 'Jul-18', 'Jan-19',\n",
       "       'Nov-18', 'Oct-17', 'Oct-14', 'May-13', 'May-16', 'Nov-15',\n",
       "       'Mar-16', 'Jun-14', 'Nov-16', 'Jun-17', 'Oct-13', 'Aug-17',\n",
       "       'Jun-18', 'Nov-12', 'Oct-11', 'Mar-14', 'Jan-17', 'Mar-19',\n",
       "       'Feb-16', 'Aug-16', 'Oct-18', 'Feb-13', 'Sep-17', 'Aug-12',\n",
       "       'Mar-17', 'Jul-13', 'Jan-16', 'Jan-15', 'Jul-17', 'Jul-15',\n",
       "       'May-12', 'Jun-16', 'Mar-18', 'Apr-16', 'Nov-14', 'Jul-12',\n",
       "       'Mar-13', 'Apr-18', 'Jul-16', 'Dec-17', 'Aug-13', 'Jan-12',\n",
       "       'Apr-15', 'Apr-17', 'Jun-12', 'Nov-11', 'Feb-12', 'Jul-11',\n",
       "       'May-11', 'Dec-12', 'Aug-15', 'May-17', 'Oct-12', 'Mar-12',\n",
       "       'Jun-15', 'Sep-12', 'Dec-11', 'Apr-12', 'Jun-13', 'Jun-11',\n",
       "       'Sep-11', 'Apr-11', 'Jan-13', 'Mar-11', 'Sep-08', 'Apr-10',\n",
       "       'Aug-10', 'Nov-10', 'Dec-10', 'Feb-10', 'Feb-11', 'Aug-08',\n",
       "       'Jul-07', 'Oct-10', 'Jan-11', 'Apr-09', 'Sep-10', 'Nov-09',\n",
       "       'Oct-09', 'Jan-08', 'Jul-10', 'Feb-09', 'Aug-07', 'Jun-10',\n",
       "       'Dec-09', 'Jul-09', 'Jan-09', 'Dec-08', 'May-10', 'May-09',\n",
       "       'Jun-07', 'Aug-09', 'Jun-09', 'Mar-09', 'Jan-10', 'Feb-08',\n",
       "       'Mar-10', 'Mar-08', 'Oct-08', 'Sep-07', 'Sep-09', nan, 'Jul-08',\n",
       "       'Nov-07', 'Jun-08', 'Dec-07', 'Oct-07', 'May-07'], dtype=object)"
      ]
     },
     "execution_count": 33,
     "metadata": {},
     "output_type": "execute_result"
    }
   ],
   "source": [
    "df1.last_credit_pull_d.unique()"
   ]
  },
  {
   "cell_type": "code",
   "execution_count": 34,
   "metadata": {
    "collapsed": true
   },
   "outputs": [],
   "source": [
    "def month_num(month):\n",
    "    if month ==\"Jan\":return 1\n",
    "    if month == \"Feb\": return 2\n",
    "    if month ==\"Mar\": return 3\n",
    "    if month == \"Apr\": return 4\n",
    "    if month ==\"May\": return 5\n",
    "    if month ==\"Jun\": return 6\n",
    "    if month ==\"Jul\": return 7\n",
    "    if month ==\"Aug\": return 8\n",
    "    if month == \"Sep\": return 9\n",
    "    if month ==\"Oct\": return 10\n",
    "    if month ==\"Nov\": return 11\n",
    "    if month == \"Dec\": return 12\n",
    "    \n",
    "def time_since_last_pull(date_str):\n",
    "    if pd.isnull(date_str):return date_str\n",
    "    month, yr = date_str.split(\"-\")[0], date_str.split(\"-\")[1]\n",
    "    return (19 - int(yr))*12 + 10 - month_num(month)\n",
    "    \n",
    "        \n",
    "    "
   ]
  },
  {
   "cell_type": "code",
   "execution_count": 35,
   "metadata": {
    "collapsed": true,
    "scrolled": true
   },
   "outputs": [],
   "source": [
    "df1['time_since_last_credit_pull'] = df1.last_credit_pull_d.apply(time_since_last_pull)"
   ]
  },
  {
   "cell_type": "code",
   "execution_count": 36,
   "metadata": {},
   "outputs": [
    {
     "data": {
      "text/html": [
       "<div>\n",
       "<style scoped>\n",
       "    .dataframe tbody tr th:only-of-type {\n",
       "        vertical-align: middle;\n",
       "    }\n",
       "\n",
       "    .dataframe tbody tr th {\n",
       "        vertical-align: top;\n",
       "    }\n",
       "\n",
       "    .dataframe thead th {\n",
       "        text-align: right;\n",
       "    }\n",
       "</style>\n",
       "<table border=\"1\" class=\"dataframe\">\n",
       "  <thead>\n",
       "    <tr style=\"text-align: right;\">\n",
       "      <th></th>\n",
       "      <th>last_credit_pull_d</th>\n",
       "      <th>time_since_last_credit_pull</th>\n",
       "    </tr>\n",
       "  </thead>\n",
       "  <tbody>\n",
       "    <tr>\n",
       "      <td>0</td>\n",
       "      <td>Aug-11</td>\n",
       "      <td>98.0</td>\n",
       "    </tr>\n",
       "    <tr>\n",
       "      <td>1</td>\n",
       "      <td>Oct-16</td>\n",
       "      <td>36.0</td>\n",
       "    </tr>\n",
       "    <tr>\n",
       "      <td>2</td>\n",
       "      <td>Dec-14</td>\n",
       "      <td>58.0</td>\n",
       "    </tr>\n",
       "    <tr>\n",
       "      <td>3</td>\n",
       "      <td>Dec-18</td>\n",
       "      <td>10.0</td>\n",
       "    </tr>\n",
       "    <tr>\n",
       "      <td>4</td>\n",
       "      <td>Feb-19</td>\n",
       "      <td>8.0</td>\n",
       "    </tr>\n",
       "    <tr>\n",
       "      <td>...</td>\n",
       "      <td>...</td>\n",
       "      <td>...</td>\n",
       "    </tr>\n",
       "    <tr>\n",
       "      <td>43387</td>\n",
       "      <td>Sep-18</td>\n",
       "      <td>13.0</td>\n",
       "    </tr>\n",
       "    <tr>\n",
       "      <td>43388</td>\n",
       "      <td>Mar-18</td>\n",
       "      <td>19.0</td>\n",
       "    </tr>\n",
       "    <tr>\n",
       "      <td>43389</td>\n",
       "      <td>Dec-15</td>\n",
       "      <td>46.0</td>\n",
       "    </tr>\n",
       "    <tr>\n",
       "      <td>43390</td>\n",
       "      <td>Mar-11</td>\n",
       "      <td>103.0</td>\n",
       "    </tr>\n",
       "    <tr>\n",
       "      <td>43391</td>\n",
       "      <td>Nov-13</td>\n",
       "      <td>71.0</td>\n",
       "    </tr>\n",
       "  </tbody>\n",
       "</table>\n",
       "<p>43356 rows × 2 columns</p>\n",
       "</div>"
      ],
      "text/plain": [
       "      last_credit_pull_d  time_since_last_credit_pull\n",
       "0                 Aug-11                         98.0\n",
       "1                 Oct-16                         36.0\n",
       "2                 Dec-14                         58.0\n",
       "3                 Dec-18                         10.0\n",
       "4                 Feb-19                          8.0\n",
       "...                  ...                          ...\n",
       "43387             Sep-18                         13.0\n",
       "43388             Mar-18                         19.0\n",
       "43389             Dec-15                         46.0\n",
       "43390             Mar-11                        103.0\n",
       "43391             Nov-13                         71.0\n",
       "\n",
       "[43356 rows x 2 columns]"
      ]
     },
     "execution_count": 36,
     "metadata": {},
     "output_type": "execute_result"
    }
   ],
   "source": [
    "df1[['last_credit_pull_d', 'time_since_last_credit_pull']]"
   ]
  },
  {
   "cell_type": "code",
   "execution_count": 37,
   "metadata": {},
   "outputs": [
    {
     "data": {
      "image/png": "[encoded data removed]",
      "text/plain": [
       "<Figure size 576x396 with 1 Axes>"
      ]
     },
     "metadata": {},
     "output_type": "display_data"
    }
   ],
   "source": [
    "grouped_by_last_cre_pull = df1.groupby(df1.time_since_last_credit_pull)\n",
    "default_rate_by_last_cre_pull = grouped_by_last_cre_pull.apply(lambda x: x[x.loan_status == \"Charged Off\"].shape[0]/x.shape[0])\n",
    "plt.plot(default_rate_by_last_cre_pull, \".-\")\n",
    "plt.xlabel(\"months since last credit pull\")\n",
    "plt.show()"
   ]
  },
  {
   "cell_type": "code",
   "execution_count": 38,
   "metadata": {},
   "outputs": [
    {
     "data": {
      "text/plain": [
       "array(['Jan-12', 'Nov-11', 'Dec-14', 'Jul-14', 'Feb-16', 'Oct-14',\n",
       "       'Dec-16', 'Mar-12', 'Mar-13', 'Nov-13', 'Jun-14', 'Apr-15',\n",
       "       'Oct-13', 'Nov-16', 'Sep-14', 'Apr-14', 'Nov-12', 'Oct-16',\n",
       "       'Aug-14', 'Feb-13', 'Feb-12', 'Jan-14', 'Jun-12', 'Sep-13',\n",
       "       'Aug-13', 'Oct-11', 'May-12', 'Sep-12', 'Dec-13', 'May-14',\n",
       "       'May-13', 'Sep-15', 'Jan-15', 'Oct-12', 'Aug-12', 'Jun-13',\n",
       "       'Jul-12', 'Dec-11', 'May-16', 'Feb-14', 'Aug-11', 'Apr-13',\n",
       "       'Aug-16', 'Sep-16', 'Apr-12', 'Nov-14', 'Mar-14', 'Jul-11',\n",
       "       'Mar-16', 'Oct-15', 'Jun-16', 'Jan-13', 'Jul-16', 'Dec-12',\n",
       "       'Apr-16', 'Feb-15', 'Jul-15', 'Jan-16', 'Jul-13', 'Apr-11',\n",
       "       'Jun-15', 'Aug-15', nan, 'Nov-15', 'Mar-15', 'Dec-15', 'Jun-11',\n",
       "       'May-15', 'Sep-11', 'Jan-17', 'May-11', 'Feb-17', 'Apr-17',\n",
       "       'Oct-09', 'Oct-10', 'Mar-11', 'Oct-08', 'Feb-11', 'May-09',\n",
       "       'Mar-10', 'Jun-10', 'Jul-10', 'Nov-10', 'Aug-10', 'Dec-10',\n",
       "       'Jan-11', 'Sep-09', 'Sep-10', 'Sep-08', 'Apr-08', 'Apr-09',\n",
       "       'Nov-09', 'Jan-09', 'Apr-10', 'May-10', 'May-08', 'Jun-08',\n",
       "       'Jul-09', 'Mar-09', 'Feb-10', 'Feb-09', 'Aug-09', 'Jun-09',\n",
       "       'Nov-08', 'Dec-09', 'Jan-10', 'Aug-08', 'Dec-08', 'Jul-08',\n",
       "       'Mar-08', 'Jan-08', 'Feb-08', 'Dec-07'], dtype=object)"
      ]
     },
     "execution_count": 38,
     "metadata": {},
     "output_type": "execute_result"
    }
   ],
   "source": [
    "df1.last_pymnt_d.unique()"
   ]
  },
  {
   "cell_type": "code",
   "execution_count": 39,
   "metadata": {
    "collapsed": true
   },
   "outputs": [],
   "source": [
    "df1['time_since_last_payment'] = df1.last_pymnt_d.apply(time_since_last_pull)"
   ]
  },
  {
   "cell_type": "code",
   "execution_count": 40,
   "metadata": {},
   "outputs": [
    {
     "data": {
      "image/png": "[encoded data removed]",
      "text/plain": [
       "<Figure size 576x396 with 1 Axes>"
      ]
     },
     "metadata": {},
     "output_type": "display_data"
    }
   ],
   "source": [
    "default_rate_by_time_since_last_payment = df1.groupby(df1.time_since_last_payment).apply(lambda x: x[x.loan_status == \"Charged Off\"].shape[0]/x.shape[0])\n",
    "plt.plot(default_rate_by_time_since_last_payment, \".-\")\n",
    "plt.show()"
   ]
  },
  {
   "cell_type": "code",
   "execution_count": 41,
   "metadata": {
    "collapsed": true
   },
   "outputs": [],
   "source": [
    "df1_time_since_last_pymn = df1.dropna(subset=['time_since_last_payment'])"
   ]
  },
  {
   "cell_type": "code",
   "execution_count": 42,
   "metadata": {},
   "outputs": [
    {
     "name": "stderr",
     "output_type": "stream",
     "text": [
      "C:\\Users\\Zhongyi Zhang\\Anaconda3\\lib\\site-packages\\matplotlib\\axes\\_axes.py:6521: MatplotlibDeprecationWarning: \n",
      "The 'normed' kwarg was deprecated in Matplotlib 2.1 and will be removed in 3.1. Use 'density' instead.\n",
      "  alternative=\"'density'\", removal=\"3.1\")\n"
     ]
    },
    {
     "data": {
      "image/png": "[encoded data removed]",
      "text/plain": [
       "<Figure size 576x396 with 1 Axes>"
      ]
     },
     "metadata": {},
     "output_type": "display_data"
    }
   ],
   "source": [
    "\n",
    "sns.distplot(df1_time_since_last_pymn[df1_time_since_last_pymn.loan_status ==\"Charged Off\"]['time_since_last_payment'])\n",
    "sns.distplot(df1_time_since_last_pymn[df1_time_since_last_pymn.loan_status ==\"Fully Paid\"]['time_since_last_payment'])\n",
    "plt.legend([\"Charged off\", \"Paid\"])\n",
    "plt.show()"
   ]
  },
  {
   "cell_type": "markdown",
   "metadata": {},
   "source": [
    "So time since last payment day seems a good indicator of default rate."
   ]
  },
  {
   "cell_type": "markdown",
   "metadata": {},
   "source": [
    "numeric_diff_feats.append('time_since_last_payment')"
   ]
  },
  {
   "cell_type": "markdown",
   "metadata": {},
   "source": [
    "pd.crosstab(df1.debt_settlement_flag, df1.loan_status).plot(kind = 'bar')\n",
    "plt.xlabel('debt settlement')\n",
    "plt.ylabel(\"loan status\")\n",
    "plt.show()"
   ]
  },
  {
   "cell_type": "code",
   "execution_count": 43,
   "metadata": {},
   "outputs": [
    {
     "data": {
      "text/plain": [
       "debt_settlement_flag\n",
       "N    0.148069\n",
       "Y    1.000000\n",
       "dtype: float64"
      ]
     },
     "execution_count": 43,
     "metadata": {},
     "output_type": "execute_result"
    }
   ],
   "source": [
    "grouped_by_debt_sett = df1.groupby(['debt_settlement_flag'])\n",
    "grouped_by_debt_sett.apply(lambda x: x[x.loan_status == 'Charged Off'].shape[0]/x.shape[0])"
   ]
  },
  {
   "cell_type": "markdown",
   "metadata": {},
   "source": [
    "cat_sig_feats.append('debt_settlement_flag')"
   ]
  },
  {
   "cell_type": "markdown",
   "metadata": {},
   "source": [
    "debt settlement flag is a good indicator"
   ]
  },
  {
   "cell_type": "code",
   "execution_count": 44,
   "metadata": {},
   "outputs": [
    {
     "data": {
      "text/plain": [
       "term\n",
       " 36 months    0.123145\n",
       " 60 months    0.231730\n",
       "dtype: float64"
      ]
     },
     "execution_count": 44,
     "metadata": {},
     "output_type": "execute_result"
    }
   ],
   "source": [
    "grouped_by_term = df1.groupby('term')\n",
    "grouped_by_term.apply(lambda x: x[x.loan_status == 'Charged Off'].shape[0]/x.shape[0])"
   ]
  },
  {
   "cell_type": "markdown",
   "metadata": {},
   "source": [
    "cat_sig_feats.append('term')"
   ]
  },
  {
   "cell_type": "markdown",
   "metadata": {},
   "source": [
    "term seem to suggest default rate difference as well."
   ]
  },
  {
   "cell_type": "code",
   "execution_count": 45,
   "metadata": {},
   "outputs": [
    {
     "data": {
      "text/plain": [
       "emp_length\n",
       "1 year       0.153846\n",
       "10+ years    0.160327\n",
       "2 years      0.137767\n",
       "3 years      0.143436\n",
       "4 years      0.142627\n",
       "5 years      0.146942\n",
       "6 years      0.150248\n",
       "7 years      0.156495\n",
       "8 years      0.149390\n",
       "9 years      0.132364\n",
       "< 1 year     0.149445\n",
       "dtype: float64"
      ]
     },
     "execution_count": 45,
     "metadata": {},
     "output_type": "execute_result"
    }
   ],
   "source": [
    "#ratio_of_default =\n",
    "grouped_by_emp = df1.groupby(['emp_length'])#,'loan_status'])\n",
    "grouped_by_emp.apply(lambda x: x[x.loan_status == 'Charged Off'].shape[0]/x.shape[0] )\n"
   ]
  },
  {
   "cell_type": "markdown",
   "metadata": {},
   "source": [
    "from above ratio, we know that employment length is not a good indicator of default or not"
   ]
  },
  {
   "cell_type": "markdown",
   "metadata": {},
   "source": [
    "pd.crosstab(df1.emp_length, df1.loan_status).plot(kind = 'bar', stacked = True)\n",
    "plt.xlabel('employment length')\n",
    "plt.ylabel(\"loan status\")\n",
    "plt.show()"
   ]
  },
  {
   "cell_type": "code",
   "execution_count": 46,
   "metadata": {},
   "outputs": [
    {
     "data": {
      "text/plain": [
       "grade\n",
       "A    0.059696\n",
       "B    0.122278\n",
       "C    0.172530\n",
       "D    0.220955\n",
       "E    0.260531\n",
       "F    0.319789\n",
       "G    0.336576\n",
       "dtype: float64"
      ]
     },
     "execution_count": 46,
     "metadata": {},
     "output_type": "execute_result"
    }
   ],
   "source": [
    "grouped_by_grade = df1.groupby(df1.grade)\n",
    "grouped_by_grade.apply(lambda x: x[x.loan_status == 'Charged Off'].shape[0]/x.shape[0])"
   ]
  },
  {
   "cell_type": "markdown",
   "metadata": {},
   "source": [
    "cat_sig_feats.append('grade')"
   ]
  },
  {
   "cell_type": "markdown",
   "metadata": {},
   "source": [
    "Grade is a good indicator of default"
   ]
  },
  {
   "cell_type": "code",
   "execution_count": 47,
   "metadata": {},
   "outputs": [
    {
     "data": {
      "text/plain": [
       "sub_grade\n",
       "A1    0.025597\n",
       "A2    0.050258\n",
       "A3    0.056065\n",
       "A4    0.060770\n",
       "A5    0.080141\n",
       "B1    0.099427\n",
       "B2    0.112918\n",
       "B3    0.118822\n",
       "B4    0.135933\n",
       "B5    0.135759\n",
       "C1    0.158992\n",
       "C2    0.167883\n",
       "C3    0.184899\n",
       "C4    0.177269\n",
       "C5    0.183056\n",
       "D1    0.194781\n",
       "D2    0.213395\n",
       "D3    0.225519\n",
       "D4    0.228101\n",
       "D5    0.245192\n",
       "E1    0.262693\n",
       "E2    0.256188\n",
       "E3    0.237537\n",
       "E4    0.293286\n",
       "E5    0.257937\n",
       "F1    0.290323\n",
       "F2    0.287066\n",
       "F3    0.294606\n",
       "F4    0.349057\n",
       "F5    0.461538\n",
       "G1    0.307692\n",
       "G2    0.355140\n",
       "G3    0.367089\n",
       "G4    0.333333\n",
       "G5    0.337209\n",
       "dtype: float64"
      ]
     },
     "execution_count": 47,
     "metadata": {},
     "output_type": "execute_result"
    }
   ],
   "source": [
    "grouped_by_subgrade = df1.groupby(df1.sub_grade)\n",
    "grouped_by_subgrade.apply(lambda x: x[x.loan_status == 'Charged Off'].shape[0]/x.shape[0])"
   ]
  },
  {
   "cell_type": "markdown",
   "metadata": {},
   "source": [
    "When using subgrade, it might not turn out to be as predictive of grade as a whole due to some outliers, so we just use grade"
   ]
  },
  {
   "cell_type": "code",
   "execution_count": 48,
   "metadata": {},
   "outputs": [
    {
     "data": {
      "text/plain": [
       "home_ownership\n",
       "MORTGAGE    0.141918\n",
       "NONE        0.250000\n",
       "OTHER       0.208633\n",
       "OWN         0.151029\n",
       "RENT        0.159565\n",
       "dtype: float64"
      ]
     },
     "execution_count": 48,
     "metadata": {},
     "output_type": "execute_result"
    }
   ],
   "source": [
    "groupedby_home = df1.groupby(['home_ownership'])\n",
    "groupedby_home.apply(lambda x: x[x.loan_status == 'Charged Off'].shape[0]/x.shape[0])"
   ]
  },
  {
   "cell_type": "markdown",
   "metadata": {},
   "source": [
    "home ownership looks like a valid indicator, where \"None\" and \"Other\" are indicators of high probability of default;\n",
    "yet we saw that there are less than 3 in 1000 ppl who have this entry. So the data is high imbalanced with this feature. We can ignore this feature."
   ]
  },
  {
   "cell_type": "code",
   "execution_count": 49,
   "metadata": {},
   "outputs": [
    {
     "data": {
      "text/plain": [
       "(143, 41)"
      ]
     },
     "execution_count": 49,
     "metadata": {},
     "output_type": "execute_result"
    }
   ],
   "source": [
    "df1[(df1.home_ownership=='NONE') | (df1.home_ownership ==\"OTHER\")].shape"
   ]
  },
  {
   "cell_type": "code",
   "execution_count": 50,
   "metadata": {},
   "outputs": [
    {
     "data": {
      "text/plain": [
       "185"
      ]
     },
     "execution_count": 50,
     "metadata": {},
     "output_type": "execute_result"
    }
   ],
   "source": [
    "df2[(df2.home_ownership ==\"NONE\")|(df1.home_ownership == \"OTHER\")|df2.home_ownership.isnull()].shape[0]"
   ]
  },
  {
   "cell_type": "code",
   "execution_count": 51,
   "metadata": {},
   "outputs": [
    {
     "data": {
      "text/plain": [
       "verification_status\n",
       "Not Verified       0.141364\n",
       "Source Verified    0.148839\n",
       "Verified           0.166776\n",
       "dtype: float64"
      ]
     },
     "execution_count": 51,
     "metadata": {},
     "output_type": "execute_result"
    }
   ],
   "source": [
    "grouped_by_ver = df1.groupby(df1.verification_status)\n",
    "grouped_by_ver.apply(lambda x: x[x.loan_status == 'Charged Off'].shape[0]/x.shape[0])"
   ]
  },
  {
   "cell_type": "code",
   "execution_count": 504,
   "metadata": {
    "collapsed": true
   },
   "outputs": [],
   "source": [
    "cat_sig_feats.append(\"verification_status\")"
   ]
  },
  {
   "cell_type": "markdown",
   "metadata": {},
   "source": [
    "verification status seems an indicator for default, although not very strong, we keep it."
   ]
  },
  {
   "cell_type": "code",
   "execution_count": 52,
   "metadata": {},
   "outputs": [
    {
     "data": {
      "text/plain": [
       "int_rate\n",
       "10.00%    0.120623\n",
       "10.01%    0.125000\n",
       "10.08%    0.206897\n",
       "10.14%    0.181818\n",
       "10.20%    0.166667\n",
       "            ...   \n",
       "9.83%     0.000000\n",
       "9.88%     0.047872\n",
       "9.91%     0.098446\n",
       "9.96%     0.172414\n",
       "9.99%     0.095161\n",
       "Length: 394, dtype: float64"
      ]
     },
     "execution_count": 52,
     "metadata": {},
     "output_type": "execute_result"
    }
   ],
   "source": [
    "grouped_by_int_rate = df1.groupby(df1.int_rate)\n",
    "grouped_by_int_rate.apply(lambda x: x[x.loan_status == 'Charged Off'].shape[0]/x.shape[0])"
   ]
  },
  {
   "cell_type": "markdown",
   "metadata": {},
   "source": [
    "int_rates = df1.int_rate\n",
    "int_rates_num =int_rates.apply(lambda x: float(x[:4]))\n",
    "quantiles = pd.qcut(int_rates_num, 10)"
   ]
  },
  {
   "cell_type": "code",
   "execution_count": 53,
   "metadata": {
    "collapsed": true
   },
   "outputs": [],
   "source": [
    "df1.int_rate = df1.int_rate.apply(lambda x: float(x[:4]))"
   ]
  },
  {
   "cell_type": "code",
   "execution_count": 54,
   "metadata": {},
   "outputs": [
    {
     "name": "stderr",
     "output_type": "stream",
     "text": [
      "C:\\Users\\Zhongyi Zhang\\Anaconda3\\lib\\site-packages\\matplotlib\\axes\\_axes.py:6521: MatplotlibDeprecationWarning: \n",
      "The 'normed' kwarg was deprecated in Matplotlib 2.1 and will be removed in 3.1. Use 'density' instead.\n",
      "  alternative=\"'density'\", removal=\"3.1\")\n"
     ]
    },
    {
     "data": {
      "image/png": "[encoded data removed]",
      "text/plain": [
       "<Figure size 576x396 with 1 Axes>"
      ]
     },
     "metadata": {},
     "output_type": "display_data"
    }
   ],
   "source": [
    "sns.distplot(df1[df1.loan_status ==\"Fully Paid\"]['int_rate']) \n",
    "sns.distplot(df1[df1.loan_status ==\"Charged Off\"]['int_rate'])\n",
    "plt.legend([\"fully paid\", 'charged off'])\n",
    "plt.show()"
   ]
  },
  {
   "cell_type": "markdown",
   "metadata": {},
   "source": [
    "it looks like the default rate is higher for higher interest rates."
   ]
  },
  {
   "cell_type": "markdown",
   "metadata": {},
   "source": [
    "numeric_diff_feats.append(\"int_rate\")"
   ]
  },
  {
   "cell_type": "code",
   "execution_count": 82,
   "metadata": {
    "collapsed": true
   },
   "outputs": [],
   "source": [
    "def rate_to_num(rate):\n",
    "    if pd.isnull(rate): return rate\n",
    "    return float(str(rate)[:-1])"
   ]
  },
  {
   "cell_type": "code",
   "execution_count": 55,
   "metadata": {},
   "outputs": [
    {
     "name": "stderr",
     "output_type": "stream",
     "text": [
      "C:\\Users\\Zhongyi Zhang\\Anaconda3\\lib\\site-packages\\pandas\\core\\generic.py:5208: SettingWithCopyWarning: \n",
      "A value is trying to be set on a copy of a slice from a DataFrame.\n",
      "Try using .loc[row_indexer,col_indexer] = value instead\n",
      "\n",
      "See the caveats in the documentation: http://pandas.pydata.org/pandas-docs/stable/user_guide/indexing.html#returning-a-view-versus-a-copy\n",
      "  self[name] = value\n",
      "C:\\Users\\Zhongyi Zhang\\Anaconda3\\lib\\site-packages\\matplotlib\\axes\\_axes.py:6521: MatplotlibDeprecationWarning: \n",
      "The 'normed' kwarg was deprecated in Matplotlib 2.1 and will be removed in 3.1. Use 'density' instead.\n",
      "  alternative=\"'density'\", removal=\"3.1\")\n"
     ]
    },
    {
     "data": {
      "image/png": "[encoded data removed]",
      "text/plain": [
       "<Figure size 576x396 with 1 Axes>"
      ]
     },
     "metadata": {},
     "output_type": "display_data"
    }
   ],
   "source": [
    "with_rates = df1[~df1.rate.isnull()] \n",
    "with_rates.rate = with_rates.rate.apply(lambda x:float(str(x)[:-1]) )\n",
    "sns.distplot(with_rates[with_rates.loan_status =='Fully Paid']['rate'])\n",
    "sns.distplot(with_rates[with_rates.loan_status ==\"Charged Off\"]['rate'])\n",
    "plt.legend([\"fully paid\", 'charged off'])\n",
    "plt.show()"
   ]
  },
  {
   "cell_type": "markdown",
   "metadata": {},
   "source": [
    "It looks like for higher rates, the default ratio is higher."
   ]
  },
  {
   "cell_type": "markdown",
   "metadata": {},
   "source": [
    "numeric_diff_feats.append('rate')"
   ]
  },
  {
   "cell_type": "code",
   "execution_count": 83,
   "metadata": {},
   "outputs": [],
   "source": [
    "df1.rate = df1.rate.apply(rate_to_num)"
   ]
  },
  {
   "cell_type": "code",
   "execution_count": 437,
   "metadata": {},
   "outputs": [
    {
     "data": {
      "image/png": "[encoded data removed]",
      "text/plain": [
       "<Figure size 576x396 with 1 Axes>"
      ]
     },
     "metadata": {},
     "output_type": "display_data"
    }
   ],
   "source": [
    "rate_regressor = LinearRegression()\n",
    "#rate_regressor.fit(np.array(with_rates.int_rate).reshape(-1,1), np.array(with_rates.rate).reshape(-1,1))\n",
    "plt.scatter(with_rates.int_rate, with_rates.rate)\n",
    "plt.show()\n"
   ]
  },
  {
   "cell_type": "markdown",
   "metadata": {},
   "source": [
    "The above plot shows that rate is not related to interest rate in an obvious way"
   ]
  },
  {
   "cell_type": "markdown",
   "metadata": {},
   "source": [
    "##### Therefore, the following features are possible candidates for statistical significance"
   ]
  },
  {
   "cell_type": "code",
   "execution_count": 56,
   "metadata": {
    "collapsed": true
   },
   "outputs": [],
   "source": [
    "numeric_diff_feats.extend(['int_rate','rate','time_since_last_payment','time_since_last_credit_pull','cred_length'])"
   ]
  },
  {
   "cell_type": "code",
   "execution_count": 57,
   "metadata": {
    "collapsed": true
   },
   "outputs": [],
   "source": [
    "cat_sig_feats = ['debt_settlement_flag', 'term', 'grade', 'verification_status']\n"
   ]
  },
  {
   "cell_type": "code",
   "execution_count": 58,
   "metadata": {},
   "outputs": [
    {
     "data": {
      "text/plain": [
       "['funded_amnt',\n",
       " 'delinq_2yrs',\n",
       " 'time_since_last_payment',\n",
       " 'recoveries',\n",
       " 'total_pymnt',\n",
       " 'delinq_amnt',\n",
       " 'total_rec_late_fee',\n",
       " 'total_rec_prncp',\n",
       " 'time_since_last_credit_pull',\n",
       " 'cred_length',\n",
       " 'inq_last_6mths',\n",
       " 'rate',\n",
       " 'int_rate',\n",
       " 'pub_rec',\n",
       " 'last_pymnt_amnt',\n",
       " 'pub_rec_bankruptcies',\n",
       " 'annual_inc']"
      ]
     },
     "execution_count": 58,
     "metadata": {},
     "output_type": "execute_result"
    }
   ],
   "source": [
    "numeric_diff_feats = list(set(numeric_diff_feats))\n",
    "numeric_diff_feats"
   ]
  },
  {
   "cell_type": "code",
   "execution_count": 115,
   "metadata": {
    "collapsed": true
   },
   "outputs": [],
   "source": [
    "possible_sig_features = ['loan_status']+ numeric_diff_feats + cat_sig_feats\n",
    "\n",
    "df1_core = df1[possible_sig_features]"
   ]
  },
  {
   "cell_type": "code",
   "execution_count": 117,
   "metadata": {},
   "outputs": [
    {
     "name": "stderr",
     "output_type": "stream",
     "text": [
      "C:\\Users\\Zhongyi Zhang\\Anaconda3\\lib\\site-packages\\ipykernel_launcher.py:2: SettingWithCopyWarning: \n",
      "A value is trying to be set on a copy of a slice from a DataFrame\n",
      "\n",
      "See the caveats in the documentation: http://pandas.pydata.org/pandas-docs/stable/user_guide/indexing.html#returning-a-view-versus-a-copy\n",
      "  \n"
     ]
    }
   ],
   "source": [
    "df1_core.dtypes\n",
    "df1_core.dropna(inplace=True)"
   ]
  },
  {
   "cell_type": "markdown",
   "metadata": {},
   "source": [
    "### Now train our data with logistic regression"
   ]
  },
  {
   "cell_type": "code",
   "execution_count": 61,
   "metadata": {
    "collapsed": true
   },
   "outputs": [],
   "source": [
    "from sklearn.linear_model import LinearRegression\n",
    "from sklearn.linear_model import LogisticRegression\n",
    "from sklearn.model_selection import train_test_split"
   ]
  },
  {
   "cell_type": "code",
   "execution_count": 119,
   "metadata": {},
   "outputs": [],
   "source": [
    "for feat in cat_sig_feats:\n",
    "    cat_list = 'var'+ \"_\"+ feat\n",
    "    cat_list = pd.get_dummies(df1_core[feat], prefix=feat)\n",
    "    df1_2 = df1_core.join(cat_list)\n",
    "    df1_core = df1_2\n",
    "#print(cat_list.columns)    "
   ]
  },
  {
   "cell_type": "code",
   "execution_count": 120,
   "metadata": {
    "collapsed": true
   },
   "outputs": [],
   "source": [
    "data_vars = df1_core.columns.values.tolist()\n",
    "to_keep = [i for i in data_vars if i not in cat_sig_feats]\n",
    "df1_core = df1_core[to_keep]"
   ]
  },
  {
   "cell_type": "code",
   "execution_count": 122,
   "metadata": {},
   "outputs": [
    {
     "data": {
      "text/plain": [
       "loan_status                             object\n",
       "funded_amnt                            float64\n",
       "delinq_2yrs                            float64\n",
       "time_since_last_payment                float64\n",
       "recoveries                             float64\n",
       "total_pymnt                            float64\n",
       "delinq_amnt                            float64\n",
       "total_rec_late_fee                     float64\n",
       "total_rec_prncp                        float64\n",
       "time_since_last_credit_pull            float64\n",
       "cred_length                              int64\n",
       "inq_last_6mths                         float64\n",
       "rate                                   float64\n",
       "int_rate                               float64\n",
       "pub_rec                                float64\n",
       "last_pymnt_amnt                        float64\n",
       "pub_rec_bankruptcies                   float64\n",
       "annual_inc                             float64\n",
       "debt_settlement_flag_N                   uint8\n",
       "debt_settlement_flag_Y                   uint8\n",
       "term_ 36 months                          uint8\n",
       "term_ 60 months                          uint8\n",
       "grade_A                                  uint8\n",
       "grade_B                                  uint8\n",
       "grade_C                                  uint8\n",
       "grade_D                                  uint8\n",
       "grade_E                                  uint8\n",
       "grade_F                                  uint8\n",
       "grade_G                                  uint8\n",
       "verification_status_Not Verified         uint8\n",
       "verification_status_Source Verified      uint8\n",
       "verification_status_Verified             uint8\n",
       "dtype: object"
      ]
     },
     "execution_count": 122,
     "metadata": {},
     "output_type": "execute_result"
    }
   ],
   "source": [
    "df1_core.dtypes"
   ]
  },
  {
   "cell_type": "code",
   "execution_count": 102,
   "metadata": {},
   "outputs": [
    {
     "data": {
      "text/html": [
       "<div>\n",
       "<style scoped>\n",
       "    .dataframe tbody tr th:only-of-type {\n",
       "        vertical-align: middle;\n",
       "    }\n",
       "\n",
       "    .dataframe tbody tr th {\n",
       "        vertical-align: top;\n",
       "    }\n",
       "\n",
       "    .dataframe thead th {\n",
       "        text-align: right;\n",
       "    }\n",
       "</style>\n",
       "<table border=\"1\" class=\"dataframe\">\n",
       "  <thead>\n",
       "    <tr style=\"text-align: right;\">\n",
       "      <th></th>\n",
       "      <th>funded_amnt</th>\n",
       "      <th>delinq_2yrs</th>\n",
       "      <th>time_since_last_payment</th>\n",
       "      <th>recoveries</th>\n",
       "      <th>total_pymnt</th>\n",
       "      <th>delinq_amnt</th>\n",
       "      <th>total_rec_late_fee</th>\n",
       "      <th>total_rec_prncp</th>\n",
       "      <th>time_since_last_credit_pull</th>\n",
       "      <th>cred_length</th>\n",
       "      <th>...</th>\n",
       "      <th>rate</th>\n",
       "      <th>int_rate</th>\n",
       "      <th>pub_rec</th>\n",
       "      <th>last_pymnt_amnt</th>\n",
       "      <th>pub_rec_bankruptcies</th>\n",
       "      <th>annual_inc</th>\n",
       "      <th>debt_settlement_flag</th>\n",
       "      <th>term</th>\n",
       "      <th>grade</th>\n",
       "      <th>verification_status</th>\n",
       "    </tr>\n",
       "    <tr>\n",
       "      <th>loan_status</th>\n",
       "      <th></th>\n",
       "      <th></th>\n",
       "      <th></th>\n",
       "      <th></th>\n",
       "      <th></th>\n",
       "      <th></th>\n",
       "      <th></th>\n",
       "      <th></th>\n",
       "      <th></th>\n",
       "      <th></th>\n",
       "      <th></th>\n",
       "      <th></th>\n",
       "      <th></th>\n",
       "      <th></th>\n",
       "      <th></th>\n",
       "      <th></th>\n",
       "      <th></th>\n",
       "      <th></th>\n",
       "      <th></th>\n",
       "      <th></th>\n",
       "      <th></th>\n",
       "    </tr>\n",
       "  </thead>\n",
       "  <tbody>\n",
       "    <tr>\n",
       "      <td>Charged Off</td>\n",
       "      <td>6123</td>\n",
       "      <td>6123</td>\n",
       "      <td>6123</td>\n",
       "      <td>6123</td>\n",
       "      <td>6123</td>\n",
       "      <td>6123</td>\n",
       "      <td>6123</td>\n",
       "      <td>6123</td>\n",
       "      <td>6123</td>\n",
       "      <td>6123</td>\n",
       "      <td>...</td>\n",
       "      <td>6123</td>\n",
       "      <td>6123</td>\n",
       "      <td>6123</td>\n",
       "      <td>6123</td>\n",
       "      <td>6123</td>\n",
       "      <td>6123</td>\n",
       "      <td>6123</td>\n",
       "      <td>6123</td>\n",
       "      <td>6123</td>\n",
       "      <td>6123</td>\n",
       "    </tr>\n",
       "    <tr>\n",
       "      <td>Fully Paid</td>\n",
       "      <td>35734</td>\n",
       "      <td>35734</td>\n",
       "      <td>35734</td>\n",
       "      <td>35734</td>\n",
       "      <td>35734</td>\n",
       "      <td>35734</td>\n",
       "      <td>35734</td>\n",
       "      <td>35734</td>\n",
       "      <td>35734</td>\n",
       "      <td>35734</td>\n",
       "      <td>...</td>\n",
       "      <td>35734</td>\n",
       "      <td>35734</td>\n",
       "      <td>35734</td>\n",
       "      <td>35734</td>\n",
       "      <td>35734</td>\n",
       "      <td>35734</td>\n",
       "      <td>35734</td>\n",
       "      <td>35734</td>\n",
       "      <td>35734</td>\n",
       "      <td>35734</td>\n",
       "    </tr>\n",
       "  </tbody>\n",
       "</table>\n",
       "<p>2 rows × 21 columns</p>\n",
       "</div>"
      ],
      "text/plain": [
       "             funded_amnt  delinq_2yrs  time_since_last_payment  recoveries  \\\n",
       "loan_status                                                                  \n",
       "Charged Off         6123         6123                     6123        6123   \n",
       "Fully Paid         35734        35734                    35734       35734   \n",
       "\n",
       "             total_pymnt  delinq_amnt  total_rec_late_fee  total_rec_prncp  \\\n",
       "loan_status                                                                  \n",
       "Charged Off         6123         6123                6123             6123   \n",
       "Fully Paid         35734        35734               35734            35734   \n",
       "\n",
       "             time_since_last_credit_pull  cred_length  ...   rate  int_rate  \\\n",
       "loan_status                                            ...                    \n",
       "Charged Off                         6123         6123  ...   6123      6123   \n",
       "Fully Paid                         35734        35734  ...  35734     35734   \n",
       "\n",
       "             pub_rec  last_pymnt_amnt  pub_rec_bankruptcies  annual_inc  \\\n",
       "loan_status                                                               \n",
       "Charged Off     6123             6123                  6123        6123   \n",
       "Fully Paid     35734            35734                 35734       35734   \n",
       "\n",
       "             debt_settlement_flag   term  grade  verification_status  \n",
       "loan_status                                                           \n",
       "Charged Off                  6123   6123   6123                 6123  \n",
       "Fully Paid                  35734  35734  35734                35734  \n",
       "\n",
       "[2 rows x 21 columns]"
      ]
     },
     "execution_count": 102,
     "metadata": {},
     "output_type": "execute_result"
    }
   ],
   "source": [
    "df1_core.groupby(df1_core.loan_status).count()"
   ]
  },
  {
   "cell_type": "code",
   "execution_count": 69,
   "metadata": {},
   "outputs": [
    {
     "data": {
      "text/plain": [
       "0.8423045806759097"
      ]
     },
     "execution_count": 69,
     "metadata": {},
     "output_type": "execute_result"
    }
   ],
   "source": [
    "df1_core.pub_rec.corr(df1_core.pub_rec_bankruptcies)"
   ]
  },
  {
   "cell_type": "code",
   "execution_count": 137,
   "metadata": {},
   "outputs": [
    {
     "name": "stderr",
     "output_type": "stream",
     "text": [
      "C:\\Users\\Zhongyi Zhang\\Anaconda3\\lib\\site-packages\\pandas\\core\\generic.py:5208: SettingWithCopyWarning: \n",
      "A value is trying to be set on a copy of a slice from a DataFrame.\n",
      "Try using .loc[row_indexer,col_indexer] = value instead\n",
      "\n",
      "See the caveats in the documentation: http://pandas.pydata.org/pandas-docs/stable/user_guide/indexing.html#returning-a-view-versus-a-copy\n",
      "  self[name] = value\n"
     ]
    }
   ],
   "source": [
    "df1_core.loan_status = df1_core.loan_status.apply(lambda x: 1 if x =='Fully Paid' else 0)"
   ]
  },
  {
   "cell_type": "code",
   "execution_count": 139,
   "metadata": {},
   "outputs": [
    {
     "data": {
      "text/html": [
       "<div>\n",
       "<style scoped>\n",
       "    .dataframe tbody tr th:only-of-type {\n",
       "        vertical-align: middle;\n",
       "    }\n",
       "\n",
       "    .dataframe tbody tr th {\n",
       "        vertical-align: top;\n",
       "    }\n",
       "\n",
       "    .dataframe thead th {\n",
       "        text-align: right;\n",
       "    }\n",
       "</style>\n",
       "<table border=\"1\" class=\"dataframe\">\n",
       "  <thead>\n",
       "    <tr style=\"text-align: right;\">\n",
       "      <th></th>\n",
       "      <th>loan_status</th>\n",
       "      <th>funded_amnt</th>\n",
       "      <th>delinq_2yrs</th>\n",
       "      <th>time_since_last_payment</th>\n",
       "      <th>recoveries</th>\n",
       "      <th>total_pymnt</th>\n",
       "      <th>delinq_amnt</th>\n",
       "      <th>total_rec_late_fee</th>\n",
       "      <th>total_rec_prncp</th>\n",
       "      <th>time_since_last_credit_pull</th>\n",
       "      <th>...</th>\n",
       "      <th>grade_A</th>\n",
       "      <th>grade_B</th>\n",
       "      <th>grade_C</th>\n",
       "      <th>grade_D</th>\n",
       "      <th>grade_E</th>\n",
       "      <th>grade_F</th>\n",
       "      <th>grade_G</th>\n",
       "      <th>verification_status_Not Verified</th>\n",
       "      <th>verification_status_Source Verified</th>\n",
       "      <th>verification_status_Verified</th>\n",
       "    </tr>\n",
       "    <tr>\n",
       "      <th>loan_status</th>\n",
       "      <th></th>\n",
       "      <th></th>\n",
       "      <th></th>\n",
       "      <th></th>\n",
       "      <th></th>\n",
       "      <th></th>\n",
       "      <th></th>\n",
       "      <th></th>\n",
       "      <th></th>\n",
       "      <th></th>\n",
       "      <th></th>\n",
       "      <th></th>\n",
       "      <th></th>\n",
       "      <th></th>\n",
       "      <th></th>\n",
       "      <th></th>\n",
       "      <th></th>\n",
       "      <th></th>\n",
       "      <th></th>\n",
       "      <th></th>\n",
       "      <th></th>\n",
       "    </tr>\n",
       "  </thead>\n",
       "  <tbody>\n",
       "    <tr>\n",
       "      <td>0</td>\n",
       "      <td>6123</td>\n",
       "      <td>6123</td>\n",
       "      <td>6123</td>\n",
       "      <td>6123</td>\n",
       "      <td>6123</td>\n",
       "      <td>6123</td>\n",
       "      <td>6123</td>\n",
       "      <td>6123</td>\n",
       "      <td>6123</td>\n",
       "      <td>6123</td>\n",
       "      <td>...</td>\n",
       "      <td>6123</td>\n",
       "      <td>6123</td>\n",
       "      <td>6123</td>\n",
       "      <td>6123</td>\n",
       "      <td>6123</td>\n",
       "      <td>6123</td>\n",
       "      <td>6123</td>\n",
       "      <td>6123</td>\n",
       "      <td>6123</td>\n",
       "      <td>6123</td>\n",
       "    </tr>\n",
       "    <tr>\n",
       "      <td>1</td>\n",
       "      <td>35734</td>\n",
       "      <td>35734</td>\n",
       "      <td>35734</td>\n",
       "      <td>35734</td>\n",
       "      <td>35734</td>\n",
       "      <td>35734</td>\n",
       "      <td>35734</td>\n",
       "      <td>35734</td>\n",
       "      <td>35734</td>\n",
       "      <td>35734</td>\n",
       "      <td>...</td>\n",
       "      <td>35734</td>\n",
       "      <td>35734</td>\n",
       "      <td>35734</td>\n",
       "      <td>35734</td>\n",
       "      <td>35734</td>\n",
       "      <td>35734</td>\n",
       "      <td>35734</td>\n",
       "      <td>35734</td>\n",
       "      <td>35734</td>\n",
       "      <td>35734</td>\n",
       "    </tr>\n",
       "  </tbody>\n",
       "</table>\n",
       "<p>2 rows × 32 columns</p>\n",
       "</div>"
      ],
      "text/plain": [
       "             loan_status  funded_amnt  delinq_2yrs  time_since_last_payment  \\\n",
       "loan_status                                                                   \n",
       "0                   6123         6123         6123                     6123   \n",
       "1                  35734        35734        35734                    35734   \n",
       "\n",
       "             recoveries  total_pymnt  delinq_amnt  total_rec_late_fee  \\\n",
       "loan_status                                                             \n",
       "0                  6123         6123         6123                6123   \n",
       "1                 35734        35734        35734               35734   \n",
       "\n",
       "             total_rec_prncp  time_since_last_credit_pull  ...  grade_A  \\\n",
       "loan_status                                                ...            \n",
       "0                       6123                         6123  ...     6123   \n",
       "1                      35734                        35734  ...    35734   \n",
       "\n",
       "             grade_B  grade_C  grade_D  grade_E  grade_F  grade_G  \\\n",
       "loan_status                                                         \n",
       "0               6123     6123     6123     6123     6123     6123   \n",
       "1              35734    35734    35734    35734    35734    35734   \n",
       "\n",
       "             verification_status_Not Verified  \\\n",
       "loan_status                                     \n",
       "0                                        6123   \n",
       "1                                       35734   \n",
       "\n",
       "             verification_status_Source Verified  verification_status_Verified  \n",
       "loan_status                                                                     \n",
       "0                                           6123                          6123  \n",
       "1                                          35734                         35734  \n",
       "\n",
       "[2 rows x 32 columns]"
      ]
     },
     "execution_count": 139,
     "metadata": {},
     "output_type": "execute_result"
    }
   ],
   "source": [
    "df1_core.groupby(df1_core.loan_status).count()"
   ]
  },
  {
   "cell_type": "code",
   "execution_count": 140,
   "metadata": {},
   "outputs": [],
   "source": [
    "X = df1_core.iloc[:, 1:]\n",
    "y = df1_core.loan_status\n",
    "X_train, X_test, y_train, y_test = train_test_split(X, y, test_size = 0.3, random_state = 3)"
   ]
  },
  {
   "cell_type": "code",
   "execution_count": 124,
   "metadata": {},
   "outputs": [
    {
     "name": "stderr",
     "output_type": "stream",
     "text": [
      "C:\\Users\\Zhongyi Zhang\\Anaconda3\\lib\\site-packages\\sklearn\\linear_model\\logistic.py:432: FutureWarning: Default solver will be changed to 'lbfgs' in 0.22. Specify a solver to silence this warning.\n",
      "  FutureWarning)\n",
      "C:\\Users\\Zhongyi Zhang\\Anaconda3\\lib\\site-packages\\sklearn\\linear_model\\logistic.py:432: FutureWarning: Default solver will be changed to 'lbfgs' in 0.22. Specify a solver to silence this warning.\n",
      "  FutureWarning)\n",
      "C:\\Users\\Zhongyi Zhang\\Anaconda3\\lib\\site-packages\\sklearn\\linear_model\\logistic.py:432: FutureWarning: Default solver will be changed to 'lbfgs' in 0.22. Specify a solver to silence this warning.\n",
      "  FutureWarning)\n",
      "C:\\Users\\Zhongyi Zhang\\Anaconda3\\lib\\site-packages\\sklearn\\linear_model\\logistic.py:432: FutureWarning: Default solver will be changed to 'lbfgs' in 0.22. Specify a solver to silence this warning.\n",
      "  FutureWarning)\n",
      "C:\\Users\\Zhongyi Zhang\\Anaconda3\\lib\\site-packages\\sklearn\\linear_model\\logistic.py:432: FutureWarning: Default solver will be changed to 'lbfgs' in 0.22. Specify a solver to silence this warning.\n",
      "  FutureWarning)\n",
      "C:\\Users\\Zhongyi Zhang\\Anaconda3\\lib\\site-packages\\sklearn\\linear_model\\logistic.py:432: FutureWarning: Default solver will be changed to 'lbfgs' in 0.22. Specify a solver to silence this warning.\n",
      "  FutureWarning)\n",
      "C:\\Users\\Zhongyi Zhang\\Anaconda3\\lib\\site-packages\\sklearn\\linear_model\\logistic.py:432: FutureWarning: Default solver will be changed to 'lbfgs' in 0.22. Specify a solver to silence this warning.\n",
      "  FutureWarning)\n",
      "C:\\Users\\Zhongyi Zhang\\Anaconda3\\lib\\site-packages\\sklearn\\linear_model\\logistic.py:432: FutureWarning: Default solver will be changed to 'lbfgs' in 0.22. Specify a solver to silence this warning.\n",
      "  FutureWarning)\n",
      "C:\\Users\\Zhongyi Zhang\\Anaconda3\\lib\\site-packages\\sklearn\\linear_model\\logistic.py:432: FutureWarning: Default solver will be changed to 'lbfgs' in 0.22. Specify a solver to silence this warning.\n",
      "  FutureWarning)\n",
      "C:\\Users\\Zhongyi Zhang\\Anaconda3\\lib\\site-packages\\sklearn\\linear_model\\logistic.py:432: FutureWarning: Default solver will be changed to 'lbfgs' in 0.22. Specify a solver to silence this warning.\n",
      "  FutureWarning)\n",
      "C:\\Users\\Zhongyi Zhang\\Anaconda3\\lib\\site-packages\\sklearn\\linear_model\\logistic.py:432: FutureWarning: Default solver will be changed to 'lbfgs' in 0.22. Specify a solver to silence this warning.\n",
      "  FutureWarning)\n",
      "C:\\Users\\Zhongyi Zhang\\Anaconda3\\lib\\site-packages\\sklearn\\linear_model\\logistic.py:432: FutureWarning: Default solver will be changed to 'lbfgs' in 0.22. Specify a solver to silence this warning.\n",
      "  FutureWarning)\n",
      "C:\\Users\\Zhongyi Zhang\\Anaconda3\\lib\\site-packages\\sklearn\\linear_model\\logistic.py:432: FutureWarning: Default solver will be changed to 'lbfgs' in 0.22. Specify a solver to silence this warning.\n",
      "  FutureWarning)\n",
      "C:\\Users\\Zhongyi Zhang\\Anaconda3\\lib\\site-packages\\sklearn\\linear_model\\logistic.py:432: FutureWarning: Default solver will be changed to 'lbfgs' in 0.22. Specify a solver to silence this warning.\n",
      "  FutureWarning)\n",
      "C:\\Users\\Zhongyi Zhang\\Anaconda3\\lib\\site-packages\\sklearn\\linear_model\\logistic.py:432: FutureWarning: Default solver will be changed to 'lbfgs' in 0.22. Specify a solver to silence this warning.\n",
      "  FutureWarning)\n",
      "C:\\Users\\Zhongyi Zhang\\Anaconda3\\lib\\site-packages\\sklearn\\linear_model\\logistic.py:432: FutureWarning: Default solver will be changed to 'lbfgs' in 0.22. Specify a solver to silence this warning.\n",
      "  FutureWarning)\n",
      "C:\\Users\\Zhongyi Zhang\\Anaconda3\\lib\\site-packages\\sklearn\\linear_model\\logistic.py:432: FutureWarning: Default solver will be changed to 'lbfgs' in 0.22. Specify a solver to silence this warning.\n",
      "  FutureWarning)\n"
     ]
    }
   ],
   "source": [
    "from sklearn.feature_selection import RFE\n",
    "\n",
    "logreg = LogisticRegression()\n",
    "rfe = RFE(logreg)\n",
    "rfe = rfe.fit(X_train, y_train)"
   ]
  },
  {
   "cell_type": "code",
   "execution_count": 125,
   "metadata": {},
   "outputs": [
    {
     "name": "stdout",
     "output_type": "stream",
     "text": [
      "[ True False  True  True  True False  True  True  True  True  True  True\n",
      "  True False  True False False  True False  True False False False False\n",
      " False False False False  True False False]\n"
     ]
    }
   ],
   "source": [
    "print(rfe.support_)"
   ]
  },
  {
   "cell_type": "code",
   "execution_count": 126,
   "metadata": {},
   "outputs": [
    {
     "name": "stdout",
     "output_type": "stream",
     "text": [
      "[ 1  8  1  1  1 17  1  1  1  1  1  1  1  9  1 10  5  1 14  1 13  2  4  6\n",
      " 11 12 15 16  1  3  7]\n"
     ]
    }
   ],
   "source": [
    "print(rfe.ranking_)"
   ]
  },
  {
   "cell_type": "code",
   "execution_count": 129,
   "metadata": {},
   "outputs": [],
   "source": [
    "selected_columns = X_train.columns[rfe.support_]"
   ]
  },
  {
   "cell_type": "code",
   "execution_count": 164,
   "metadata": {
    "collapsed": true
   },
   "outputs": [],
   "source": [
    "X= X_train[selected_columns]\n",
    "y = y_train"
   ]
  },
  {
   "cell_type": "code",
   "execution_count": 165,
   "metadata": {},
   "outputs": [
    {
     "name": "stderr",
     "output_type": "stream",
     "text": [
      "C:\\Users\\Zhongyi Zhang\\Anaconda3\\lib\\site-packages\\pandas\\core\\frame.py:4102: SettingWithCopyWarning: \n",
      "A value is trying to be set on a copy of a slice from a DataFrame\n",
      "\n",
      "See the caveats in the documentation: http://pandas.pydata.org/pandas-docs/stable/user_guide/indexing.html#returning-a-view-versus-a-copy\n",
      "  errors=errors,\n"
     ]
    }
   ],
   "source": [
    "X.drop(['total_rec_prncp'], axis=1, inplace=True)"
   ]
  },
  {
   "cell_type": "markdown",
   "metadata": {},
   "source": [
    "log = LogisticRegression(penalty='l1', solver='saga')\n",
    "log.fit(X, y)"
   ]
  },
  {
   "cell_type": "code",
   "execution_count": 170,
   "metadata": {},
   "outputs": [
    {
     "name": "stderr",
     "output_type": "stream",
     "text": [
      "C:\\Users\\Zhongyi Zhang\\Anaconda3\\lib\\site-packages\\statsmodels\\discrete\\discrete_model.py:1736: RuntimeWarning: overflow encountered in exp\n",
      "  return 1/(1+np.exp(-X))\n"
     ]
    },
    {
     "name": "stdout",
     "output_type": "stream",
     "text": [
      "Warning: Maximum number of iterations has been exceeded.\n",
      "         Current function value: 0.001415\n",
      "         Iterations: 150\n"
     ]
    },
    {
     "name": "stderr",
     "output_type": "stream",
     "text": [
      "C:\\Users\\Zhongyi Zhang\\Anaconda3\\lib\\site-packages\\statsmodels\\base\\model.py:512: ConvergenceWarning: Maximum Likelihood optimization failed to converge. Check mle_retvals\n",
      "  \"Check mle_retvals\", ConvergenceWarning)\n"
     ]
    }
   ],
   "source": [
    "import statsmodels.api as sm\n",
    "logit_model = sm.Logit(y,X)\n",
    "result = logit_model.fit(maxiter=150)"
   ]
  },
  {
   "cell_type": "code",
   "execution_count": 171,
   "metadata": {},
   "outputs": [
    {
     "data": {
      "text/html": [
       "<table class=\"simpletable\">\n",
       "<tr>\n",
       "        <td>Model:</td>              <td>Logit</td>      <td>Pseudo R-squared:</td>   <td>0.997</td> \n",
       "</tr>\n",
       "<tr>\n",
       "  <td>Dependent Variable:</td>    <td>loan_status</td>         <td>AIC:</td>        <td>110.9194</td>\n",
       "</tr>\n",
       "<tr>\n",
       "         <td>Date:</td>        <td>2019-11-03 20:06</td>       <td>BIC:</td>        <td>226.9137</td>\n",
       "</tr>\n",
       "<tr>\n",
       "   <td>No. Observations:</td>        <td>29299</td>       <td>Log-Likelihood:</td>   <td>-41.460</td>\n",
       "</tr>\n",
       "<tr>\n",
       "       <td>Df Model:</td>             <td>13</td>            <td>LL-Null:</td>       <td>-12275.</td>\n",
       "</tr>\n",
       "<tr>\n",
       "     <td>Df Residuals:</td>          <td>29285</td>        <td>LLR p-value:</td>     <td>0.0000</td> \n",
       "</tr>\n",
       "<tr>\n",
       "      <td>Converged:</td>           <td>0.0000</td>           <td>Scale:</td>        <td>1.0000</td> \n",
       "</tr>\n",
       "<tr>\n",
       "    <td>No. Iterations:</td>       <td>150.0000</td>             <td></td>              <td></td>    \n",
       "</tr>\n",
       "</table>\n",
       "<table class=\"simpletable\">\n",
       "<tr>\n",
       "                  <td></td>                   <th>Coef.</th>   <th>Std.Err.</th>     <th>z</th>     <th>P>|z|</th>   <th>[0.025</th>    <th>0.975]</th>  \n",
       "</tr>\n",
       "<tr>\n",
       "  <th>funded_amnt</th>                       <td>-0.0044</td>   <td>0.0007</td>   <td>-6.4153</td> <td>0.0000</td>   <td>-0.0057</td>   <td>-0.0030</td> \n",
       "</tr>\n",
       "<tr>\n",
       "  <th>time_since_last_payment</th>           <td>0.0742</td>    <td>0.0243</td>   <td>3.0478</td>  <td>0.0023</td>   <td>0.0265</td>    <td>0.1219</td>  \n",
       "</tr>\n",
       "<tr>\n",
       "  <th>recoveries</th>                       <td>-287.8602</td> <td>3185.7796</td> <td>-0.0904</td> <td>0.9280</td> <td>-6531.8734</td> <td>5956.1530</td>\n",
       "</tr>\n",
       "<tr>\n",
       "  <th>total_pymnt</th>                       <td>0.0041</td>    <td>0.0007</td>   <td>6.1722</td>  <td>0.0000</td>   <td>0.0028</td>    <td>0.0053</td>  \n",
       "</tr>\n",
       "<tr>\n",
       "  <th>total_rec_late_fee</th>                <td>-0.0028</td>   <td>0.0885</td>   <td>-0.0315</td> <td>0.9748</td>   <td>-0.1763</td>   <td>0.1707</td>  \n",
       "</tr>\n",
       "<tr>\n",
       "  <th>time_since_last_credit_pull</th>       <td>0.0370</td>    <td>0.0178</td>   <td>2.0783</td>  <td>0.0377</td>   <td>0.0021</td>    <td>0.0718</td>  \n",
       "</tr>\n",
       "<tr>\n",
       "  <th>cred_length</th>                       <td>-0.0927</td>   <td>0.0449</td>   <td>-2.0662</td> <td>0.0388</td>   <td>-0.1807</td>   <td>-0.0048</td> \n",
       "</tr>\n",
       "<tr>\n",
       "  <th>inq_last_6mths</th>                    <td>0.1504</td>    <td>0.1720</td>   <td>0.8744</td>  <td>0.3819</td>   <td>-0.1867</td>   <td>0.4875</td>  \n",
       "</tr>\n",
       "<tr>\n",
       "  <th>rate</th>                              <td>0.0147</td>    <td>0.0132</td>   <td>1.1201</td>  <td>0.2627</td>   <td>-0.0110</td>   <td>0.0405</td>  \n",
       "</tr>\n",
       "<tr>\n",
       "  <th>int_rate</th>                          <td>-0.5432</td>   <td>0.1134</td>   <td>-4.7896</td> <td>0.0000</td>   <td>-0.7655</td>   <td>-0.3209</td> \n",
       "</tr>\n",
       "<tr>\n",
       "  <th>last_pymnt_amnt</th>                   <td>0.0014</td>    <td>0.0010</td>   <td>1.3674</td>  <td>0.1715</td>   <td>-0.0006</td>   <td>0.0033</td>  \n",
       "</tr>\n",
       "<tr>\n",
       "  <th>debt_settlement_flag_N</th>            <td>5.9971</td>    <td>1.6776</td>   <td>3.5748</td>  <td>0.0004</td>   <td>2.7091</td>    <td>9.2851</td>  \n",
       "</tr>\n",
       "<tr>\n",
       "  <th>term_ 36 months</th>                   <td>0.6968</td>    <td>0.8555</td>   <td>0.8144</td>  <td>0.4154</td>   <td>-0.9800</td>   <td>2.3736</td>  \n",
       "</tr>\n",
       "<tr>\n",
       "  <th>verification_status_Not Verified</th>  <td>-0.0925</td>   <td>0.8673</td>   <td>-0.1066</td> <td>0.9151</td>   <td>-1.7923</td>   <td>1.6073</td>  \n",
       "</tr>\n",
       "</table>"
      ],
      "text/plain": [
       "<class 'statsmodels.iolib.summary2.Summary'>\n",
       "\"\"\"\n",
       "                                     Results: Logit\n",
       "========================================================================================\n",
       "Model:                       Logit                    Pseudo R-squared:         0.997   \n",
       "Dependent Variable:          loan_status              AIC:                      110.9194\n",
       "Date:                        2019-11-03 20:06         BIC:                      226.9137\n",
       "No. Observations:            29299                    Log-Likelihood:           -41.460 \n",
       "Df Model:                    13                       LL-Null:                  -12275. \n",
       "Df Residuals:                29285                    LLR p-value:              0.0000  \n",
       "Converged:                   0.0000                   Scale:                    1.0000  \n",
       "No. Iterations:              150.0000                                                   \n",
       "----------------------------------------------------------------------------------------\n",
       "                                   Coef.    Std.Err.    z    P>|z|    [0.025     0.975] \n",
       "----------------------------------------------------------------------------------------\n",
       "funded_amnt                        -0.0044    0.0007 -6.4153 0.0000    -0.0057   -0.0030\n",
       "time_since_last_payment             0.0742    0.0243  3.0478 0.0023     0.0265    0.1219\n",
       "recoveries                       -287.8602 3185.7796 -0.0904 0.9280 -6531.8734 5956.1530\n",
       "total_pymnt                         0.0041    0.0007  6.1722 0.0000     0.0028    0.0053\n",
       "total_rec_late_fee                 -0.0028    0.0885 -0.0315 0.9748    -0.1763    0.1707\n",
       "time_since_last_credit_pull         0.0370    0.0178  2.0783 0.0377     0.0021    0.0718\n",
       "cred_length                        -0.0927    0.0449 -2.0662 0.0388    -0.1807   -0.0048\n",
       "inq_last_6mths                      0.1504    0.1720  0.8744 0.3819    -0.1867    0.4875\n",
       "rate                                0.0147    0.0132  1.1201 0.2627    -0.0110    0.0405\n",
       "int_rate                           -0.5432    0.1134 -4.7896 0.0000    -0.7655   -0.3209\n",
       "last_pymnt_amnt                     0.0014    0.0010  1.3674 0.1715    -0.0006    0.0033\n",
       "debt_settlement_flag_N              5.9971    1.6776  3.5748 0.0004     2.7091    9.2851\n",
       "term_ 36 months                     0.6968    0.8555  0.8144 0.4154    -0.9800    2.3736\n",
       "verification_status_Not Verified   -0.0925    0.8673 -0.1066 0.9151    -1.7923    1.6073\n",
       "========================================================================================\n",
       "\n",
       "\"\"\""
      ]
     },
     "execution_count": 171,
     "metadata": {},
     "output_type": "execute_result"
    }
   ],
   "source": [
    "result.summary2()"
   ]
  },
  {
   "cell_type": "code",
   "execution_count": 174,
   "metadata": {
    "collapsed": true
   },
   "outputs": [],
   "source": [
    "true_sig_cols = X.columns.difference(['recoveries', 'total_rec_late_fee', 'inq_last_6mths', 'rate', 'last_pymnt_amnt', 'term_ 36 months','verification_status_Not Verified'])"
   ]
  },
  {
   "cell_type": "code",
   "execution_count": 175,
   "metadata": {},
   "outputs": [
    {
     "name": "stdout",
     "output_type": "stream",
     "text": [
      "Optimization terminated successfully.\n",
      "         Current function value: 0.116576\n",
      "         Iterations 10\n",
      "                               Results: Logit\n",
      "============================================================================\n",
      "Model:                  Logit                Pseudo R-squared:     0.722    \n",
      "Dependent Variable:     loan_status          AIC:                  6845.1445\n",
      "Date:                   2019-11-03 20:12     BIC:                  6903.1417\n",
      "No. Observations:       29299                Log-Likelihood:       -3415.6  \n",
      "Df Model:               6                    LL-Null:              -12275.  \n",
      "Df Residuals:           29292                LLR p-value:          0.0000   \n",
      "Converged:              1.0000               Scale:                1.0000   \n",
      "No. Iterations:         10.0000                                             \n",
      "----------------------------------------------------------------------------\n",
      "                             Coef.  Std.Err.    z     P>|z|   [0.025  0.975]\n",
      "----------------------------------------------------------------------------\n",
      "cred_length                 -0.0357   0.0046  -7.7265 0.0000 -0.0448 -0.0266\n",
      "debt_settlement_flag_N       2.9475   0.1874  15.7308 0.0000  2.5803  3.3147\n",
      "funded_amnt                 -0.0023   0.0000 -50.0106 0.0000 -0.0023 -0.0022\n",
      "int_rate                    -0.3487   0.0101 -34.6496 0.0000 -0.3684 -0.3289\n",
      "time_since_last_credit_pull  0.0132   0.0012  10.6451 0.0000  0.0108  0.0157\n",
      "time_since_last_payment      0.0437   0.0021  20.3492 0.0000  0.0395  0.0479\n",
      "total_pymnt                  0.0021   0.0000  50.6843 0.0000  0.0020  0.0022\n",
      "============================================================================\n",
      "\n"
     ]
    }
   ],
   "source": [
    "X= X[true_sig_cols]\n",
    "logit_model = sm.Logit(y,X)\n",
    "result = logit_model.fit(maxiter=100)\n",
    "print(result.summary2())"
   ]
  },
  {
   "cell_type": "code",
   "execution_count": 181,
   "metadata": {},
   "outputs": [
    {
     "name": "stderr",
     "output_type": "stream",
     "text": [
      "C:\\Users\\Zhongyi Zhang\\Anaconda3\\lib\\site-packages\\sklearn\\linear_model\\logistic.py:432: FutureWarning: Default solver will be changed to 'lbfgs' in 0.22. Specify a solver to silence this warning.\n",
      "  FutureWarning)\n"
     ]
    },
    {
     "data": {
      "text/plain": [
       "LogisticRegression(C=1.0, class_weight=None, dual=False, fit_intercept=True,\n",
       "                   intercept_scaling=1, l1_ratio=None, max_iter=100,\n",
       "                   multi_class='warn', n_jobs=None, penalty='l2',\n",
       "                   random_state=None, solver='warn', tol=0.0001, verbose=0,\n",
       "                   warm_start=False)"
      ]
     },
     "execution_count": 181,
     "metadata": {},
     "output_type": "execute_result"
    }
   ],
   "source": [
    "X_test = X_test[true_sig_cols]\n",
    "logreg = LogisticRegression()\n",
    "logreg.fit(X, y)\n"
   ]
  },
  {
   "cell_type": "code",
   "execution_count": 182,
   "metadata": {},
   "outputs": [
    {
     "data": {
      "text/plain": [
       "0.9714126453256888"
      ]
     },
     "execution_count": 182,
     "metadata": {},
     "output_type": "execute_result"
    }
   ],
   "source": [
    "y_pred = logreg.predict(X_test)\n",
    "logreg.score(X_test, y_test)"
   ]
  },
  {
   "cell_type": "code",
   "execution_count": 183,
   "metadata": {},
   "outputs": [
    {
     "data": {
      "text/plain": [
       "array([[ 1473,   318],\n",
       "       [   41, 10726]], dtype=int64)"
      ]
     },
     "execution_count": 183,
     "metadata": {},
     "output_type": "execute_result"
    }
   ],
   "source": [
    "from sklearn.metrics import confusion_matrix\n",
    "confusion_matrix(y_test, y_pred)"
   ]
  },
  {
   "cell_type": "code",
   "execution_count": 184,
   "metadata": {},
   "outputs": [
    {
     "data": {
      "image/png": "[encoded data removed]",
      "text/plain": [
       "<Figure size 576x396 with 1 Axes>"
      ]
     },
     "metadata": {},
     "output_type": "display_data"
    }
   ],
   "source": [
    "from sklearn.metrics import roc_auc_score\n",
    "from sklearn.metrics import roc_curve\n",
    "logit_roc_auc = roc_auc_score(y_test, logreg.predict(X_test))\n",
    "fpr, tpr, thresholds = roc_curve(y_test, logreg.predict_proba(X_test)[:,1])\n",
    "plt.figure()\n",
    "plt.plot(fpr, tpr, label='Logistic Regression (area = %0.2f)' % logit_roc_auc)\n",
    "plt.plot([0, 1], [0, 1],'r--')\n",
    "plt.xlim([0.0, 1.0])\n",
    "plt.ylim([0.0, 1.05])\n",
    "plt.xlabel('False Positive Rate')\n",
    "plt.ylabel('True Positive Rate')\n",
    "plt.title('Receiver operating characteristic')\n",
    "plt.legend(loc=\"lower right\")\n",
    "plt.savefig('Log_ROC')\n",
    "plt.show()"
   ]
  },
  {
   "cell_type": "markdown",
   "metadata": {},
   "source": [
    "### now on the 2012-2013 dataset"
   ]
  },
  {
   "cell_type": "code",
   "execution_count": 185,
   "metadata": {
    "collapsed": true
   },
   "outputs": [],
   "source": [
    "df2['time_since_last_payment'] = df2.last_pymnt_d.apply(time_since_last_pull)"
   ]
  },
  {
   "cell_type": "code",
   "execution_count": 186,
   "metadata": {
    "collapsed": true
   },
   "outputs": [],
   "source": [
    "df2['time_since_last_credit_pull'] = df2.last_credit_pull_d.apply(time_since_last_pull)"
   ]
  },
  {
   "cell_type": "code",
   "execution_count": 188,
   "metadata": {
    "collapsed": true
   },
   "outputs": [],
   "source": [
    "df2['cred_length'] = df2.earliest_cr_line.apply(credit_date_to_time)"
   ]
  },
  {
   "cell_type": "code",
   "execution_count": 190,
   "metadata": {},
   "outputs": [],
   "source": [
    "df2.int_rate = df2.int_rate.apply(lambda x: float(str(x)[:4]))"
   ]
  },
  {
   "cell_type": "code",
   "execution_count": 197,
   "metadata": {},
   "outputs": [],
   "source": [
    "feat = 'debt_settlement_flag'\n",
    "cat_list = 'var'+ \"_\"+ feat\n",
    "cat_list = pd.get_dummies(df2[feat], prefix=feat)\n",
    "#df1_2 = df1_core.join(cat_list)\n",
    "df2 = df2.join(cat_list)"
   ]
  },
  {
   "cell_type": "code",
   "execution_count": 205,
   "metadata": {},
   "outputs": [
    {
     "data": {
      "text/plain": [
       "Index(['verification_status', 'total_rec_int', 'delinq_2yrs',\n",
       "       'last_credit_pull_d', 'tax_liens', 'collection_recovery_fee',\n",
       "       'last_pymnt_d', 'home_ownership', 'inq_last_6mths', 'acc_now_delinq',\n",
       "       'total_rec_late_fee', 'debt_settlement_flag', 'zip_code', 'grade',\n",
       "       'open_acc', 'total_pymnt_inv', 'dti', 'delinq_amnt', 'total_acc',\n",
       "       'earliest_cr_line', 'loan_status', 'pub_rec', 'term', 'annual_inc',\n",
       "       'total_rec_prncp', 'funded_amnt_inv', 'rate', 'total_pymnt', 'int_rate',\n",
       "       'loan_amnt', 'installment', 'pub_rec_bankruptcies', 'funded_amnt',\n",
       "       'recoveries', 'emp_length', 'amount', 'last_pymnt_amnt', 'sub_grade',\n",
       "       'time_since_last_payment', 'time_since_last_credit_pull', 'cred_length',\n",
       "       'verification_status_N', 'verification_status_Y',\n",
       "       'debt_settlement_flag_N', 'debt_settlement_flag_Y'],\n",
       "      dtype='object')"
      ]
     },
     "execution_count": 205,
     "metadata": {},
     "output_type": "execute_result"
    }
   ],
   "source": [
    "df2.columns"
   ]
  },
  {
   "cell_type": "code",
   "execution_count": 209,
   "metadata": {},
   "outputs": [],
   "source": [
    "test_columns = list(true_sig_cols) +['loan_status']\n",
    "Test2 = df2[test_columns].dropna()\n",
    "X_test2 = Test2[true_sig_cols]\n",
    "y_test2 = Test2.loan_status.apply(lambda x: 1 if x =='Fully Paid' else 0)"
   ]
  },
  {
   "cell_type": "code",
   "execution_count": 213,
   "metadata": {},
   "outputs": [
    {
     "data": {
      "text/plain": [
       "0.929074611923099"
      ]
     },
     "execution_count": 213,
     "metadata": {},
     "output_type": "execute_result"
    }
   ],
   "source": [
    "logreg.score(X_test2, y_test2)"
   ]
  },
  {
   "cell_type": "code",
   "execution_count": 211,
   "metadata": {},
   "outputs": [
    {
     "data": {
      "text/plain": [
       "array([[ 27514,   2586],\n",
       "       [ 11016, 150663]], dtype=int64)"
      ]
     },
     "execution_count": 211,
     "metadata": {},
     "output_type": "execute_result"
    }
   ],
   "source": [
    "y_pred2 = logreg.predict(X_test2)\n",
    "confusion_matrix(y_test2, y_pred2)"
   ]
  },
  {
   "cell_type": "code",
   "execution_count": 212,
   "metadata": {
    "scrolled": false
   },
   "outputs": [
    {
     "data": {
      "image/png": "[encoded data removed]",
      "text/plain": [
       "<Figure size 576x396 with 1 Axes>"
      ]
     },
     "metadata": {},
     "output_type": "display_data"
    }
   ],
   "source": [
    "logit_roc_auc = roc_auc_score(y_test2, logreg.predict(X_test2))\n",
    "fpr, tpr, thresholds = roc_curve(y_test2, logreg.predict_proba(X_test2)[:,1])\n",
    "plt.figure()\n",
    "plt.plot(fpr, tpr, label='Logistic Regression (area = %0.2f)' % logit_roc_auc)\n",
    "plt.plot([0, 1], [0, 1],'r--')\n",
    "plt.xlim([0.0, 1.0])\n",
    "plt.ylim([0.0, 1.05])\n",
    "plt.xlabel('False Positive Rate')\n",
    "plt.ylabel('True Positive Rate')\n",
    "plt.title('ROC for 2012-2013')\n",
    "plt.legend(loc=\"lower right\")\n",
    "plt.savefig('Log_ROC')\n",
    "plt.show()"
   ]
  },
  {
   "cell_type": "code",
   "execution_count": 219,
   "metadata": {
    "collapsed": true
   },
   "outputs": [],
   "source": [
    "from sklearn.metrics import accuracy_score"
   ]
  },
  {
   "cell_type": "code",
   "execution_count": 220,
   "metadata": {
    "scrolled": true
   },
   "outputs": [
    {
     "name": "stdout",
     "output_type": "stream",
     "text": [
      "\n",
      "******** For i = 0.05 ******\n"
     ]
    },
    {
     "name": "stderr",
     "output_type": "stream",
     "text": [
      "C:\\Users\\Zhongyi Zhang\\Anaconda3\\lib\\site-packages\\ipykernel_launcher.py:6: FutureWarning: Method .as_matrix will be removed in a future version. Use .values instead.\n",
      "  \n",
      "C:\\Users\\Zhongyi Zhang\\Anaconda3\\lib\\site-packages\\ipykernel_launcher.py:7: FutureWarning: Method .as_matrix will be removed in a future version. Use .values instead.\n",
      "  import sys\n",
      "C:\\Users\\Zhongyi Zhang\\Anaconda3\\lib\\site-packages\\ipykernel_launcher.py:10: FutureWarning: Method .as_matrix will be removed in a future version. Use .values instead.\n",
      "  # Remove the CWD from sys.path while we load stuff.\n",
      "C:\\Users\\Zhongyi Zhang\\Anaconda3\\lib\\site-packages\\ipykernel_launcher.py:11: FutureWarning: Method .as_matrix will be removed in a future version. Use .values instead.\n",
      "  # This is added back by InteractiveShellApp.init_path()\n"
     ]
    },
    {
     "name": "stdout",
     "output_type": "stream",
     "text": [
      "Our testing accuracy is 0.9675459774010711\n",
      "[[ 24402   5698]\n",
      " [   526 161153]]\n",
      "\n",
      "******** For i = 0.1 ******\n",
      "Our testing accuracy is 0.9694700671084947\n",
      "[[ 25322   4778]\n",
      " [  1077 160602]]\n",
      "\n",
      "******** For i = 0.15 ******\n",
      "Our testing accuracy is 0.9683750567058959\n",
      "[[ 25852   4248]\n",
      " [  1817 159862]]\n",
      "\n",
      "******** For i = 0.2 ******\n",
      "Our testing accuracy is 0.9658148180979148\n",
      "[[ 26241   3859]\n",
      " [  2697 158982]]\n",
      "\n",
      "******** For i = 0.25 ******\n",
      "Our testing accuracy is 0.9622325697808415\n",
      "[[ 26546   3554]\n",
      " [  3689 157990]]\n",
      "\n",
      "******** For i = 0.3 ******\n",
      "Our testing accuracy is 0.9578368851646948\n",
      "[[ 26795   3305]\n",
      " [  4781 156898]]\n",
      "\n",
      "******** For i = 0.35 ******\n",
      "Our testing accuracy is 0.9525860495674708\n",
      "[[ 27016   3084]\n",
      " [  6009 155670]]\n",
      "\n",
      "******** For i = 0.4 ******\n",
      "Our testing accuracy is 0.9460420588281303\n",
      "[[ 27179   2921]\n",
      " [  7427 154252]]\n",
      "\n",
      "******** For i = 0.45 ******\n",
      "Our testing accuracy is 0.9379702678604018\n",
      "[[ 27362   2738]\n",
      " [  9158 152521]]\n",
      "\n",
      "******** For i = 0.5 ******\n",
      "Our testing accuracy is 0.929074611923099\n",
      "[[ 27514   2586]\n",
      " [ 11016 150663]]\n",
      "\n",
      "******** For i = 0.55 ******\n",
      "Our testing accuracy is 0.9177125754123235\n",
      "[[ 27643   2457]\n",
      " [ 13324 148355]]\n",
      "\n",
      "******** For i = 0.6 ******\n",
      "Our testing accuracy is 0.9043117338186142\n",
      "[[ 27784   2316]\n",
      " [ 16035 145644]]\n",
      "\n",
      "******** For i = 0.65 ******\n",
      "Our testing accuracy is 0.8862284191699821\n",
      "[[ 27924   2176]\n",
      " [ 19643 142036]]\n",
      "\n",
      "******** For i = 0.7 ******\n",
      "Our testing accuracy is 0.8632957727384124\n",
      "[[ 28058   2042]\n",
      " [ 24175 137504]]\n",
      "\n",
      "******** For i = 0.75 ******\n",
      "Our testing accuracy is 0.8310607522200032\n",
      "[[ 28183   1917]\n",
      " [ 30482 131197]]\n",
      "\n",
      "******** For i = 0.8 ******\n",
      "Our testing accuracy is 0.7863738991234702\n",
      "[[ 28326   1774]\n",
      " [ 39195 122484]]\n",
      "\n",
      "******** For i = 0.85 ******\n",
      "Our testing accuracy is 0.7209444204005653\n",
      "[[ 28484   1616]\n",
      " [ 51901 109778]]\n",
      "\n",
      "******** For i = 0.9 ******\n",
      "Our testing accuracy is 0.630105486002117\n",
      "[[28612  1488]\n",
      " [69450 92229]]\n",
      "\n",
      "******** For i = 0.95 ******\n",
      "Our testing accuracy is 0.5042887907435121\n",
      "[[28789  1311]\n",
      " [93756 67923]]\n",
      "\n",
      "******** For i = 0.99 ******\n",
      "Our testing accuracy is 0.3692218647505723\n",
      "[[ 29090   1010]\n",
      " [119960  41719]]\n"
     ]
    }
   ],
   "source": [
    "pred_proba_df = pd.DataFrame(logreg.predict_proba(X_test2))\n",
    "threshold_list = [0.05,0.1,0.15,0.2,0.25,0.3,0.35,0.4,0.45,0.5,0.55,0.6,0.65,.7,.75,.8,.85,.9,.95,.99]\n",
    "for i in threshold_list:\n",
    "    print ('\\n******** For i = {} ******'.format(i))\n",
    "    Y_test_pred = pred_proba_df.applymap(lambda x: 1 if x>i else 0)\n",
    "    test_accuracy = accuracy_score(y_test2.as_matrix().reshape(y_test2.as_matrix().size,1),\n",
    "                                           Y_test_pred.iloc[:,1].as_matrix().reshape(Y_test_pred.iloc[:,1].as_matrix().size,1))\n",
    "    print('Our testing accuracy is {}'.format(test_accuracy))\n",
    "\n",
    "    print(confusion_matrix(y_test2.as_matrix().reshape(y_test2.as_matrix().size,1),\n",
    "                           Y_test_pred.iloc[:,1].as_matrix().reshape(Y_test_pred.iloc[:,1].as_matrix().size,1)))"
   ]
  },
  {
   "cell_type": "code",
   "execution_count": 235,
   "metadata": {
    "collapsed": true
   },
   "outputs": [],
   "source": [
    "Y_probs = logreg.predict_proba(X_test2)"
   ]
  },
  {
   "cell_type": "code",
   "execution_count": 280,
   "metadata": {},
   "outputs": [
    {
     "data": {
      "text/plain": [
       "[44,\n",
       " 286,\n",
       " 466,\n",
       " 488,\n",
       " 583,\n",
       " 727,\n",
       " 729,\n",
       " 842,\n",
       " 912,\n",
       " 1061,\n",
       " 1080,\n",
       " 1285,\n",
       " 1335,\n",
       " 1368,\n",
       " 1435,\n",
       " 1595,\n",
       " 1624,\n",
       " 1683,\n",
       " 1698,\n",
       " 1738,\n",
       " 2391,\n",
       " 2488,\n",
       " 2515,\n",
       " 2730,\n",
       " 2937,\n",
       " 3033,\n",
       " 3263,\n",
       " 3299,\n",
       " 3392,\n",
       " 3399,\n",
       " 3494,\n",
       " 3609,\n",
       " 3803,\n",
       " 3866,\n",
       " 3872,\n",
       " 4062,\n",
       " 4336,\n",
       " 4432,\n",
       " 4475,\n",
       " 4617,\n",
       " 4683,\n",
       " 4754,\n",
       " 4824,\n",
       " 4990,\n",
       " 5054,\n",
       " 5133,\n",
       " 5433,\n",
       " 5599,\n",
       " 5666,\n",
       " 5729,\n",
       " 5851,\n",
       " 5989,\n",
       " 6617,\n",
       " 6665,\n",
       " 6709,\n",
       " 6964,\n",
       " 7043,\n",
       " 7061,\n",
       " 7074,\n",
       " 7076,\n",
       " 7077,\n",
       " 7130,\n",
       " 7333,\n",
       " 7348,\n",
       " 7726,\n",
       " 7964,\n",
       " 8051,\n",
       " 8133,\n",
       " 8140,\n",
       " 8147,\n",
       " 8290,\n",
       " 8434,\n",
       " 8607,\n",
       " 8614,\n",
       " 9060,\n",
       " 9166,\n",
       " 9223,\n",
       " 9258,\n",
       " 9462,\n",
       " 9488,\n",
       " 9846,\n",
       " 9894,\n",
       " 9920,\n",
       " 10093,\n",
       " 10108,\n",
       " 10254,\n",
       " 10345,\n",
       " 10388,\n",
       " 10443,\n",
       " 10505,\n",
       " 10584,\n",
       " 10942,\n",
       " 10958,\n",
       " 11113,\n",
       " 11128,\n",
       " 11157,\n",
       " 11345,\n",
       " 11379,\n",
       " 11447,\n",
       " 11590,\n",
       " 11746,\n",
       " 11824,\n",
       " 11885,\n",
       " 12115,\n",
       " 12240,\n",
       " 12773,\n",
       " 12800,\n",
       " 12846,\n",
       " 12851,\n",
       " 12912,\n",
       " 13026,\n",
       " 13035,\n",
       " 13051,\n",
       " 13199,\n",
       " 13281,\n",
       " 13841,\n",
       " 13859,\n",
       " 14045,\n",
       " 14067,\n",
       " 14070,\n",
       " 14551,\n",
       " 14691,\n",
       " 14740,\n",
       " 14807,\n",
       " 14856,\n",
       " 15128,\n",
       " 15227,\n",
       " 15314,\n",
       " 15486,\n",
       " 15490,\n",
       " 15606,\n",
       " 15639,\n",
       " 15719,\n",
       " 15724,\n",
       " 15815,\n",
       " 15922,\n",
       " 15953,\n",
       " 15963,\n",
       " 15972,\n",
       " 15978,\n",
       " 16073,\n",
       " 16110,\n",
       " 16273,\n",
       " 16367,\n",
       " 16405,\n",
       " 16453,\n",
       " 16707,\n",
       " 16854,\n",
       " 16907,\n",
       " 17520,\n",
       " 17561,\n",
       " 17649,\n",
       " 17738,\n",
       " 17876,\n",
       " 18145,\n",
       " 18349,\n",
       " 18662,\n",
       " 18722,\n",
       " 18866,\n",
       " 18868,\n",
       " 18874,\n",
       " 19157,\n",
       " 19159,\n",
       " 19291,\n",
       " 19339,\n",
       " 19484,\n",
       " 19537,\n",
       " 19591,\n",
       " 19599,\n",
       " 19653,\n",
       " 19749,\n",
       " 19934,\n",
       " 20081,\n",
       " 20490,\n",
       " 20498,\n",
       " 20602,\n",
       " 21177,\n",
       " 21264,\n",
       " 21394,\n",
       " 21862,\n",
       " 21930,\n",
       " 21942,\n",
       " 22289,\n",
       " 22298,\n",
       " 22317,\n",
       " 22356,\n",
       " 22436,\n",
       " 22834,\n",
       " 22961,\n",
       " 23089,\n",
       " 23248,\n",
       " 23414,\n",
       " 23439,\n",
       " 23717,\n",
       " 23743,\n",
       " 23811,\n",
       " 23819,\n",
       " 23827,\n",
       " 23839,\n",
       " 23910,\n",
       " 23957,\n",
       " 24132,\n",
       " 24149,\n",
       " 24277,\n",
       " 24434,\n",
       " 24598,\n",
       " 24927,\n",
       " 25086,\n",
       " 25407,\n",
       " 25433,\n",
       " 25669,\n",
       " 25706,\n",
       " 25723,\n",
       " 25770,\n",
       " 25889,\n",
       " 25923,\n",
       " 26022,\n",
       " 26160,\n",
       " 26684,\n",
       " 26697,\n",
       " 26759,\n",
       " 27045,\n",
       " 27245,\n",
       " 27292,\n",
       " 27376,\n",
       " 27384,\n",
       " 27452,\n",
       " 27625,\n",
       " 27702,\n",
       " 27792,\n",
       " 27802,\n",
       " 27837,\n",
       " 27965,\n",
       " 28033,\n",
       " 28148,\n",
       " 28352,\n",
       " 28560,\n",
       " 28577,\n",
       " 28579,\n",
       " 28712,\n",
       " 28876,\n",
       " 28943,\n",
       " 28995,\n",
       " 29216,\n",
       " 29311,\n",
       " 29312,\n",
       " 29379,\n",
       " 29423,\n",
       " 29507,\n",
       " 29758,\n",
       " 29803,\n",
       " 30109,\n",
       " 30155,\n",
       " 30163,\n",
       " 30492,\n",
       " 30694,\n",
       " 30725,\n",
       " 31036,\n",
       " 31048,\n",
       " 31071,\n",
       " 31150,\n",
       " 31373,\n",
       " 31459,\n",
       " 31637,\n",
       " 31805,\n",
       " 31962,\n",
       " 32023,\n",
       " 32599,\n",
       " 32732,\n",
       " 32894,\n",
       " 33099,\n",
       " 33175,\n",
       " 33534,\n",
       " 33576,\n",
       " 33615,\n",
       " 33623,\n",
       " 33940,\n",
       " 33956,\n",
       " 34379,\n",
       " 34383,\n",
       " 34491,\n",
       " 34527,\n",
       " 34549,\n",
       " 34699,\n",
       " 34810,\n",
       " 34928,\n",
       " 34929,\n",
       " 35245,\n",
       " 35501,\n",
       " 35560,\n",
       " 35581,\n",
       " 35703,\n",
       " 35721,\n",
       " 35767,\n",
       " 35856,\n",
       " 36374,\n",
       " 36466,\n",
       " 36836,\n",
       " 36900,\n",
       " 37011,\n",
       " 37030,\n",
       " 37280,\n",
       " 37329,\n",
       " 37479,\n",
       " 37509,\n",
       " 37611,\n",
       " 37710,\n",
       " 37733,\n",
       " 37852,\n",
       " 38251,\n",
       " 38612,\n",
       " 38689,\n",
       " 38723,\n",
       " 38864,\n",
       " 38905,\n",
       " 38942,\n",
       " 38962,\n",
       " 38975,\n",
       " 39027,\n",
       " 39105,\n",
       " 39174,\n",
       " 39293,\n",
       " 39311,\n",
       " 39328,\n",
       " 39709,\n",
       " 39713,\n",
       " 39740,\n",
       " 39874,\n",
       " 39946,\n",
       " 40093,\n",
       " 40290,\n",
       " 40381,\n",
       " 40383,\n",
       " 40537,\n",
       " 40617,\n",
       " 40670,\n",
       " 41016,\n",
       " 41370,\n",
       " 41596,\n",
       " 41742,\n",
       " 41890,\n",
       " 41946,\n",
       " 42009,\n",
       " 42058,\n",
       " 42788,\n",
       " 42822,\n",
       " 42880,\n",
       " 43165,\n",
       " 43241,\n",
       " 43306,\n",
       " 43706,\n",
       " 43707,\n",
       " 43743,\n",
       " 43911,\n",
       " 43987,\n",
       " 43991,\n",
       " 44089,\n",
       " 44132,\n",
       " 44564,\n",
       " 44638,\n",
       " 44652,\n",
       " 44686,\n",
       " 44711,\n",
       " 44919,\n",
       " 45045,\n",
       " 45054,\n",
       " 45182,\n",
       " 45209,\n",
       " 45249,\n",
       " 45295,\n",
       " 45316,\n",
       " 45430,\n",
       " 45594,\n",
       " 45890,\n",
       " 45999,\n",
       " 46044,\n",
       " 46283,\n",
       " 46366,\n",
       " 46632,\n",
       " 46791,\n",
       " 46872,\n",
       " 46912,\n",
       " 46944,\n",
       " 47025,\n",
       " 47069,\n",
       " 47394,\n",
       " 47521,\n",
       " 47623,\n",
       " 47663,\n",
       " 47831,\n",
       " 48292,\n",
       " 48320,\n",
       " 48353,\n",
       " 48542,\n",
       " 48682,\n",
       " 48711,\n",
       " 48769,\n",
       " 48840,\n",
       " 49087,\n",
       " 49094,\n",
       " 49221,\n",
       " 49505,\n",
       " 49674,\n",
       " 49710,\n",
       " 49739,\n",
       " 49775,\n",
       " 49779,\n",
       " 49811,\n",
       " 49931,\n",
       " 49972,\n",
       " 50066,\n",
       " 50303,\n",
       " 50639,\n",
       " 50697,\n",
       " 50786,\n",
       " 50813,\n",
       " 50821,\n",
       " 50845,\n",
       " 50846,\n",
       " 50930,\n",
       " 51025,\n",
       " 51117,\n",
       " 51341,\n",
       " 51402,\n",
       " 51417,\n",
       " 51682,\n",
       " 51738,\n",
       " 51803,\n",
       " 51835,\n",
       " 51863,\n",
       " 51918,\n",
       " 51976,\n",
       " 51989,\n",
       " 52270,\n",
       " 52333,\n",
       " 52499,\n",
       " 52833,\n",
       " 52922,\n",
       " 52946,\n",
       " 53069,\n",
       " 53111,\n",
       " 53171,\n",
       " 53173,\n",
       " 53426,\n",
       " 53447,\n",
       " 53452,\n",
       " 53616,\n",
       " 53948,\n",
       " 54001,\n",
       " 54055,\n",
       " 54232,\n",
       " 54258,\n",
       " 54288,\n",
       " 54451,\n",
       " 54456,\n",
       " 54787,\n",
       " 54836,\n",
       " 54901,\n",
       " 55297,\n",
       " 55359,\n",
       " 55433,\n",
       " 55479,\n",
       " 55520,\n",
       " 55729,\n",
       " 55738,\n",
       " 55793,\n",
       " 55837,\n",
       " 56333,\n",
       " 56399,\n",
       " 56447,\n",
       " 56731,\n",
       " 56786,\n",
       " 57206,\n",
       " 57278,\n",
       " 57286,\n",
       " 57451,\n",
       " 57536,\n",
       " 57579,\n",
       " 57648,\n",
       " 57656,\n",
       " 57674,\n",
       " 57787,\n",
       " 57848,\n",
       " 57931,\n",
       " 57942,\n",
       " 58214,\n",
       " 58330,\n",
       " 58339,\n",
       " 58701,\n",
       " 58933,\n",
       " 59270,\n",
       " 59591,\n",
       " 59761,\n",
       " 59841,\n",
       " 59865,\n",
       " 59917,\n",
       " 60103,\n",
       " 60136,\n",
       " 60206,\n",
       " 60279,\n",
       " 60289,\n",
       " 60332,\n",
       " 60647,\n",
       " 60690,\n",
       " 61026,\n",
       " 61288,\n",
       " 61295,\n",
       " 61449,\n",
       " 61647,\n",
       " 61738,\n",
       " 61954,\n",
       " 61978,\n",
       " 62035,\n",
       " 62184,\n",
       " 62202,\n",
       " 62208,\n",
       " 62262,\n",
       " 62268,\n",
       " 62318,\n",
       " 62369,\n",
       " 62477,\n",
       " 62541,\n",
       " 63076,\n",
       " 63105,\n",
       " 63153,\n",
       " 63505,\n",
       " 63524,\n",
       " 63530,\n",
       " 63589,\n",
       " 63763,\n",
       " 63992,\n",
       " 64175,\n",
       " 64234,\n",
       " 64298,\n",
       " 64418,\n",
       " 64426,\n",
       " 64549,\n",
       " 64671,\n",
       " 64722,\n",
       " 64724,\n",
       " 64852,\n",
       " 64854,\n",
       " 65059,\n",
       " 65060,\n",
       " 65107,\n",
       " 65366,\n",
       " 65455,\n",
       " 66036,\n",
       " 66079,\n",
       " 66138,\n",
       " 66166,\n",
       " 66298,\n",
       " 66322,\n",
       " 66370,\n",
       " 66423,\n",
       " 66549,\n",
       " 66653,\n",
       " 66657,\n",
       " 66674,\n",
       " 66703,\n",
       " 66877,\n",
       " 66936,\n",
       " 67193,\n",
       " 67285,\n",
       " 67499,\n",
       " 67834,\n",
       " 67876,\n",
       " 67921,\n",
       " 68203,\n",
       " 68268,\n",
       " 68659,\n",
       " 68682,\n",
       " 68802,\n",
       " 68828,\n",
       " 68907,\n",
       " 68961,\n",
       " 69006,\n",
       " 69052,\n",
       " 69090,\n",
       " 69169,\n",
       " 69213,\n",
       " 69334,\n",
       " 69407,\n",
       " 69409,\n",
       " 69555,\n",
       " 69714,\n",
       " 69801,\n",
       " 70233,\n",
       " 70283,\n",
       " 70317,\n",
       " 70363,\n",
       " 70407,\n",
       " 70492,\n",
       " 70549,\n",
       " 70807,\n",
       " 70919,\n",
       " 70975,\n",
       " 71054,\n",
       " 71103,\n",
       " 71440,\n",
       " 71466,\n",
       " 71575,\n",
       " 71584,\n",
       " 71850,\n",
       " 72026,\n",
       " 72038,\n",
       " 72245,\n",
       " 72253,\n",
       " 72402,\n",
       " 72800,\n",
       " 72880,\n",
       " 73036,\n",
       " 73106,\n",
       " 73331,\n",
       " 73536,\n",
       " 73577,\n",
       " 73631,\n",
       " 73713,\n",
       " 73730,\n",
       " 73808,\n",
       " 74040,\n",
       " 74818,\n",
       " 74870,\n",
       " 74880,\n",
       " 74881,\n",
       " 74920,\n",
       " 75203,\n",
       " 75381,\n",
       " 75523,\n",
       " 75572,\n",
       " 75845,\n",
       " 76105,\n",
       " 76115,\n",
       " 76119,\n",
       " 76149,\n",
       " 76268,\n",
       " 76305,\n",
       " 76573,\n",
       " 76597,\n",
       " 77131,\n",
       " 77177,\n",
       " 77254,\n",
       " 77266,\n",
       " 77382,\n",
       " 77695,\n",
       " 77741,\n",
       " 77835,\n",
       " 77895,\n",
       " 77929,\n",
       " 77997,\n",
       " 77999,\n",
       " 78049,\n",
       " 78155,\n",
       " 78502,\n",
       " 78712,\n",
       " 78713,\n",
       " 78799,\n",
       " 78860,\n",
       " 79018,\n",
       " 79111,\n",
       " 79188,\n",
       " 79257,\n",
       " 79328,\n",
       " 79487,\n",
       " 79644,\n",
       " 79678,\n",
       " 79720,\n",
       " 79756,\n",
       " 79795,\n",
       " 79983,\n",
       " 80046,\n",
       " 80099,\n",
       " 80112,\n",
       " 80187,\n",
       " 80392,\n",
       " 80445,\n",
       " 80494,\n",
       " 80515,\n",
       " 80548,\n",
       " 80832,\n",
       " 80847,\n",
       " 81054,\n",
       " 81146,\n",
       " 81440,\n",
       " 81699,\n",
       " 81889,\n",
       " 82220,\n",
       " 82372,\n",
       " 82674,\n",
       " 82675,\n",
       " 82743,\n",
       " 82907,\n",
       " 82909,\n",
       " 82957,\n",
       " 82968,\n",
       " 83007,\n",
       " 83126,\n",
       " 83181,\n",
       " 83271,\n",
       " 83354,\n",
       " 83487,\n",
       " 83593,\n",
       " 83760,\n",
       " 83863,\n",
       " 84095,\n",
       " 84376,\n",
       " 84441,\n",
       " 84593,\n",
       " 84730,\n",
       " 84738,\n",
       " 84806,\n",
       " 84906,\n",
       " 85248,\n",
       " 85290,\n",
       " 85315,\n",
       " 85388,\n",
       " 85510,\n",
       " 85641,\n",
       " 85686,\n",
       " 85708,\n",
       " 85797,\n",
       " 86116,\n",
       " 86186,\n",
       " 86386,\n",
       " 86401,\n",
       " 86612,\n",
       " 86680,\n",
       " 86753,\n",
       " 86845,\n",
       " 86951,\n",
       " 87179,\n",
       " 87207,\n",
       " 87429,\n",
       " 87649,\n",
       " 87660,\n",
       " 87771,\n",
       " 87800,\n",
       " 87851,\n",
       " 87911,\n",
       " 88011,\n",
       " 88019,\n",
       " 88185,\n",
       " 88200,\n",
       " 88317,\n",
       " 88396,\n",
       " 88403,\n",
       " 88502,\n",
       " 88594,\n",
       " 88627,\n",
       " 89007,\n",
       " 89030,\n",
       " 89120,\n",
       " 89632,\n",
       " 89930,\n",
       " 90096,\n",
       " 90600,\n",
       " 90829,\n",
       " 90910,\n",
       " 91092,\n",
       " 91291,\n",
       " 91519,\n",
       " 91708,\n",
       " 92107,\n",
       " 92148,\n",
       " 92170,\n",
       " 92178,\n",
       " 92450,\n",
       " 92660,\n",
       " 92875,\n",
       " 92951,\n",
       " 93325,\n",
       " 93361,\n",
       " 93434,\n",
       " 93799,\n",
       " 94001,\n",
       " 94287,\n",
       " 94300,\n",
       " 94405,\n",
       " 94738,\n",
       " 95343,\n",
       " 95437,\n",
       " 95758,\n",
       " 96295,\n",
       " 96383,\n",
       " 96535,\n",
       " 96810,\n",
       " 96870,\n",
       " 97351,\n",
       " 97356,\n",
       " 98094,\n",
       " 98321,\n",
       " 98486,\n",
       " 98553,\n",
       " 98799,\n",
       " 98923,\n",
       " 99025,\n",
       " 99428,\n",
       " 99951,\n",
       " 99994,\n",
       " 100103,\n",
       " 100507,\n",
       " 100881,\n",
       " 102249,\n",
       " 102671,\n",
       " 103883,\n",
       " 104044,\n",
       " 104256,\n",
       " 104284,\n",
       " 104523,\n",
       " 104553,\n",
       " 104661,\n",
       " 104750,\n",
       " 105030,\n",
       " 105333,\n",
       " 105641,\n",
       " 105653,\n",
       " 106434,\n",
       " 107930,\n",
       " 108105,\n",
       " 108182,\n",
       " 108210,\n",
       " 108399,\n",
       " 108588,\n",
       " 108670,\n",
       " 108968,\n",
       " 109255,\n",
       " 109472,\n",
       " 109638,\n",
       " 109650,\n",
       " 109661,\n",
       " 109761,\n",
       " 109881,\n",
       " 109925,\n",
       " 110121,\n",
       " 110702,\n",
       " 110867,\n",
       " 111372,\n",
       " 111580,\n",
       " 111755,\n",
       " 112558,\n",
       " 112931,\n",
       " 113336,\n",
       " 113389,\n",
       " 114105,\n",
       " 114113,\n",
       " 114149,\n",
       " 114155,\n",
       " 114566,\n",
       " 114581,\n",
       " 114676,\n",
       " 115072,\n",
       " 115365,\n",
       " 115496,\n",
       " 116498,\n",
       " 116646,\n",
       " 116881,\n",
       " 117582,\n",
       " 118144,\n",
       " 118241,\n",
       " 118373,\n",
       " 119010,\n",
       " 119187,\n",
       " 119590,\n",
       " 120334,\n",
       " 121814,\n",
       " 121956,\n",
       " 122043,\n",
       " 122097,\n",
       " 122143,\n",
       " 122373,\n",
       " 122630,\n",
       " 122879,\n",
       " 122967,\n",
       " 123388,\n",
       " 123699,\n",
       " 124112,\n",
       " 124315,\n",
       " 124640,\n",
       " 124703,\n",
       " 124971,\n",
       " 125086,\n",
       " 125897,\n",
       " 126053,\n",
       " 126204,\n",
       " 126344,\n",
       " 126540,\n",
       " 126648,\n",
       " 127031,\n",
       " 127156,\n",
       " 127964,\n",
       " 128153,\n",
       " 129111,\n",
       " 130167,\n",
       " 130656,\n",
       " 131035,\n",
       " 131050,\n",
       " 131371,\n",
       " 131960,\n",
       " 132027,\n",
       " 132360,\n",
       " 132456,\n",
       " 133046,\n",
       " 133219,\n",
       " 133379,\n",
       " 133812,\n",
       " 133875,\n",
       " 134612,\n",
       " 134729,\n",
       " 134867,\n",
       " 134905,\n",
       " 135943,\n",
       " 136538,\n",
       " 136784,\n",
       " 136807,\n",
       " 137573,\n",
       " 137777,\n",
       " 138092,\n",
       " 138139,\n",
       " 138224,\n",
       " 138242,\n",
       " 138705,\n",
       " 139086,\n",
       " 139142,\n",
       " 139195,\n",
       " 139699,\n",
       " 139780,\n",
       " 140184,\n",
       " 140292,\n",
       " 140668,\n",
       " 140678,\n",
       " 140706,\n",
       " 140768,\n",
       " 141508,\n",
       " 141990,\n",
       " 142081,\n",
       " 142393,\n",
       " 142563,\n",
       " 142683,\n",
       " 143723,\n",
       " 144158,\n",
       " 144572,\n",
       " 144800,\n",
       " 145017,\n",
       " 145822,\n",
       " 146235,\n",
       " 146426,\n",
       " 146496,\n",
       " 146679,\n",
       " 147229,\n",
       " 147412,\n",
       " 147605,\n",
       " 147965,\n",
       " 149545,\n",
       " 149674,\n",
       " 150006,\n",
       " 150126,\n",
       " 150624,\n",
       " 151427,\n",
       " 151651,\n",
       " 152584,\n",
       " 152621,\n",
       " 153156,\n",
       " 153484,\n",
       " 153494,\n",
       " 153657,\n",
       " 153957,\n",
       " 154077,\n",
       " 155107,\n",
       " 155126,\n",
       " 155299,\n",
       " 155728,\n",
       " 156016,\n",
       " 156104,\n",
       " 156281,\n",
       " 156912,\n",
       " 156971,\n",
       " 158262,\n",
       " 159158,\n",
       " 159290,\n",
       " 159634,\n",
       " 159703,\n",
       " 159980,\n",
       " 160037,\n",
       " 160085,\n",
       " 160530,\n",
       " 160696,\n",
       " 161067,\n",
       " 161531,\n",
       " 161713,\n",
       " 162313,\n",
       " 162508,\n",
       " 162589,\n",
       " 162847,\n",
       " 162905,\n",
       " 163086,\n",
       " 163342,\n",
       " 164399,\n",
       " 165123,\n",
       " 165286,\n",
       " 165574,\n",
       " ...]"
      ]
     },
     "execution_count": 280,
     "metadata": {},
     "output_type": "execute_result"
    }
   ],
   "source": [
    "super_wrong_pred = []\n",
    "#Y_test_pred = pred_proba_df.applymap(lambda x: 1 if x>0.85 else 0)\n",
    "for i in range(len(y_test2)):\n",
    "    if Y_probs[i][0] > 0.99 and y_test2.reset_index().iloc[i,1]==1:\n",
    "        super_wrong_pred.append(i)\n",
    "super_wrong_pred"
   ]
  },
  {
   "cell_type": "code",
   "execution_count": 315,
   "metadata": {},
   "outputs": [
    {
     "data": {
      "text/html": [
       "<div>\n",
       "<style scoped>\n",
       "    .dataframe tbody tr th:only-of-type {\n",
       "        vertical-align: middle;\n",
       "    }\n",
       "\n",
       "    .dataframe tbody tr th {\n",
       "        vertical-align: top;\n",
       "    }\n",
       "\n",
       "    .dataframe thead th {\n",
       "        text-align: right;\n",
       "    }\n",
       "</style>\n",
       "<table border=\"1\" class=\"dataframe\">\n",
       "  <thead>\n",
       "    <tr style=\"text-align: right;\">\n",
       "      <th></th>\n",
       "      <th>cred_length</th>\n",
       "      <th>debt_settlement_flag_N</th>\n",
       "      <th>funded_amnt</th>\n",
       "      <th>int_rate</th>\n",
       "      <th>time_since_last_credit_pull</th>\n",
       "      <th>time_since_last_payment</th>\n",
       "      <th>total_pymnt</th>\n",
       "    </tr>\n",
       "  </thead>\n",
       "  <tbody>\n",
       "    <tr>\n",
       "      <td>count</td>\n",
       "      <td>1077.000000</td>\n",
       "      <td>1077.000000</td>\n",
       "      <td>1077.000000</td>\n",
       "      <td>1077.000000</td>\n",
       "      <td>1077.000000</td>\n",
       "      <td>1077.000000</td>\n",
       "      <td>1077.000000</td>\n",
       "    </tr>\n",
       "    <tr>\n",
       "      <td>mean</td>\n",
       "      <td>13.831012</td>\n",
       "      <td>0.987929</td>\n",
       "      <td>14891.759517</td>\n",
       "      <td>14.484002</td>\n",
       "      <td>21.798514</td>\n",
       "      <td>48.487465</td>\n",
       "      <td>16980.876099</td>\n",
       "    </tr>\n",
       "    <tr>\n",
       "      <td>std</td>\n",
       "      <td>7.128093</td>\n",
       "      <td>0.109252</td>\n",
       "      <td>8495.893251</td>\n",
       "      <td>4.531597</td>\n",
       "      <td>18.244042</td>\n",
       "      <td>14.869603</td>\n",
       "      <td>11101.700906</td>\n",
       "    </tr>\n",
       "    <tr>\n",
       "      <td>min</td>\n",
       "      <td>1.000000</td>\n",
       "      <td>0.000000</td>\n",
       "      <td>1000.000000</td>\n",
       "      <td>6.030000</td>\n",
       "      <td>4.000000</td>\n",
       "      <td>9.000000</td>\n",
       "      <td>319.280000</td>\n",
       "    </tr>\n",
       "    <tr>\n",
       "      <td>25%</td>\n",
       "      <td>9.000000</td>\n",
       "      <td>1.000000</td>\n",
       "      <td>8500.000000</td>\n",
       "      <td>10.900000</td>\n",
       "      <td>4.000000</td>\n",
       "      <td>38.000000</td>\n",
       "      <td>8861.639998</td>\n",
       "    </tr>\n",
       "    <tr>\n",
       "      <td>50%</td>\n",
       "      <td>12.000000</td>\n",
       "      <td>1.000000</td>\n",
       "      <td>13000.000000</td>\n",
       "      <td>14.200000</td>\n",
       "      <td>15.000000</td>\n",
       "      <td>48.000000</td>\n",
       "      <td>14305.887230</td>\n",
       "    </tr>\n",
       "    <tr>\n",
       "      <td>75%</td>\n",
       "      <td>17.000000</td>\n",
       "      <td>1.000000</td>\n",
       "      <td>20000.000000</td>\n",
       "      <td>17.500000</td>\n",
       "      <td>36.000000</td>\n",
       "      <td>60.000000</td>\n",
       "      <td>23290.938570</td>\n",
       "    </tr>\n",
       "    <tr>\n",
       "      <td>max</td>\n",
       "      <td>41.000000</td>\n",
       "      <td>1.000000</td>\n",
       "      <td>35000.000000</td>\n",
       "      <td>25.900000</td>\n",
       "      <td>83.000000</td>\n",
       "      <td>86.000000</td>\n",
       "      <td>61501.879640</td>\n",
       "    </tr>\n",
       "  </tbody>\n",
       "</table>\n",
       "</div>"
      ],
      "text/plain": [
       "       cred_length  debt_settlement_flag_N   funded_amnt     int_rate  \\\n",
       "count  1077.000000             1077.000000   1077.000000  1077.000000   \n",
       "mean     13.831012                0.987929  14891.759517    14.484002   \n",
       "std       7.128093                0.109252   8495.893251     4.531597   \n",
       "min       1.000000                0.000000   1000.000000     6.030000   \n",
       "25%       9.000000                1.000000   8500.000000    10.900000   \n",
       "50%      12.000000                1.000000  13000.000000    14.200000   \n",
       "75%      17.000000                1.000000  20000.000000    17.500000   \n",
       "max      41.000000                1.000000  35000.000000    25.900000   \n",
       "\n",
       "       time_since_last_credit_pull  time_since_last_payment   total_pymnt  \n",
       "count                  1077.000000              1077.000000   1077.000000  \n",
       "mean                     21.798514                48.487465  16980.876099  \n",
       "std                      18.244042                14.869603  11101.700906  \n",
       "min                       4.000000                 9.000000    319.280000  \n",
       "25%                       4.000000                38.000000   8861.639998  \n",
       "50%                      15.000000                48.000000  14305.887230  \n",
       "75%                      36.000000                60.000000  23290.938570  \n",
       "max                      83.000000                86.000000  61501.879640  "
      ]
     },
     "execution_count": 315,
     "metadata": {},
     "output_type": "execute_result"
    }
   ],
   "source": [
    "X_test2.iloc[y_test2.iloc[y_test2.reset_index().index[super_wrong_pred]].index].describe()"
   ]
  },
  {
   "cell_type": "code",
   "execution_count": null,
   "metadata": {
    "collapsed": true
   },
   "outputs": [],
   "source": []
  },
  {
   "cell_type": "code",
   "execution_count": null,
   "metadata": {
    "collapsed": true
   },
   "outputs": [],
   "source": []
  },
  {
   "cell_type": "code",
   "execution_count": null,
   "metadata": {
    "collapsed": true
   },
   "outputs": [],
   "source": []
  },
  {
   "cell_type": "code",
   "execution_count": null,
   "metadata": {
    "collapsed": true
   },
   "outputs": [],
   "source": []
  },
  {
   "cell_type": "code",
   "execution_count": null,
   "metadata": {
    "collapsed": true
   },
   "outputs": [],
   "source": []
  },
  {
   "cell_type": "markdown",
   "metadata": {},
   "source": [
    "y_test3 = Test2.loan_status.apply(lambda x: 1 if x =='Fully Paid' else 0)\n",
    "#y_test3.reindex(range(len(y_test3)))\n",
    "y_test3.as_matrix().reshape(-1, 1)\n",
    "y_test3.reset_index().iloc[5000, :]"
   ]
  },
  {
   "cell_type": "markdown",
   "metadata": {},
   "source": [
    "plt.figure(figsize = (24, 6))\n",
    "sns.heatmap(df1.sample(frac = 0.01, random_state= 1).isnull())\n",
    "plt.show()"
   ]
  },
  {
   "cell_type": "code",
   "execution_count": 256,
   "metadata": {
    "collapsed": true
   },
   "outputs": [],
   "source": [
    "train_core= df1[[\"loan_status\",'total_rec_int', 'total_pymnt_inv',\"funded_amnt_inv\",'funded_amnt','loan_amnt','amount', 'rate', 'int_rate', 'dti', 'annual_inc', 'installment', 'emp_length', 'grade','sub_grade', \"pub_rec\"]]"
   ]
  },
  {
   "cell_type": "code",
   "execution_count": 264,
   "metadata": {
    "collapsed": true
   },
   "outputs": [],
   "source": [
    "train_core= df1[[\"loan_status\",\"verification_status\",'total_rec_int', 'total_rec_prncp','total_pymnt_inv',\"funded_amnt_inv\",'funded_amnt', 'int_rate', 'dti', 'home_ownership','annual_inc', 'installment', 'emp_length', 'grade','delinq_amnt', 'debt_settlement_flag','acc_now_delinq','delinq_2yrs','tax_liens',\"pub_rec\"]]"
   ]
  },
  {
   "cell_type": "markdown",
   "metadata": {},
   "source": [
    "train_core[train_core.funded_amnt - train_core.total_rec_prncp <=0.1].groupby(\"loan_status\").count()"
   ]
  },
  {
   "cell_type": "code",
   "execution_count": null,
   "metadata": {
    "collapsed": true
   },
   "outputs": [],
   "source": []
  },
  {
   "cell_type": "markdown",
   "metadata": {
    "collapsed": true
   },
   "source": [
    "df07 = pd.read_csv(\"Dataset1.csv\", nrows=1000)"
   ]
  },
  {
   "cell_type": "code",
   "execution_count": 234,
   "metadata": {},
   "outputs": [
    {
     "data": {
      "text/plain": [
       "['acc_now_delinq',\n",
       " 'acc_open_past_24mths',\n",
       " 'addr_state',\n",
       " 'all_util',\n",
       " 'amount',\n",
       " 'annual_inc',\n",
       " 'annual_inc_joint',\n",
       " 'application_type',\n",
       " 'avg_cur_bal',\n",
       " 'bc_open_to_buy',\n",
       " 'bc_util',\n",
       " 'chargeoff_within_12_mths',\n",
       " 'collection_recovery_fee',\n",
       " 'collections_12_mths_ex_med',\n",
       " 'debt_settlement_flag',\n",
       " 'debt_settlement_flag_date',\n",
       " 'deferral_term',\n",
       " 'delinq_2yrs',\n",
       " 'delinq_amnt',\n",
       " 'desc',\n",
       " 'dti',\n",
       " 'dti_joint',\n",
       " 'earliest_cr_line',\n",
       " 'emp_length',\n",
       " 'emp_title',\n",
       " 'funded_amnt',\n",
       " 'funded_amnt_inv',\n",
       " 'grade',\n",
       " 'hardship_amount',\n",
       " 'hardship_dpd',\n",
       " 'hardship_end_date',\n",
       " 'hardship_flag',\n",
       " 'hardship_last_payment_amount',\n",
       " 'hardship_length',\n",
       " 'hardship_loan_status',\n",
       " 'hardship_payoff_balance_amount',\n",
       " 'hardship_reason',\n",
       " 'hardship_start_date',\n",
       " 'hardship_status',\n",
       " 'hardship_type',\n",
       " 'home_ownership',\n",
       " 'id',\n",
       " 'il_util',\n",
       " 'initial_list_status',\n",
       " 'inq_fi',\n",
       " 'inq_last_12m',\n",
       " 'inq_last_6mths',\n",
       " 'installment',\n",
       " 'int_rate',\n",
       " 'issue_d',\n",
       " 'last_credit_pull_d',\n",
       " 'last_pymnt_amnt',\n",
       " 'last_pymnt_d',\n",
       " 'loan_amnt',\n",
       " 'loan_status',\n",
       " 'max_bal_bc',\n",
       " 'member_id',\n",
       " 'mo_sin_old_il_acct',\n",
       " 'mo_sin_old_rev_tl_op',\n",
       " 'mo_sin_rcnt_rev_tl_op',\n",
       " 'mo_sin_rcnt_tl',\n",
       " 'mort_acc',\n",
       " 'mths_since_last_delinq',\n",
       " 'mths_since_last_major_derog',\n",
       " 'mths_since_last_record',\n",
       " 'mths_since_rcnt_il',\n",
       " 'mths_since_recent_bc',\n",
       " 'mths_since_recent_bc_dlq',\n",
       " 'mths_since_recent_inq',\n",
       " 'mths_since_recent_revol_delinq',\n",
       " 'next_pymnt_d',\n",
       " 'num_accts_ever_120_pd',\n",
       " 'num_actv_bc_tl',\n",
       " 'num_actv_rev_tl',\n",
       " 'num_bc_sats',\n",
       " 'num_bc_tl',\n",
       " 'num_il_tl',\n",
       " 'num_op_rev_tl',\n",
       " 'num_rev_accts',\n",
       " 'num_rev_tl_bal_gt_0',\n",
       " 'num_sats',\n",
       " 'num_tl_120dpd_2m',\n",
       " 'num_tl_30dpd',\n",
       " 'num_tl_90g_dpd_24m',\n",
       " 'num_tl_op_past_12m',\n",
       " 'open_acc',\n",
       " 'open_acc_6m',\n",
       " 'open_act_il',\n",
       " 'open_il_12m',\n",
       " 'open_il_24m',\n",
       " 'open_rv_12m',\n",
       " 'open_rv_24m',\n",
       " 'orig_projected_additional_accrued_interest',\n",
       " 'out_prncp',\n",
       " 'out_prncp_inv',\n",
       " 'payment_plan_start_date',\n",
       " 'pct_tl_nvr_dlq',\n",
       " 'percent_bc_gt_75',\n",
       " 'policy_code',\n",
       " 'pub_rec',\n",
       " 'pub_rec_bankruptcies',\n",
       " 'purpose',\n",
       " 'pymnt_plan',\n",
       " 'rate',\n",
       " 'recoveries',\n",
       " 'revol_bal_joint',\n",
       " 'sec_app_chargeoff_within_12_mths',\n",
       " 'sec_app_collections_12_mths_ex_med',\n",
       " 'sec_app_earliest_cr_line',\n",
       " 'sec_app_inq_last_6mths',\n",
       " 'sec_app_mort_acc',\n",
       " 'sec_app_mths_since_last_major_derog',\n",
       " 'sec_app_num_rev_accts',\n",
       " 'sec_app_open_acc',\n",
       " 'sec_app_open_act_il',\n",
       " 'sec_app_revol_util',\n",
       " 'settlement_amount',\n",
       " 'settlement_date',\n",
       " 'settlement_percentage',\n",
       " 'settlement_status',\n",
       " 'settlement_term',\n",
       " 'sub_grade',\n",
       " 'tax_liens',\n",
       " 'term',\n",
       " 'title',\n",
       " 'tot_coll_amt',\n",
       " 'tot_cur_bal',\n",
       " 'tot_hi_cred_lim',\n",
       " 'total_acc',\n",
       " 'total_bal_ex_mort',\n",
       " 'total_bal_il',\n",
       " 'total_bc_limit',\n",
       " 'total_cu_tl',\n",
       " 'total_il_high_credit_limit',\n",
       " 'total_pymnt',\n",
       " 'total_pymnt_inv',\n",
       " 'total_rec_int',\n",
       " 'total_rec_late_fee',\n",
       " 'total_rec_prncp',\n",
       " 'total_rev_hi_lim',\n",
       " 'url',\n",
       " 'verification_status',\n",
       " 'verification_status_joint',\n",
       " 'zip_code']"
      ]
     },
     "execution_count": 234,
     "metadata": {},
     "output_type": "execute_result"
    }
   ],
   "source": [
    "sorted(list(df07.columns))"
   ]
  },
  {
   "cell_type": "code",
   "execution_count": 331,
   "metadata": {},
   "outputs": [
    {
     "data": {
      "text/plain": [
       "0     NaN\n",
       "1     NaN\n",
       "2     NaN\n",
       "3     NaN\n",
       "4     NaN\n",
       "       ..\n",
       "995   NaN\n",
       "996   NaN\n",
       "997   NaN\n",
       "998   NaN\n",
       "999   NaN\n",
       "Name: max_bal_bc, Length: 1000, dtype: float64"
      ]
     },
     "execution_count": 331,
     "metadata": {},
     "output_type": "execute_result"
    }
   ],
   "source": [
    "df07.max_bal_bc"
   ]
  },
  {
   "cell_type": "code",
   "execution_count": null,
   "metadata": {
    "collapsed": true
   },
   "outputs": [],
   "source": []
  },
  {
   "cell_type": "code",
   "execution_count": null,
   "metadata": {
    "collapsed": true
   },
   "outputs": [],
   "source": []
  },
  {
   "cell_type": "code",
   "execution_count": null,
   "metadata": {
    "collapsed": true
   },
   "outputs": [],
   "source": []
  }
 ],
 "metadata": {
  "kernelspec": {
   "display_name": "Python 3",
   "language": "python",
   "name": "python3"
  },
  "language_info": {
   "codemirror_mode": {
    "name": "ipython",
    "version": 3
   },
   "file_extension": ".py",
   "mimetype": "text/x-python",
   "name": "python",
   "nbconvert_exporter": "python",
   "pygments_lexer": "ipython3",
   "version": "3.6.8"
  }
 },
 "nbformat": 4,
 "nbformat_minor": 2
}
